{
 "cells": [
  {
   "cell_type": "code",
   "execution_count": 1,
   "id": "b0f77741",
   "metadata": {
    "_cell_guid": "b1076dfc-b9ad-4769-8c92-a6c4dae69d19",
    "_uuid": "8f2839f25d086af736a60e9eeb907d3b93b6e0e5",
    "execution": {
     "iopub.execute_input": "2025-07-11T13:38:21.576705Z",
     "iopub.status.busy": "2025-07-11T13:38:21.576297Z",
     "iopub.status.idle": "2025-07-11T13:38:23.717551Z",
     "shell.execute_reply": "2025-07-11T13:38:23.716417Z"
    },
    "papermill": {
     "duration": 2.151472,
     "end_time": "2025-07-11T13:38:23.719310",
     "exception": false,
     "start_time": "2025-07-11T13:38:21.567838",
     "status": "completed"
    },
    "tags": []
   },
   "outputs": [
    {
     "name": "stdout",
     "output_type": "stream",
     "text": [
      "/kaggle/input/titanic/train.csv\n",
      "/kaggle/input/titanic/test.csv\n",
      "/kaggle/input/titanic/gender_submission.csv\n"
     ]
    }
   ],
   "source": [
    "# This Python 3 environment comes with many helpful analytics libraries installed\n",
    "# It is defined by the kaggle/python Docker image: https://github.com/kaggle/docker-python\n",
    "# For example, here's several helpful packages to load\n",
    "\n",
    "import numpy as np # linear algebra\n",
    "import pandas as pd # data processing, CSV file I/O (e.g. pd.read_csv)\n",
    "\n",
    "# Input data files are available in the read-only \"../input/\" directory\n",
    "# For example, running this (by clicking run or pressing Shift+Enter) will list all files under the input directory\n",
    "\n",
    "import os\n",
    "for dirname, _, filenames in os.walk('/kaggle/input'):\n",
    "    for filename in filenames:\n",
    "        print(os.path.join(dirname, filename))\n",
    "\n",
    "# You can write up to 20GB to the current directory (/kaggle/working/) that gets preserved as output when you create a version using \"Save & Run All\" \n",
    "# You can also write temporary files to /kaggle/temp/, but they won't be saved outside of the current session"
   ]
  },
  {
   "cell_type": "code",
   "execution_count": 2,
   "id": "eb34b5f6",
   "metadata": {
    "execution": {
     "iopub.execute_input": "2025-07-11T13:38:23.734497Z",
     "iopub.status.busy": "2025-07-11T13:38:23.733813Z",
     "iopub.status.idle": "2025-07-11T13:38:27.005221Z",
     "shell.execute_reply": "2025-07-11T13:38:27.004171Z"
    },
    "papermill": {
     "duration": 3.281635,
     "end_time": "2025-07-11T13:38:27.007041",
     "exception": false,
     "start_time": "2025-07-11T13:38:23.725406",
     "status": "completed"
    },
    "tags": []
   },
   "outputs": [],
   "source": [
    "#Importing dependencies\n",
    "from sklearn.model_selection import train_test_split\n",
    "from sklearn.ensemble import GradientBoostingRegressor\n",
    "from sklearn.metrics import mean_squared_error\n",
    "from sklearn.datasets import make_regression\n",
    "import time\n",
    "import xgboost as xgb\n",
    "from sklearn.ensemble import RandomForestClassifier"
   ]
  },
  {
   "cell_type": "code",
   "execution_count": 3,
   "id": "233c004a",
   "metadata": {
    "execution": {
     "iopub.execute_input": "2025-07-11T13:38:27.020670Z",
     "iopub.status.busy": "2025-07-11T13:38:27.020166Z",
     "iopub.status.idle": "2025-07-11T13:38:27.024841Z",
     "shell.execute_reply": "2025-07-11T13:38:27.023936Z"
    },
    "papermill": {
     "duration": 0.013482,
     "end_time": "2025-07-11T13:38:27.026397",
     "exception": false,
     "start_time": "2025-07-11T13:38:27.012915",
     "status": "completed"
    },
    "tags": []
   },
   "outputs": [],
   "source": [
    "features=[\"Pclass\", \"Sex\",\"Age\", \"SibSp\", \"Parch\",\"Embarked\",\"Cabin Index\",\"Fare\"]"
   ]
  },
  {
   "cell_type": "code",
   "execution_count": 4,
   "id": "5e6c8bcc",
   "metadata": {
    "execution": {
     "iopub.execute_input": "2025-07-11T13:38:27.039268Z",
     "iopub.status.busy": "2025-07-11T13:38:27.038899Z",
     "iopub.status.idle": "2025-07-11T13:38:27.088647Z",
     "shell.execute_reply": "2025-07-11T13:38:27.087182Z"
    },
    "papermill": {
     "duration": 0.05871,
     "end_time": "2025-07-11T13:38:27.090721",
     "exception": false,
     "start_time": "2025-07-11T13:38:27.032011",
     "status": "completed"
    },
    "tags": []
   },
   "outputs": [
    {
     "data": {
      "text/html": [
       "<div>\n",
       "<style scoped>\n",
       "    .dataframe tbody tr th:only-of-type {\n",
       "        vertical-align: middle;\n",
       "    }\n",
       "\n",
       "    .dataframe tbody tr th {\n",
       "        vertical-align: top;\n",
       "    }\n",
       "\n",
       "    .dataframe thead th {\n",
       "        text-align: right;\n",
       "    }\n",
       "</style>\n",
       "<table border=\"1\" class=\"dataframe\">\n",
       "  <thead>\n",
       "    <tr style=\"text-align: right;\">\n",
       "      <th></th>\n",
       "      <th>PassengerId</th>\n",
       "      <th>Survived</th>\n",
       "      <th>Pclass</th>\n",
       "      <th>Name</th>\n",
       "      <th>Sex</th>\n",
       "      <th>Age</th>\n",
       "      <th>SibSp</th>\n",
       "      <th>Parch</th>\n",
       "      <th>Ticket</th>\n",
       "      <th>Fare</th>\n",
       "      <th>Cabin</th>\n",
       "      <th>Embarked</th>\n",
       "    </tr>\n",
       "  </thead>\n",
       "  <tbody>\n",
       "    <tr>\n",
       "      <th>0</th>\n",
       "      <td>1</td>\n",
       "      <td>0</td>\n",
       "      <td>3</td>\n",
       "      <td>Braund, Mr. Owen Harris</td>\n",
       "      <td>male</td>\n",
       "      <td>22.0</td>\n",
       "      <td>1</td>\n",
       "      <td>0</td>\n",
       "      <td>A/5 21171</td>\n",
       "      <td>7.2500</td>\n",
       "      <td>NaN</td>\n",
       "      <td>S</td>\n",
       "    </tr>\n",
       "    <tr>\n",
       "      <th>1</th>\n",
       "      <td>2</td>\n",
       "      <td>1</td>\n",
       "      <td>1</td>\n",
       "      <td>Cumings, Mrs. John Bradley (Florence Briggs Th...</td>\n",
       "      <td>female</td>\n",
       "      <td>38.0</td>\n",
       "      <td>1</td>\n",
       "      <td>0</td>\n",
       "      <td>PC 17599</td>\n",
       "      <td>71.2833</td>\n",
       "      <td>C85</td>\n",
       "      <td>C</td>\n",
       "    </tr>\n",
       "    <tr>\n",
       "      <th>2</th>\n",
       "      <td>3</td>\n",
       "      <td>1</td>\n",
       "      <td>3</td>\n",
       "      <td>Heikkinen, Miss. Laina</td>\n",
       "      <td>female</td>\n",
       "      <td>26.0</td>\n",
       "      <td>0</td>\n",
       "      <td>0</td>\n",
       "      <td>STON/O2. 3101282</td>\n",
       "      <td>7.9250</td>\n",
       "      <td>NaN</td>\n",
       "      <td>S</td>\n",
       "    </tr>\n",
       "    <tr>\n",
       "      <th>3</th>\n",
       "      <td>4</td>\n",
       "      <td>1</td>\n",
       "      <td>1</td>\n",
       "      <td>Futrelle, Mrs. Jacques Heath (Lily May Peel)</td>\n",
       "      <td>female</td>\n",
       "      <td>35.0</td>\n",
       "      <td>1</td>\n",
       "      <td>0</td>\n",
       "      <td>113803</td>\n",
       "      <td>53.1000</td>\n",
       "      <td>C123</td>\n",
       "      <td>S</td>\n",
       "    </tr>\n",
       "    <tr>\n",
       "      <th>4</th>\n",
       "      <td>5</td>\n",
       "      <td>0</td>\n",
       "      <td>3</td>\n",
       "      <td>Allen, Mr. William Henry</td>\n",
       "      <td>male</td>\n",
       "      <td>35.0</td>\n",
       "      <td>0</td>\n",
       "      <td>0</td>\n",
       "      <td>373450</td>\n",
       "      <td>8.0500</td>\n",
       "      <td>NaN</td>\n",
       "      <td>S</td>\n",
       "    </tr>\n",
       "  </tbody>\n",
       "</table>\n",
       "</div>"
      ],
      "text/plain": [
       "   PassengerId  Survived  Pclass  \\\n",
       "0            1         0       3   \n",
       "1            2         1       1   \n",
       "2            3         1       3   \n",
       "3            4         1       1   \n",
       "4            5         0       3   \n",
       "\n",
       "                                                Name     Sex   Age  SibSp  \\\n",
       "0                            Braund, Mr. Owen Harris    male  22.0      1   \n",
       "1  Cumings, Mrs. John Bradley (Florence Briggs Th...  female  38.0      1   \n",
       "2                             Heikkinen, Miss. Laina  female  26.0      0   \n",
       "3       Futrelle, Mrs. Jacques Heath (Lily May Peel)  female  35.0      1   \n",
       "4                           Allen, Mr. William Henry    male  35.0      0   \n",
       "\n",
       "   Parch            Ticket     Fare Cabin Embarked  \n",
       "0      0         A/5 21171   7.2500   NaN        S  \n",
       "1      0          PC 17599  71.2833   C85        C  \n",
       "2      0  STON/O2. 3101282   7.9250   NaN        S  \n",
       "3      0            113803  53.1000  C123        S  \n",
       "4      0            373450   8.0500   NaN        S  "
      ]
     },
     "execution_count": 4,
     "metadata": {},
     "output_type": "execute_result"
    }
   ],
   "source": [
    "train_data = pd.read_csv(\"/kaggle/input/titanic/train.csv\")\n",
    "train_data.head()"
   ]
  },
  {
   "cell_type": "code",
   "execution_count": 5,
   "id": "4cc449bf",
   "metadata": {
    "execution": {
     "iopub.execute_input": "2025-07-11T13:38:27.106278Z",
     "iopub.status.busy": "2025-07-11T13:38:27.105148Z",
     "iopub.status.idle": "2025-07-11T13:38:27.111078Z",
     "shell.execute_reply": "2025-07-11T13:38:27.109860Z"
    },
    "papermill": {
     "duration": 0.015991,
     "end_time": "2025-07-11T13:38:27.113352",
     "exception": false,
     "start_time": "2025-07-11T13:38:27.097361",
     "status": "completed"
    },
    "tags": []
   },
   "outputs": [],
   "source": [
    "def testNa (df,features=features):\n",
    "    for feat in features : \n",
    "        print(feat,\" : NANs : \", sum(df[feat].isna()))"
   ]
  },
  {
   "cell_type": "code",
   "execution_count": 6,
   "id": "d859c443",
   "metadata": {
    "execution": {
     "iopub.execute_input": "2025-07-11T13:38:27.127325Z",
     "iopub.status.busy": "2025-07-11T13:38:27.126931Z",
     "iopub.status.idle": "2025-07-11T13:38:27.133294Z",
     "shell.execute_reply": "2025-07-11T13:38:27.132129Z"
    },
    "papermill": {
     "duration": 0.015858,
     "end_time": "2025-07-11T13:38:27.135503",
     "exception": false,
     "start_time": "2025-07-11T13:38:27.119645",
     "status": "completed"
    },
    "tags": []
   },
   "outputs": [],
   "source": [
    "def fillCabin(df):\n",
    "    df = df.copy()\n",
    "    df.loc[df['Cabin'].notnull(), 'Cabin Index'] = df['Cabin'].str[0]\n",
    "    df.fillna({\"Cabin Index\":\"Unknown\"},inplace=True)\n",
    "    return df"
   ]
  },
  {
   "cell_type": "code",
   "execution_count": 7,
   "id": "1d4654f0",
   "metadata": {
    "execution": {
     "iopub.execute_input": "2025-07-11T13:38:27.149272Z",
     "iopub.status.busy": "2025-07-11T13:38:27.148915Z",
     "iopub.status.idle": "2025-07-11T13:38:27.154276Z",
     "shell.execute_reply": "2025-07-11T13:38:27.153343Z"
    },
    "papermill": {
     "duration": 0.013358,
     "end_time": "2025-07-11T13:38:27.155800",
     "exception": false,
     "start_time": "2025-07-11T13:38:27.142442",
     "status": "completed"
    },
    "tags": []
   },
   "outputs": [],
   "source": [
    "def FillN (orig_df, cols):\n",
    "    df = orig_df.copy()\n",
    "    for col in cols:\n",
    "        s = df[col].value_counts(normalize=True)\n",
    "        print(s)\n",
    "        missing = df[col].isnull()\n",
    "        df.loc[missing,col] = np.random.choice(s.index, size=len(df[missing]),p=s.values)\n",
    "    return df"
   ]
  },
  {
   "cell_type": "code",
   "execution_count": 8,
   "id": "ff6a7d00",
   "metadata": {
    "execution": {
     "iopub.execute_input": "2025-07-11T13:38:27.168577Z",
     "iopub.status.busy": "2025-07-11T13:38:27.168198Z",
     "iopub.status.idle": "2025-07-11T13:38:27.198508Z",
     "shell.execute_reply": "2025-07-11T13:38:27.197174Z"
    },
    "papermill": {
     "duration": 0.039118,
     "end_time": "2025-07-11T13:38:27.200635",
     "exception": false,
     "start_time": "2025-07-11T13:38:27.161517",
     "status": "completed"
    },
    "tags": []
   },
   "outputs": [
    {
     "name": "stdout",
     "output_type": "stream",
     "text": [
      "Age\n",
      "24.00    0.042017\n",
      "22.00    0.037815\n",
      "18.00    0.036415\n",
      "19.00    0.035014\n",
      "28.00    0.035014\n",
      "           ...   \n",
      "36.50    0.001401\n",
      "55.50    0.001401\n",
      "0.92     0.001401\n",
      "23.50    0.001401\n",
      "74.00    0.001401\n",
      "Name: proportion, Length: 88, dtype: float64\n",
      "Embarked\n",
      "S    0.724409\n",
      "C    0.188976\n",
      "Q    0.086614\n",
      "Name: proportion, dtype: float64\n",
      "Fare\n",
      "8.0500     0.048260\n",
      "13.0000    0.047138\n",
      "7.8958     0.042649\n",
      "7.7500     0.038159\n",
      "26.0000    0.034792\n",
      "             ...   \n",
      "35.0000    0.001122\n",
      "28.5000    0.001122\n",
      "6.2375     0.001122\n",
      "14.0000    0.001122\n",
      "10.5167    0.001122\n",
      "Name: proportion, Length: 248, dtype: float64\n"
     ]
    }
   ],
   "source": [
    "df = train_data.copy()\n",
    "new_train_df = FillN(df, [\"Age\",\"Embarked\",\"Fare\"])\n",
    "new_train_df = fillCabin(new_train_df)"
   ]
  },
  {
   "cell_type": "code",
   "execution_count": 9,
   "id": "9186f157",
   "metadata": {
    "execution": {
     "iopub.execute_input": "2025-07-11T13:38:27.213478Z",
     "iopub.status.busy": "2025-07-11T13:38:27.213127Z",
     "iopub.status.idle": "2025-07-11T13:38:27.220289Z",
     "shell.execute_reply": "2025-07-11T13:38:27.219200Z"
    },
    "papermill": {
     "duration": 0.01555,
     "end_time": "2025-07-11T13:38:27.222051",
     "exception": false,
     "start_time": "2025-07-11T13:38:27.206501",
     "status": "completed"
    },
    "tags": []
   },
   "outputs": [
    {
     "data": {
      "text/plain": [
       "array([nan, 'C85', 'C123', 'E46', 'G6', 'C103', 'D56', 'A6',\n",
       "       'C23 C25 C27', 'B78', 'D33', 'B30', 'C52', 'B28', 'C83', 'F33',\n",
       "       'F G73', 'E31', 'A5', 'D10 D12', 'D26', 'C110', 'B58 B60', 'E101',\n",
       "       'F E69', 'D47', 'B86', 'F2', 'C2', 'E33', 'B19', 'A7', 'C49', 'F4',\n",
       "       'A32', 'B4', 'B80', 'A31', 'D36', 'D15', 'C93', 'C78', 'D35',\n",
       "       'C87', 'B77', 'E67', 'B94', 'C125', 'C99', 'C118', 'D7', 'A19',\n",
       "       'B49', 'D', 'C22 C26', 'C106', 'C65', 'E36', 'C54',\n",
       "       'B57 B59 B63 B66', 'C7', 'E34', 'C32', 'B18', 'C124', 'C91', 'E40',\n",
       "       'T', 'C128', 'D37', 'B35', 'E50', 'C82', 'B96 B98', 'E10', 'E44',\n",
       "       'A34', 'C104', 'C111', 'C92', 'E38', 'D21', 'E12', 'E63', 'A14',\n",
       "       'B37', 'C30', 'D20', 'B79', 'E25', 'D46', 'B73', 'C95', 'B38',\n",
       "       'B39', 'B22', 'C86', 'C70', 'A16', 'C101', 'C68', 'A10', 'E68',\n",
       "       'B41', 'A20', 'D19', 'D50', 'D9', 'A23', 'B50', 'A26', 'D48',\n",
       "       'E58', 'C126', 'B71', 'B51 B53 B55', 'D49', 'B5', 'B20', 'F G63',\n",
       "       'C62 C64', 'E24', 'C90', 'C45', 'E8', 'B101', 'D45', 'C46', 'D30',\n",
       "       'E121', 'D11', 'E77', 'F38', 'B3', 'D6', 'B82 B84', 'D17', 'A36',\n",
       "       'B102', 'B69', 'E49', 'C47', 'D28', 'E17', 'A24', 'C50', 'B42',\n",
       "       'C148'], dtype=object)"
      ]
     },
     "execution_count": 9,
     "metadata": {},
     "output_type": "execute_result"
    }
   ],
   "source": [
    "train_data.Cabin.unique()"
   ]
  },
  {
   "cell_type": "code",
   "execution_count": 10,
   "id": "c8333296",
   "metadata": {
    "execution": {
     "iopub.execute_input": "2025-07-11T13:38:27.236169Z",
     "iopub.status.busy": "2025-07-11T13:38:27.235872Z",
     "iopub.status.idle": "2025-07-11T13:38:27.244499Z",
     "shell.execute_reply": "2025-07-11T13:38:27.243385Z"
    },
    "papermill": {
     "duration": 0.01829,
     "end_time": "2025-07-11T13:38:27.246227",
     "exception": false,
     "start_time": "2025-07-11T13:38:27.227937",
     "status": "completed"
    },
    "tags": []
   },
   "outputs": [
    {
     "data": {
      "text/plain": [
       "array(['Unknown', 'C', 'E', 'G', 'D', 'A', 'B', 'F', 'T'], dtype=object)"
      ]
     },
     "execution_count": 10,
     "metadata": {},
     "output_type": "execute_result"
    }
   ],
   "source": [
    "new_train_df[\"Cabin Index\"].unique()"
   ]
  },
  {
   "cell_type": "code",
   "execution_count": 11,
   "id": "63f0e6ef",
   "metadata": {
    "execution": {
     "iopub.execute_input": "2025-07-11T13:38:27.262887Z",
     "iopub.status.busy": "2025-07-11T13:38:27.262488Z",
     "iopub.status.idle": "2025-07-11T13:38:27.270931Z",
     "shell.execute_reply": "2025-07-11T13:38:27.269726Z"
    },
    "papermill": {
     "duration": 0.01857,
     "end_time": "2025-07-11T13:38:27.272717",
     "exception": false,
     "start_time": "2025-07-11T13:38:27.254147",
     "status": "completed"
    },
    "tags": []
   },
   "outputs": [
    {
     "data": {
      "text/plain": [
       "[339]"
      ]
     },
     "execution_count": 11,
     "metadata": {},
     "output_type": "execute_result"
    }
   ],
   "source": [
    "new_train_df.index[new_train_df['Cabin']==\"T\"].tolist()\n"
   ]
  },
  {
   "cell_type": "code",
   "execution_count": 12,
   "id": "b4f0aaac",
   "metadata": {
    "execution": {
     "iopub.execute_input": "2025-07-11T13:38:27.287207Z",
     "iopub.status.busy": "2025-07-11T13:38:27.286875Z",
     "iopub.status.idle": "2025-07-11T13:38:27.303275Z",
     "shell.execute_reply": "2025-07-11T13:38:27.302226Z"
    },
    "papermill": {
     "duration": 0.025993,
     "end_time": "2025-07-11T13:38:27.305108",
     "exception": false,
     "start_time": "2025-07-11T13:38:27.279115",
     "status": "completed"
    },
    "tags": []
   },
   "outputs": [
    {
     "data": {
      "text/html": [
       "<div>\n",
       "<style scoped>\n",
       "    .dataframe tbody tr th:only-of-type {\n",
       "        vertical-align: middle;\n",
       "    }\n",
       "\n",
       "    .dataframe tbody tr th {\n",
       "        vertical-align: top;\n",
       "    }\n",
       "\n",
       "    .dataframe thead th {\n",
       "        text-align: right;\n",
       "    }\n",
       "</style>\n",
       "<table border=\"1\" class=\"dataframe\">\n",
       "  <thead>\n",
       "    <tr style=\"text-align: right;\">\n",
       "      <th></th>\n",
       "      <th>PassengerId</th>\n",
       "      <th>Survived</th>\n",
       "      <th>Pclass</th>\n",
       "      <th>Name</th>\n",
       "      <th>Sex</th>\n",
       "      <th>Age</th>\n",
       "      <th>SibSp</th>\n",
       "      <th>Parch</th>\n",
       "      <th>Ticket</th>\n",
       "      <th>Fare</th>\n",
       "      <th>Cabin</th>\n",
       "      <th>Embarked</th>\n",
       "      <th>Cabin Index</th>\n",
       "    </tr>\n",
       "  </thead>\n",
       "  <tbody>\n",
       "    <tr>\n",
       "      <th>0</th>\n",
       "      <td>1</td>\n",
       "      <td>0</td>\n",
       "      <td>3</td>\n",
       "      <td>Braund, Mr. Owen Harris</td>\n",
       "      <td>male</td>\n",
       "      <td>22.0</td>\n",
       "      <td>1</td>\n",
       "      <td>0</td>\n",
       "      <td>A/5 21171</td>\n",
       "      <td>7.2500</td>\n",
       "      <td>NaN</td>\n",
       "      <td>S</td>\n",
       "      <td>Unknown</td>\n",
       "    </tr>\n",
       "    <tr>\n",
       "      <th>1</th>\n",
       "      <td>2</td>\n",
       "      <td>1</td>\n",
       "      <td>1</td>\n",
       "      <td>Cumings, Mrs. John Bradley (Florence Briggs Th...</td>\n",
       "      <td>female</td>\n",
       "      <td>38.0</td>\n",
       "      <td>1</td>\n",
       "      <td>0</td>\n",
       "      <td>PC 17599</td>\n",
       "      <td>71.2833</td>\n",
       "      <td>C85</td>\n",
       "      <td>C</td>\n",
       "      <td>C</td>\n",
       "    </tr>\n",
       "    <tr>\n",
       "      <th>2</th>\n",
       "      <td>3</td>\n",
       "      <td>1</td>\n",
       "      <td>3</td>\n",
       "      <td>Heikkinen, Miss. Laina</td>\n",
       "      <td>female</td>\n",
       "      <td>26.0</td>\n",
       "      <td>0</td>\n",
       "      <td>0</td>\n",
       "      <td>STON/O2. 3101282</td>\n",
       "      <td>7.9250</td>\n",
       "      <td>NaN</td>\n",
       "      <td>S</td>\n",
       "      <td>Unknown</td>\n",
       "    </tr>\n",
       "    <tr>\n",
       "      <th>3</th>\n",
       "      <td>4</td>\n",
       "      <td>1</td>\n",
       "      <td>1</td>\n",
       "      <td>Futrelle, Mrs. Jacques Heath (Lily May Peel)</td>\n",
       "      <td>female</td>\n",
       "      <td>35.0</td>\n",
       "      <td>1</td>\n",
       "      <td>0</td>\n",
       "      <td>113803</td>\n",
       "      <td>53.1000</td>\n",
       "      <td>C123</td>\n",
       "      <td>S</td>\n",
       "      <td>C</td>\n",
       "    </tr>\n",
       "    <tr>\n",
       "      <th>4</th>\n",
       "      <td>5</td>\n",
       "      <td>0</td>\n",
       "      <td>3</td>\n",
       "      <td>Allen, Mr. William Henry</td>\n",
       "      <td>male</td>\n",
       "      <td>35.0</td>\n",
       "      <td>0</td>\n",
       "      <td>0</td>\n",
       "      <td>373450</td>\n",
       "      <td>8.0500</td>\n",
       "      <td>NaN</td>\n",
       "      <td>S</td>\n",
       "      <td>Unknown</td>\n",
       "    </tr>\n",
       "  </tbody>\n",
       "</table>\n",
       "</div>"
      ],
      "text/plain": [
       "   PassengerId  Survived  Pclass  \\\n",
       "0            1         0       3   \n",
       "1            2         1       1   \n",
       "2            3         1       3   \n",
       "3            4         1       1   \n",
       "4            5         0       3   \n",
       "\n",
       "                                                Name     Sex   Age  SibSp  \\\n",
       "0                            Braund, Mr. Owen Harris    male  22.0      1   \n",
       "1  Cumings, Mrs. John Bradley (Florence Briggs Th...  female  38.0      1   \n",
       "2                             Heikkinen, Miss. Laina  female  26.0      0   \n",
       "3       Futrelle, Mrs. Jacques Heath (Lily May Peel)  female  35.0      1   \n",
       "4                           Allen, Mr. William Henry    male  35.0      0   \n",
       "\n",
       "   Parch            Ticket     Fare Cabin Embarked Cabin Index  \n",
       "0      0         A/5 21171   7.2500   NaN        S     Unknown  \n",
       "1      0          PC 17599  71.2833   C85        C           C  \n",
       "2      0  STON/O2. 3101282   7.9250   NaN        S     Unknown  \n",
       "3      0            113803  53.1000  C123        S           C  \n",
       "4      0            373450   8.0500   NaN        S     Unknown  "
      ]
     },
     "execution_count": 12,
     "metadata": {},
     "output_type": "execute_result"
    }
   ],
   "source": [
    "new_train_df.head()"
   ]
  },
  {
   "cell_type": "code",
   "execution_count": 13,
   "id": "f5c5baae",
   "metadata": {
    "execution": {
     "iopub.execute_input": "2025-07-11T13:38:27.318751Z",
     "iopub.status.busy": "2025-07-11T13:38:27.318420Z",
     "iopub.status.idle": "2025-07-11T13:38:27.325630Z",
     "shell.execute_reply": "2025-07-11T13:38:27.324542Z"
    },
    "papermill": {
     "duration": 0.015747,
     "end_time": "2025-07-11T13:38:27.327183",
     "exception": false,
     "start_time": "2025-07-11T13:38:27.311436",
     "status": "completed"
    },
    "tags": []
   },
   "outputs": [
    {
     "name": "stdout",
     "output_type": "stream",
     "text": [
      "Pclass  : NANs :  0\n",
      "Sex  : NANs :  0\n",
      "Age  : NANs :  0\n",
      "SibSp  : NANs :  0\n",
      "Parch  : NANs :  0\n",
      "Embarked  : NANs :  0\n",
      "Cabin Index  : NANs :  0\n",
      "Fare  : NANs :  0\n"
     ]
    }
   ],
   "source": [
    "testNa(new_train_df)"
   ]
  },
  {
   "cell_type": "code",
   "execution_count": 14,
   "id": "5f1a5b04",
   "metadata": {
    "execution": {
     "iopub.execute_input": "2025-07-11T13:38:27.341142Z",
     "iopub.status.busy": "2025-07-11T13:38:27.340841Z",
     "iopub.status.idle": "2025-07-11T13:38:27.360037Z",
     "shell.execute_reply": "2025-07-11T13:38:27.359070Z"
    },
    "papermill": {
     "duration": 0.027925,
     "end_time": "2025-07-11T13:38:27.361581",
     "exception": false,
     "start_time": "2025-07-11T13:38:27.333656",
     "status": "completed"
    },
    "tags": []
   },
   "outputs": [
    {
     "data": {
      "text/html": [
       "<div>\n",
       "<style scoped>\n",
       "    .dataframe tbody tr th:only-of-type {\n",
       "        vertical-align: middle;\n",
       "    }\n",
       "\n",
       "    .dataframe tbody tr th {\n",
       "        vertical-align: top;\n",
       "    }\n",
       "\n",
       "    .dataframe thead th {\n",
       "        text-align: right;\n",
       "    }\n",
       "</style>\n",
       "<table border=\"1\" class=\"dataframe\">\n",
       "  <thead>\n",
       "    <tr style=\"text-align: right;\">\n",
       "      <th></th>\n",
       "      <th>PassengerId</th>\n",
       "      <th>Pclass</th>\n",
       "      <th>Name</th>\n",
       "      <th>Sex</th>\n",
       "      <th>Age</th>\n",
       "      <th>SibSp</th>\n",
       "      <th>Parch</th>\n",
       "      <th>Ticket</th>\n",
       "      <th>Fare</th>\n",
       "      <th>Cabin</th>\n",
       "      <th>Embarked</th>\n",
       "    </tr>\n",
       "  </thead>\n",
       "  <tbody>\n",
       "    <tr>\n",
       "      <th>0</th>\n",
       "      <td>892</td>\n",
       "      <td>3</td>\n",
       "      <td>Kelly, Mr. James</td>\n",
       "      <td>male</td>\n",
       "      <td>34.5</td>\n",
       "      <td>0</td>\n",
       "      <td>0</td>\n",
       "      <td>330911</td>\n",
       "      <td>7.8292</td>\n",
       "      <td>NaN</td>\n",
       "      <td>Q</td>\n",
       "    </tr>\n",
       "    <tr>\n",
       "      <th>1</th>\n",
       "      <td>893</td>\n",
       "      <td>3</td>\n",
       "      <td>Wilkes, Mrs. James (Ellen Needs)</td>\n",
       "      <td>female</td>\n",
       "      <td>47.0</td>\n",
       "      <td>1</td>\n",
       "      <td>0</td>\n",
       "      <td>363272</td>\n",
       "      <td>7.0000</td>\n",
       "      <td>NaN</td>\n",
       "      <td>S</td>\n",
       "    </tr>\n",
       "    <tr>\n",
       "      <th>2</th>\n",
       "      <td>894</td>\n",
       "      <td>2</td>\n",
       "      <td>Myles, Mr. Thomas Francis</td>\n",
       "      <td>male</td>\n",
       "      <td>62.0</td>\n",
       "      <td>0</td>\n",
       "      <td>0</td>\n",
       "      <td>240276</td>\n",
       "      <td>9.6875</td>\n",
       "      <td>NaN</td>\n",
       "      <td>Q</td>\n",
       "    </tr>\n",
       "    <tr>\n",
       "      <th>3</th>\n",
       "      <td>895</td>\n",
       "      <td>3</td>\n",
       "      <td>Wirz, Mr. Albert</td>\n",
       "      <td>male</td>\n",
       "      <td>27.0</td>\n",
       "      <td>0</td>\n",
       "      <td>0</td>\n",
       "      <td>315154</td>\n",
       "      <td>8.6625</td>\n",
       "      <td>NaN</td>\n",
       "      <td>S</td>\n",
       "    </tr>\n",
       "    <tr>\n",
       "      <th>4</th>\n",
       "      <td>896</td>\n",
       "      <td>3</td>\n",
       "      <td>Hirvonen, Mrs. Alexander (Helga E Lindqvist)</td>\n",
       "      <td>female</td>\n",
       "      <td>22.0</td>\n",
       "      <td>1</td>\n",
       "      <td>1</td>\n",
       "      <td>3101298</td>\n",
       "      <td>12.2875</td>\n",
       "      <td>NaN</td>\n",
       "      <td>S</td>\n",
       "    </tr>\n",
       "  </tbody>\n",
       "</table>\n",
       "</div>"
      ],
      "text/plain": [
       "   PassengerId  Pclass                                          Name     Sex  \\\n",
       "0          892       3                              Kelly, Mr. James    male   \n",
       "1          893       3              Wilkes, Mrs. James (Ellen Needs)  female   \n",
       "2          894       2                     Myles, Mr. Thomas Francis    male   \n",
       "3          895       3                              Wirz, Mr. Albert    male   \n",
       "4          896       3  Hirvonen, Mrs. Alexander (Helga E Lindqvist)  female   \n",
       "\n",
       "    Age  SibSp  Parch   Ticket     Fare Cabin Embarked  \n",
       "0  34.5      0      0   330911   7.8292   NaN        Q  \n",
       "1  47.0      1      0   363272   7.0000   NaN        S  \n",
       "2  62.0      0      0   240276   9.6875   NaN        Q  \n",
       "3  27.0      0      0   315154   8.6625   NaN        S  \n",
       "4  22.0      1      1  3101298  12.2875   NaN        S  "
      ]
     },
     "execution_count": 14,
     "metadata": {},
     "output_type": "execute_result"
    }
   ],
   "source": [
    "test_data = pd.read_csv(\"/kaggle/input/titanic/test.csv\")\n",
    "test_data.head()"
   ]
  },
  {
   "cell_type": "code",
   "execution_count": 15,
   "id": "9ae7ffbe",
   "metadata": {
    "execution": {
     "iopub.execute_input": "2025-07-11T13:38:27.376323Z",
     "iopub.status.busy": "2025-07-11T13:38:27.375971Z",
     "iopub.status.idle": "2025-07-11T13:38:27.395387Z",
     "shell.execute_reply": "2025-07-11T13:38:27.393728Z"
    },
    "papermill": {
     "duration": 0.028914,
     "end_time": "2025-07-11T13:38:27.396944",
     "exception": false,
     "start_time": "2025-07-11T13:38:27.368030",
     "status": "completed"
    },
    "tags": []
   },
   "outputs": [
    {
     "name": "stdout",
     "output_type": "stream",
     "text": [
      "Age\n",
      "21.0    0.051205\n",
      "24.0    0.051205\n",
      "22.0    0.048193\n",
      "30.0    0.045181\n",
      "18.0    0.039157\n",
      "          ...   \n",
      "76.0    0.003012\n",
      "28.5    0.003012\n",
      "22.5    0.003012\n",
      "62.0    0.003012\n",
      "38.5    0.003012\n",
      "Name: proportion, Length: 79, dtype: float64\n",
      "Embarked\n",
      "S    0.645933\n",
      "C    0.244019\n",
      "Q    0.110048\n",
      "Name: proportion, dtype: float64\n",
      "Fare\n",
      "7.7500     0.050360\n",
      "26.0000    0.045564\n",
      "13.0000    0.040767\n",
      "8.0500     0.040767\n",
      "7.8958     0.026379\n",
      "             ...   \n",
      "7.8208     0.002398\n",
      "8.5167     0.002398\n",
      "78.8500    0.002398\n",
      "52.0000    0.002398\n",
      "22.3583    0.002398\n",
      "Name: proportion, Length: 169, dtype: float64\n"
     ]
    }
   ],
   "source": [
    "test_df = test_data.copy()\n",
    "new_test_df = FillN(test_df, [\"Age\",\"Embarked\",\"Fare\"])\n",
    "new_test_df = fillCabin(new_test_df)"
   ]
  },
  {
   "cell_type": "code",
   "execution_count": 16,
   "id": "6f7a3ef8",
   "metadata": {
    "execution": {
     "iopub.execute_input": "2025-07-11T13:38:27.411303Z",
     "iopub.status.busy": "2025-07-11T13:38:27.410625Z",
     "iopub.status.idle": "2025-07-11T13:38:27.416733Z",
     "shell.execute_reply": "2025-07-11T13:38:27.415711Z"
    },
    "papermill": {
     "duration": 0.014947,
     "end_time": "2025-07-11T13:38:27.418344",
     "exception": false,
     "start_time": "2025-07-11T13:38:27.403397",
     "status": "completed"
    },
    "tags": []
   },
   "outputs": [
    {
     "data": {
      "text/plain": [
       "(891, 13)"
      ]
     },
     "execution_count": 16,
     "metadata": {},
     "output_type": "execute_result"
    }
   ],
   "source": [
    "new_train_df.shape"
   ]
  },
  {
   "cell_type": "code",
   "execution_count": 17,
   "id": "7b0d979b",
   "metadata": {
    "execution": {
     "iopub.execute_input": "2025-07-11T13:38:27.432780Z",
     "iopub.status.busy": "2025-07-11T13:38:27.432459Z",
     "iopub.status.idle": "2025-07-11T13:38:27.438697Z",
     "shell.execute_reply": "2025-07-11T13:38:27.437348Z"
    },
    "papermill": {
     "duration": 0.015435,
     "end_time": "2025-07-11T13:38:27.440441",
     "exception": false,
     "start_time": "2025-07-11T13:38:27.425006",
     "status": "completed"
    },
    "tags": []
   },
   "outputs": [
    {
     "data": {
      "text/plain": [
       "(418, 12)"
      ]
     },
     "execution_count": 17,
     "metadata": {},
     "output_type": "execute_result"
    }
   ],
   "source": [
    "new_test_df.shape"
   ]
  },
  {
   "cell_type": "code",
   "execution_count": 18,
   "id": "633852b5",
   "metadata": {
    "execution": {
     "iopub.execute_input": "2025-07-11T13:38:27.457140Z",
     "iopub.status.busy": "2025-07-11T13:38:27.456772Z",
     "iopub.status.idle": "2025-07-11T13:38:27.468399Z",
     "shell.execute_reply": "2025-07-11T13:38:27.467358Z"
    },
    "papermill": {
     "duration": 0.022713,
     "end_time": "2025-07-11T13:38:27.470150",
     "exception": false,
     "start_time": "2025-07-11T13:38:27.447437",
     "status": "completed"
    },
    "tags": []
   },
   "outputs": [
    {
     "name": "stdout",
     "output_type": "stream",
     "text": [
      "% of women who survived: 0.7420382165605095\n",
      "% of men who survived: 0.18890814558058924\n"
     ]
    }
   ],
   "source": [
    "women = new_train_df.loc[new_train_df.Sex == 'female'][\"Survived\"]\n",
    "rate_women = sum(women)/len(women)\n",
    "\n",
    "print(\"% of women who survived:\", rate_women)\n",
    "\n",
    "men = new_train_df.loc[new_train_df.Sex == 'male'][\"Survived\"]\n",
    "rate_men = sum(men)/len(men)\n",
    "\n",
    "print(\"% of men who survived:\", rate_men)"
   ]
  },
  {
   "cell_type": "code",
   "execution_count": 19,
   "id": "adfdf9ec",
   "metadata": {
    "execution": {
     "iopub.execute_input": "2025-07-11T13:38:27.485836Z",
     "iopub.status.busy": "2025-07-11T13:38:27.485532Z",
     "iopub.status.idle": "2025-07-11T13:38:27.505892Z",
     "shell.execute_reply": "2025-07-11T13:38:27.504784Z"
    },
    "papermill": {
     "duration": 0.030383,
     "end_time": "2025-07-11T13:38:27.508089",
     "exception": false,
     "start_time": "2025-07-11T13:38:27.477706",
     "status": "completed"
    },
    "tags": []
   },
   "outputs": [],
   "source": [
    "y = new_train_df.copy()[\"Survived\"]\n",
    "\n",
    "X = pd.get_dummies(new_train_df.copy()[features])\n",
    "X_test = pd.get_dummies(new_test_df.copy()[features])"
   ]
  },
  {
   "cell_type": "code",
   "execution_count": 20,
   "id": "40cd9bde",
   "metadata": {
    "execution": {
     "iopub.execute_input": "2025-07-11T13:38:27.525281Z",
     "iopub.status.busy": "2025-07-11T13:38:27.524206Z",
     "iopub.status.idle": "2025-07-11T13:38:27.546232Z",
     "shell.execute_reply": "2025-07-11T13:38:27.544819Z"
    },
    "papermill": {
     "duration": 0.033161,
     "end_time": "2025-07-11T13:38:27.548659",
     "exception": false,
     "start_time": "2025-07-11T13:38:27.515498",
     "status": "completed"
    },
    "tags": []
   },
   "outputs": [
    {
     "data": {
      "text/html": [
       "<div>\n",
       "<style scoped>\n",
       "    .dataframe tbody tr th:only-of-type {\n",
       "        vertical-align: middle;\n",
       "    }\n",
       "\n",
       "    .dataframe tbody tr th {\n",
       "        vertical-align: top;\n",
       "    }\n",
       "\n",
       "    .dataframe thead th {\n",
       "        text-align: right;\n",
       "    }\n",
       "</style>\n",
       "<table border=\"1\" class=\"dataframe\">\n",
       "  <thead>\n",
       "    <tr style=\"text-align: right;\">\n",
       "      <th></th>\n",
       "      <th>Pclass</th>\n",
       "      <th>Age</th>\n",
       "      <th>SibSp</th>\n",
       "      <th>Parch</th>\n",
       "      <th>Fare</th>\n",
       "      <th>Sex_female</th>\n",
       "      <th>Sex_male</th>\n",
       "      <th>Embarked_C</th>\n",
       "      <th>Embarked_Q</th>\n",
       "      <th>Embarked_S</th>\n",
       "      <th>Cabin Index_A</th>\n",
       "      <th>Cabin Index_B</th>\n",
       "      <th>Cabin Index_C</th>\n",
       "      <th>Cabin Index_D</th>\n",
       "      <th>Cabin Index_E</th>\n",
       "      <th>Cabin Index_F</th>\n",
       "      <th>Cabin Index_G</th>\n",
       "      <th>Cabin Index_T</th>\n",
       "      <th>Cabin Index_Unknown</th>\n",
       "    </tr>\n",
       "  </thead>\n",
       "  <tbody>\n",
       "    <tr>\n",
       "      <th>0</th>\n",
       "      <td>3</td>\n",
       "      <td>22.0</td>\n",
       "      <td>1</td>\n",
       "      <td>0</td>\n",
       "      <td>7.2500</td>\n",
       "      <td>False</td>\n",
       "      <td>True</td>\n",
       "      <td>False</td>\n",
       "      <td>False</td>\n",
       "      <td>True</td>\n",
       "      <td>False</td>\n",
       "      <td>False</td>\n",
       "      <td>False</td>\n",
       "      <td>False</td>\n",
       "      <td>False</td>\n",
       "      <td>False</td>\n",
       "      <td>False</td>\n",
       "      <td>False</td>\n",
       "      <td>True</td>\n",
       "    </tr>\n",
       "    <tr>\n",
       "      <th>1</th>\n",
       "      <td>1</td>\n",
       "      <td>38.0</td>\n",
       "      <td>1</td>\n",
       "      <td>0</td>\n",
       "      <td>71.2833</td>\n",
       "      <td>True</td>\n",
       "      <td>False</td>\n",
       "      <td>True</td>\n",
       "      <td>False</td>\n",
       "      <td>False</td>\n",
       "      <td>False</td>\n",
       "      <td>False</td>\n",
       "      <td>True</td>\n",
       "      <td>False</td>\n",
       "      <td>False</td>\n",
       "      <td>False</td>\n",
       "      <td>False</td>\n",
       "      <td>False</td>\n",
       "      <td>False</td>\n",
       "    </tr>\n",
       "    <tr>\n",
       "      <th>2</th>\n",
       "      <td>3</td>\n",
       "      <td>26.0</td>\n",
       "      <td>0</td>\n",
       "      <td>0</td>\n",
       "      <td>7.9250</td>\n",
       "      <td>True</td>\n",
       "      <td>False</td>\n",
       "      <td>False</td>\n",
       "      <td>False</td>\n",
       "      <td>True</td>\n",
       "      <td>False</td>\n",
       "      <td>False</td>\n",
       "      <td>False</td>\n",
       "      <td>False</td>\n",
       "      <td>False</td>\n",
       "      <td>False</td>\n",
       "      <td>False</td>\n",
       "      <td>False</td>\n",
       "      <td>True</td>\n",
       "    </tr>\n",
       "    <tr>\n",
       "      <th>3</th>\n",
       "      <td>1</td>\n",
       "      <td>35.0</td>\n",
       "      <td>1</td>\n",
       "      <td>0</td>\n",
       "      <td>53.1000</td>\n",
       "      <td>True</td>\n",
       "      <td>False</td>\n",
       "      <td>False</td>\n",
       "      <td>False</td>\n",
       "      <td>True</td>\n",
       "      <td>False</td>\n",
       "      <td>False</td>\n",
       "      <td>True</td>\n",
       "      <td>False</td>\n",
       "      <td>False</td>\n",
       "      <td>False</td>\n",
       "      <td>False</td>\n",
       "      <td>False</td>\n",
       "      <td>False</td>\n",
       "    </tr>\n",
       "    <tr>\n",
       "      <th>4</th>\n",
       "      <td>3</td>\n",
       "      <td>35.0</td>\n",
       "      <td>0</td>\n",
       "      <td>0</td>\n",
       "      <td>8.0500</td>\n",
       "      <td>False</td>\n",
       "      <td>True</td>\n",
       "      <td>False</td>\n",
       "      <td>False</td>\n",
       "      <td>True</td>\n",
       "      <td>False</td>\n",
       "      <td>False</td>\n",
       "      <td>False</td>\n",
       "      <td>False</td>\n",
       "      <td>False</td>\n",
       "      <td>False</td>\n",
       "      <td>False</td>\n",
       "      <td>False</td>\n",
       "      <td>True</td>\n",
       "    </tr>\n",
       "  </tbody>\n",
       "</table>\n",
       "</div>"
      ],
      "text/plain": [
       "   Pclass   Age  SibSp  Parch     Fare  Sex_female  Sex_male  Embarked_C  \\\n",
       "0       3  22.0      1      0   7.2500       False      True       False   \n",
       "1       1  38.0      1      0  71.2833        True     False        True   \n",
       "2       3  26.0      0      0   7.9250        True     False       False   \n",
       "3       1  35.0      1      0  53.1000        True     False       False   \n",
       "4       3  35.0      0      0   8.0500       False      True       False   \n",
       "\n",
       "   Embarked_Q  Embarked_S  Cabin Index_A  Cabin Index_B  Cabin Index_C  \\\n",
       "0       False        True          False          False          False   \n",
       "1       False       False          False          False           True   \n",
       "2       False        True          False          False          False   \n",
       "3       False        True          False          False           True   \n",
       "4       False        True          False          False          False   \n",
       "\n",
       "   Cabin Index_D  Cabin Index_E  Cabin Index_F  Cabin Index_G  Cabin Index_T  \\\n",
       "0          False          False          False          False          False   \n",
       "1          False          False          False          False          False   \n",
       "2          False          False          False          False          False   \n",
       "3          False          False          False          False          False   \n",
       "4          False          False          False          False          False   \n",
       "\n",
       "   Cabin Index_Unknown  \n",
       "0                 True  \n",
       "1                False  \n",
       "2                 True  \n",
       "3                False  \n",
       "4                 True  "
      ]
     },
     "execution_count": 20,
     "metadata": {},
     "output_type": "execute_result"
    }
   ],
   "source": [
    "X.head()"
   ]
  },
  {
   "cell_type": "code",
   "execution_count": 21,
   "id": "3500b223",
   "metadata": {
    "execution": {
     "iopub.execute_input": "2025-07-11T13:38:27.565291Z",
     "iopub.status.busy": "2025-07-11T13:38:27.564948Z",
     "iopub.status.idle": "2025-07-11T13:38:27.586018Z",
     "shell.execute_reply": "2025-07-11T13:38:27.584729Z"
    },
    "papermill": {
     "duration": 0.032367,
     "end_time": "2025-07-11T13:38:27.588430",
     "exception": false,
     "start_time": "2025-07-11T13:38:27.556063",
     "status": "completed"
    },
    "tags": []
   },
   "outputs": [
    {
     "data": {
      "text/html": [
       "<div>\n",
       "<style scoped>\n",
       "    .dataframe tbody tr th:only-of-type {\n",
       "        vertical-align: middle;\n",
       "    }\n",
       "\n",
       "    .dataframe tbody tr th {\n",
       "        vertical-align: top;\n",
       "    }\n",
       "\n",
       "    .dataframe thead th {\n",
       "        text-align: right;\n",
       "    }\n",
       "</style>\n",
       "<table border=\"1\" class=\"dataframe\">\n",
       "  <thead>\n",
       "    <tr style=\"text-align: right;\">\n",
       "      <th></th>\n",
       "      <th>Pclass</th>\n",
       "      <th>Age</th>\n",
       "      <th>SibSp</th>\n",
       "      <th>Parch</th>\n",
       "      <th>Fare</th>\n",
       "      <th>Sex_female</th>\n",
       "      <th>Sex_male</th>\n",
       "      <th>Embarked_C</th>\n",
       "      <th>Embarked_Q</th>\n",
       "      <th>Embarked_S</th>\n",
       "      <th>Cabin Index_A</th>\n",
       "      <th>Cabin Index_B</th>\n",
       "      <th>Cabin Index_C</th>\n",
       "      <th>Cabin Index_D</th>\n",
       "      <th>Cabin Index_E</th>\n",
       "      <th>Cabin Index_F</th>\n",
       "      <th>Cabin Index_G</th>\n",
       "      <th>Cabin Index_Unknown</th>\n",
       "    </tr>\n",
       "  </thead>\n",
       "  <tbody>\n",
       "    <tr>\n",
       "      <th>0</th>\n",
       "      <td>3</td>\n",
       "      <td>34.5</td>\n",
       "      <td>0</td>\n",
       "      <td>0</td>\n",
       "      <td>7.8292</td>\n",
       "      <td>False</td>\n",
       "      <td>True</td>\n",
       "      <td>False</td>\n",
       "      <td>True</td>\n",
       "      <td>False</td>\n",
       "      <td>False</td>\n",
       "      <td>False</td>\n",
       "      <td>False</td>\n",
       "      <td>False</td>\n",
       "      <td>False</td>\n",
       "      <td>False</td>\n",
       "      <td>False</td>\n",
       "      <td>True</td>\n",
       "    </tr>\n",
       "    <tr>\n",
       "      <th>1</th>\n",
       "      <td>3</td>\n",
       "      <td>47.0</td>\n",
       "      <td>1</td>\n",
       "      <td>0</td>\n",
       "      <td>7.0000</td>\n",
       "      <td>True</td>\n",
       "      <td>False</td>\n",
       "      <td>False</td>\n",
       "      <td>False</td>\n",
       "      <td>True</td>\n",
       "      <td>False</td>\n",
       "      <td>False</td>\n",
       "      <td>False</td>\n",
       "      <td>False</td>\n",
       "      <td>False</td>\n",
       "      <td>False</td>\n",
       "      <td>False</td>\n",
       "      <td>True</td>\n",
       "    </tr>\n",
       "    <tr>\n",
       "      <th>2</th>\n",
       "      <td>2</td>\n",
       "      <td>62.0</td>\n",
       "      <td>0</td>\n",
       "      <td>0</td>\n",
       "      <td>9.6875</td>\n",
       "      <td>False</td>\n",
       "      <td>True</td>\n",
       "      <td>False</td>\n",
       "      <td>True</td>\n",
       "      <td>False</td>\n",
       "      <td>False</td>\n",
       "      <td>False</td>\n",
       "      <td>False</td>\n",
       "      <td>False</td>\n",
       "      <td>False</td>\n",
       "      <td>False</td>\n",
       "      <td>False</td>\n",
       "      <td>True</td>\n",
       "    </tr>\n",
       "    <tr>\n",
       "      <th>3</th>\n",
       "      <td>3</td>\n",
       "      <td>27.0</td>\n",
       "      <td>0</td>\n",
       "      <td>0</td>\n",
       "      <td>8.6625</td>\n",
       "      <td>False</td>\n",
       "      <td>True</td>\n",
       "      <td>False</td>\n",
       "      <td>False</td>\n",
       "      <td>True</td>\n",
       "      <td>False</td>\n",
       "      <td>False</td>\n",
       "      <td>False</td>\n",
       "      <td>False</td>\n",
       "      <td>False</td>\n",
       "      <td>False</td>\n",
       "      <td>False</td>\n",
       "      <td>True</td>\n",
       "    </tr>\n",
       "    <tr>\n",
       "      <th>4</th>\n",
       "      <td>3</td>\n",
       "      <td>22.0</td>\n",
       "      <td>1</td>\n",
       "      <td>1</td>\n",
       "      <td>12.2875</td>\n",
       "      <td>True</td>\n",
       "      <td>False</td>\n",
       "      <td>False</td>\n",
       "      <td>False</td>\n",
       "      <td>True</td>\n",
       "      <td>False</td>\n",
       "      <td>False</td>\n",
       "      <td>False</td>\n",
       "      <td>False</td>\n",
       "      <td>False</td>\n",
       "      <td>False</td>\n",
       "      <td>False</td>\n",
       "      <td>True</td>\n",
       "    </tr>\n",
       "  </tbody>\n",
       "</table>\n",
       "</div>"
      ],
      "text/plain": [
       "   Pclass   Age  SibSp  Parch     Fare  Sex_female  Sex_male  Embarked_C  \\\n",
       "0       3  34.5      0      0   7.8292       False      True       False   \n",
       "1       3  47.0      1      0   7.0000        True     False       False   \n",
       "2       2  62.0      0      0   9.6875       False      True       False   \n",
       "3       3  27.0      0      0   8.6625       False      True       False   \n",
       "4       3  22.0      1      1  12.2875        True     False       False   \n",
       "\n",
       "   Embarked_Q  Embarked_S  Cabin Index_A  Cabin Index_B  Cabin Index_C  \\\n",
       "0        True       False          False          False          False   \n",
       "1       False        True          False          False          False   \n",
       "2        True       False          False          False          False   \n",
       "3       False        True          False          False          False   \n",
       "4       False        True          False          False          False   \n",
       "\n",
       "   Cabin Index_D  Cabin Index_E  Cabin Index_F  Cabin Index_G  \\\n",
       "0          False          False          False          False   \n",
       "1          False          False          False          False   \n",
       "2          False          False          False          False   \n",
       "3          False          False          False          False   \n",
       "4          False          False          False          False   \n",
       "\n",
       "   Cabin Index_Unknown  \n",
       "0                 True  \n",
       "1                 True  \n",
       "2                 True  \n",
       "3                 True  \n",
       "4                 True  "
      ]
     },
     "execution_count": 21,
     "metadata": {},
     "output_type": "execute_result"
    }
   ],
   "source": [
    "X_test.head()"
   ]
  },
  {
   "cell_type": "code",
   "execution_count": 22,
   "id": "0afd2207",
   "metadata": {
    "execution": {
     "iopub.execute_input": "2025-07-11T13:38:27.606767Z",
     "iopub.status.busy": "2025-07-11T13:38:27.606373Z",
     "iopub.status.idle": "2025-07-11T13:38:27.613958Z",
     "shell.execute_reply": "2025-07-11T13:38:27.612387Z"
    },
    "papermill": {
     "duration": 0.019916,
     "end_time": "2025-07-11T13:38:27.616109",
     "exception": false,
     "start_time": "2025-07-11T13:38:27.596193",
     "status": "completed"
    },
    "tags": []
   },
   "outputs": [
    {
     "name": "stdout",
     "output_type": "stream",
     "text": [
      "Pclass\n",
      "Age\n",
      "SibSp\n",
      "Parch\n",
      "Fare\n",
      "Sex_female\n",
      "Sex_male\n",
      "Embarked_C\n",
      "Embarked_Q\n",
      "Embarked_S\n",
      "Cabin Index_A\n",
      "Cabin Index_B\n",
      "Cabin Index_C\n",
      "Cabin Index_D\n",
      "Cabin Index_E\n",
      "Cabin Index_F\n",
      "Cabin Index_G\n",
      "Cabin Index_T\n",
      "Cabin Index_Unknown\n"
     ]
    }
   ],
   "source": [
    "for col in X.columns:\n",
    "    print(col)"
   ]
  },
  {
   "cell_type": "code",
   "execution_count": 23,
   "id": "6fc39e48",
   "metadata": {
    "execution": {
     "iopub.execute_input": "2025-07-11T13:38:27.634519Z",
     "iopub.status.busy": "2025-07-11T13:38:27.634121Z",
     "iopub.status.idle": "2025-07-11T13:38:27.640882Z",
     "shell.execute_reply": "2025-07-11T13:38:27.639674Z"
    },
    "papermill": {
     "duration": 0.018011,
     "end_time": "2025-07-11T13:38:27.642555",
     "exception": false,
     "start_time": "2025-07-11T13:38:27.624544",
     "status": "completed"
    },
    "tags": []
   },
   "outputs": [],
   "source": [
    "for col in X.columns:\n",
    "    if col not in X_test.columns:\n",
    "        X_test[col] = False"
   ]
  },
  {
   "cell_type": "code",
   "execution_count": 24,
   "id": "edf75c51",
   "metadata": {
    "execution": {
     "iopub.execute_input": "2025-07-11T13:38:27.659559Z",
     "iopub.status.busy": "2025-07-11T13:38:27.659224Z",
     "iopub.status.idle": "2025-07-11T13:38:27.666341Z",
     "shell.execute_reply": "2025-07-11T13:38:27.664885Z"
    },
    "papermill": {
     "duration": 0.018024,
     "end_time": "2025-07-11T13:38:27.668548",
     "exception": false,
     "start_time": "2025-07-11T13:38:27.650524",
     "status": "completed"
    },
    "tags": []
   },
   "outputs": [],
   "source": [
    "X_train = X.copy()\n",
    "X_train = X_train.reindex(sorted(X_train.columns), axis=1)"
   ]
  },
  {
   "cell_type": "code",
   "execution_count": 25,
   "id": "21708199",
   "metadata": {
    "execution": {
     "iopub.execute_input": "2025-07-11T13:38:27.684328Z",
     "iopub.status.busy": "2025-07-11T13:38:27.683958Z",
     "iopub.status.idle": "2025-07-11T13:38:27.702718Z",
     "shell.execute_reply": "2025-07-11T13:38:27.701620Z"
    },
    "papermill": {
     "duration": 0.028417,
     "end_time": "2025-07-11T13:38:27.704218",
     "exception": false,
     "start_time": "2025-07-11T13:38:27.675801",
     "status": "completed"
    },
    "tags": []
   },
   "outputs": [
    {
     "data": {
      "text/html": [
       "<div>\n",
       "<style scoped>\n",
       "    .dataframe tbody tr th:only-of-type {\n",
       "        vertical-align: middle;\n",
       "    }\n",
       "\n",
       "    .dataframe tbody tr th {\n",
       "        vertical-align: top;\n",
       "    }\n",
       "\n",
       "    .dataframe thead th {\n",
       "        text-align: right;\n",
       "    }\n",
       "</style>\n",
       "<table border=\"1\" class=\"dataframe\">\n",
       "  <thead>\n",
       "    <tr style=\"text-align: right;\">\n",
       "      <th></th>\n",
       "      <th>Age</th>\n",
       "      <th>Cabin Index_A</th>\n",
       "      <th>Cabin Index_B</th>\n",
       "      <th>Cabin Index_C</th>\n",
       "      <th>Cabin Index_D</th>\n",
       "      <th>Cabin Index_E</th>\n",
       "      <th>Cabin Index_F</th>\n",
       "      <th>Cabin Index_G</th>\n",
       "      <th>Cabin Index_T</th>\n",
       "      <th>Cabin Index_Unknown</th>\n",
       "      <th>Embarked_C</th>\n",
       "      <th>Embarked_Q</th>\n",
       "      <th>Embarked_S</th>\n",
       "      <th>Fare</th>\n",
       "      <th>Parch</th>\n",
       "      <th>Pclass</th>\n",
       "      <th>Sex_female</th>\n",
       "      <th>Sex_male</th>\n",
       "      <th>SibSp</th>\n",
       "    </tr>\n",
       "  </thead>\n",
       "  <tbody>\n",
       "    <tr>\n",
       "      <th>0</th>\n",
       "      <td>22.0</td>\n",
       "      <td>False</td>\n",
       "      <td>False</td>\n",
       "      <td>False</td>\n",
       "      <td>False</td>\n",
       "      <td>False</td>\n",
       "      <td>False</td>\n",
       "      <td>False</td>\n",
       "      <td>False</td>\n",
       "      <td>True</td>\n",
       "      <td>False</td>\n",
       "      <td>False</td>\n",
       "      <td>True</td>\n",
       "      <td>7.2500</td>\n",
       "      <td>0</td>\n",
       "      <td>3</td>\n",
       "      <td>False</td>\n",
       "      <td>True</td>\n",
       "      <td>1</td>\n",
       "    </tr>\n",
       "    <tr>\n",
       "      <th>1</th>\n",
       "      <td>38.0</td>\n",
       "      <td>False</td>\n",
       "      <td>False</td>\n",
       "      <td>True</td>\n",
       "      <td>False</td>\n",
       "      <td>False</td>\n",
       "      <td>False</td>\n",
       "      <td>False</td>\n",
       "      <td>False</td>\n",
       "      <td>False</td>\n",
       "      <td>True</td>\n",
       "      <td>False</td>\n",
       "      <td>False</td>\n",
       "      <td>71.2833</td>\n",
       "      <td>0</td>\n",
       "      <td>1</td>\n",
       "      <td>True</td>\n",
       "      <td>False</td>\n",
       "      <td>1</td>\n",
       "    </tr>\n",
       "    <tr>\n",
       "      <th>2</th>\n",
       "      <td>26.0</td>\n",
       "      <td>False</td>\n",
       "      <td>False</td>\n",
       "      <td>False</td>\n",
       "      <td>False</td>\n",
       "      <td>False</td>\n",
       "      <td>False</td>\n",
       "      <td>False</td>\n",
       "      <td>False</td>\n",
       "      <td>True</td>\n",
       "      <td>False</td>\n",
       "      <td>False</td>\n",
       "      <td>True</td>\n",
       "      <td>7.9250</td>\n",
       "      <td>0</td>\n",
       "      <td>3</td>\n",
       "      <td>True</td>\n",
       "      <td>False</td>\n",
       "      <td>0</td>\n",
       "    </tr>\n",
       "    <tr>\n",
       "      <th>3</th>\n",
       "      <td>35.0</td>\n",
       "      <td>False</td>\n",
       "      <td>False</td>\n",
       "      <td>True</td>\n",
       "      <td>False</td>\n",
       "      <td>False</td>\n",
       "      <td>False</td>\n",
       "      <td>False</td>\n",
       "      <td>False</td>\n",
       "      <td>False</td>\n",
       "      <td>False</td>\n",
       "      <td>False</td>\n",
       "      <td>True</td>\n",
       "      <td>53.1000</td>\n",
       "      <td>0</td>\n",
       "      <td>1</td>\n",
       "      <td>True</td>\n",
       "      <td>False</td>\n",
       "      <td>1</td>\n",
       "    </tr>\n",
       "    <tr>\n",
       "      <th>4</th>\n",
       "      <td>35.0</td>\n",
       "      <td>False</td>\n",
       "      <td>False</td>\n",
       "      <td>False</td>\n",
       "      <td>False</td>\n",
       "      <td>False</td>\n",
       "      <td>False</td>\n",
       "      <td>False</td>\n",
       "      <td>False</td>\n",
       "      <td>True</td>\n",
       "      <td>False</td>\n",
       "      <td>False</td>\n",
       "      <td>True</td>\n",
       "      <td>8.0500</td>\n",
       "      <td>0</td>\n",
       "      <td>3</td>\n",
       "      <td>False</td>\n",
       "      <td>True</td>\n",
       "      <td>0</td>\n",
       "    </tr>\n",
       "  </tbody>\n",
       "</table>\n",
       "</div>"
      ],
      "text/plain": [
       "    Age  Cabin Index_A  Cabin Index_B  Cabin Index_C  Cabin Index_D  \\\n",
       "0  22.0          False          False          False          False   \n",
       "1  38.0          False          False           True          False   \n",
       "2  26.0          False          False          False          False   \n",
       "3  35.0          False          False           True          False   \n",
       "4  35.0          False          False          False          False   \n",
       "\n",
       "   Cabin Index_E  Cabin Index_F  Cabin Index_G  Cabin Index_T  \\\n",
       "0          False          False          False          False   \n",
       "1          False          False          False          False   \n",
       "2          False          False          False          False   \n",
       "3          False          False          False          False   \n",
       "4          False          False          False          False   \n",
       "\n",
       "   Cabin Index_Unknown  Embarked_C  Embarked_Q  Embarked_S     Fare  Parch  \\\n",
       "0                 True       False       False        True   7.2500      0   \n",
       "1                False        True       False       False  71.2833      0   \n",
       "2                 True       False       False        True   7.9250      0   \n",
       "3                False       False       False        True  53.1000      0   \n",
       "4                 True       False       False        True   8.0500      0   \n",
       "\n",
       "   Pclass  Sex_female  Sex_male  SibSp  \n",
       "0       3       False      True      1  \n",
       "1       1        True     False      1  \n",
       "2       3        True     False      0  \n",
       "3       1        True     False      1  \n",
       "4       3       False      True      0  "
      ]
     },
     "execution_count": 25,
     "metadata": {},
     "output_type": "execute_result"
    }
   ],
   "source": [
    "X_train.head()"
   ]
  },
  {
   "cell_type": "code",
   "execution_count": 26,
   "id": "e0e77b38",
   "metadata": {
    "execution": {
     "iopub.execute_input": "2025-07-11T13:38:27.721034Z",
     "iopub.status.busy": "2025-07-11T13:38:27.720683Z",
     "iopub.status.idle": "2025-07-11T13:38:27.728114Z",
     "shell.execute_reply": "2025-07-11T13:38:27.726556Z"
    },
    "papermill": {
     "duration": 0.018967,
     "end_time": "2025-07-11T13:38:27.731147",
     "exception": false,
     "start_time": "2025-07-11T13:38:27.712180",
     "status": "completed"
    },
    "tags": []
   },
   "outputs": [],
   "source": [
    "X_pred = X_test.copy()\n",
    "X_pred = X_pred.reindex(sorted(X_pred.columns), axis=1)"
   ]
  },
  {
   "cell_type": "code",
   "execution_count": 27,
   "id": "96ccd847",
   "metadata": {
    "execution": {
     "iopub.execute_input": "2025-07-11T13:38:27.747937Z",
     "iopub.status.busy": "2025-07-11T13:38:27.747609Z",
     "iopub.status.idle": "2025-07-11T13:38:27.766758Z",
     "shell.execute_reply": "2025-07-11T13:38:27.765142Z"
    },
    "papermill": {
     "duration": 0.030319,
     "end_time": "2025-07-11T13:38:27.768974",
     "exception": false,
     "start_time": "2025-07-11T13:38:27.738655",
     "status": "completed"
    },
    "tags": []
   },
   "outputs": [
    {
     "data": {
      "text/html": [
       "<div>\n",
       "<style scoped>\n",
       "    .dataframe tbody tr th:only-of-type {\n",
       "        vertical-align: middle;\n",
       "    }\n",
       "\n",
       "    .dataframe tbody tr th {\n",
       "        vertical-align: top;\n",
       "    }\n",
       "\n",
       "    .dataframe thead th {\n",
       "        text-align: right;\n",
       "    }\n",
       "</style>\n",
       "<table border=\"1\" class=\"dataframe\">\n",
       "  <thead>\n",
       "    <tr style=\"text-align: right;\">\n",
       "      <th></th>\n",
       "      <th>Age</th>\n",
       "      <th>Cabin Index_A</th>\n",
       "      <th>Cabin Index_B</th>\n",
       "      <th>Cabin Index_C</th>\n",
       "      <th>Cabin Index_D</th>\n",
       "      <th>Cabin Index_E</th>\n",
       "      <th>Cabin Index_F</th>\n",
       "      <th>Cabin Index_G</th>\n",
       "      <th>Cabin Index_T</th>\n",
       "      <th>Cabin Index_Unknown</th>\n",
       "      <th>Embarked_C</th>\n",
       "      <th>Embarked_Q</th>\n",
       "      <th>Embarked_S</th>\n",
       "      <th>Fare</th>\n",
       "      <th>Parch</th>\n",
       "      <th>Pclass</th>\n",
       "      <th>Sex_female</th>\n",
       "      <th>Sex_male</th>\n",
       "      <th>SibSp</th>\n",
       "    </tr>\n",
       "  </thead>\n",
       "  <tbody>\n",
       "    <tr>\n",
       "      <th>0</th>\n",
       "      <td>34.5</td>\n",
       "      <td>False</td>\n",
       "      <td>False</td>\n",
       "      <td>False</td>\n",
       "      <td>False</td>\n",
       "      <td>False</td>\n",
       "      <td>False</td>\n",
       "      <td>False</td>\n",
       "      <td>False</td>\n",
       "      <td>True</td>\n",
       "      <td>False</td>\n",
       "      <td>True</td>\n",
       "      <td>False</td>\n",
       "      <td>7.8292</td>\n",
       "      <td>0</td>\n",
       "      <td>3</td>\n",
       "      <td>False</td>\n",
       "      <td>True</td>\n",
       "      <td>0</td>\n",
       "    </tr>\n",
       "    <tr>\n",
       "      <th>1</th>\n",
       "      <td>47.0</td>\n",
       "      <td>False</td>\n",
       "      <td>False</td>\n",
       "      <td>False</td>\n",
       "      <td>False</td>\n",
       "      <td>False</td>\n",
       "      <td>False</td>\n",
       "      <td>False</td>\n",
       "      <td>False</td>\n",
       "      <td>True</td>\n",
       "      <td>False</td>\n",
       "      <td>False</td>\n",
       "      <td>True</td>\n",
       "      <td>7.0000</td>\n",
       "      <td>0</td>\n",
       "      <td>3</td>\n",
       "      <td>True</td>\n",
       "      <td>False</td>\n",
       "      <td>1</td>\n",
       "    </tr>\n",
       "    <tr>\n",
       "      <th>2</th>\n",
       "      <td>62.0</td>\n",
       "      <td>False</td>\n",
       "      <td>False</td>\n",
       "      <td>False</td>\n",
       "      <td>False</td>\n",
       "      <td>False</td>\n",
       "      <td>False</td>\n",
       "      <td>False</td>\n",
       "      <td>False</td>\n",
       "      <td>True</td>\n",
       "      <td>False</td>\n",
       "      <td>True</td>\n",
       "      <td>False</td>\n",
       "      <td>9.6875</td>\n",
       "      <td>0</td>\n",
       "      <td>2</td>\n",
       "      <td>False</td>\n",
       "      <td>True</td>\n",
       "      <td>0</td>\n",
       "    </tr>\n",
       "    <tr>\n",
       "      <th>3</th>\n",
       "      <td>27.0</td>\n",
       "      <td>False</td>\n",
       "      <td>False</td>\n",
       "      <td>False</td>\n",
       "      <td>False</td>\n",
       "      <td>False</td>\n",
       "      <td>False</td>\n",
       "      <td>False</td>\n",
       "      <td>False</td>\n",
       "      <td>True</td>\n",
       "      <td>False</td>\n",
       "      <td>False</td>\n",
       "      <td>True</td>\n",
       "      <td>8.6625</td>\n",
       "      <td>0</td>\n",
       "      <td>3</td>\n",
       "      <td>False</td>\n",
       "      <td>True</td>\n",
       "      <td>0</td>\n",
       "    </tr>\n",
       "    <tr>\n",
       "      <th>4</th>\n",
       "      <td>22.0</td>\n",
       "      <td>False</td>\n",
       "      <td>False</td>\n",
       "      <td>False</td>\n",
       "      <td>False</td>\n",
       "      <td>False</td>\n",
       "      <td>False</td>\n",
       "      <td>False</td>\n",
       "      <td>False</td>\n",
       "      <td>True</td>\n",
       "      <td>False</td>\n",
       "      <td>False</td>\n",
       "      <td>True</td>\n",
       "      <td>12.2875</td>\n",
       "      <td>1</td>\n",
       "      <td>3</td>\n",
       "      <td>True</td>\n",
       "      <td>False</td>\n",
       "      <td>1</td>\n",
       "    </tr>\n",
       "  </tbody>\n",
       "</table>\n",
       "</div>"
      ],
      "text/plain": [
       "    Age  Cabin Index_A  Cabin Index_B  Cabin Index_C  Cabin Index_D  \\\n",
       "0  34.5          False          False          False          False   \n",
       "1  47.0          False          False          False          False   \n",
       "2  62.0          False          False          False          False   \n",
       "3  27.0          False          False          False          False   \n",
       "4  22.0          False          False          False          False   \n",
       "\n",
       "   Cabin Index_E  Cabin Index_F  Cabin Index_G  Cabin Index_T  \\\n",
       "0          False          False          False          False   \n",
       "1          False          False          False          False   \n",
       "2          False          False          False          False   \n",
       "3          False          False          False          False   \n",
       "4          False          False          False          False   \n",
       "\n",
       "   Cabin Index_Unknown  Embarked_C  Embarked_Q  Embarked_S     Fare  Parch  \\\n",
       "0                 True       False        True       False   7.8292      0   \n",
       "1                 True       False       False        True   7.0000      0   \n",
       "2                 True       False        True       False   9.6875      0   \n",
       "3                 True       False       False        True   8.6625      0   \n",
       "4                 True       False       False        True  12.2875      1   \n",
       "\n",
       "   Pclass  Sex_female  Sex_male  SibSp  \n",
       "0       3       False      True      0  \n",
       "1       3        True     False      1  \n",
       "2       2       False      True      0  \n",
       "3       3       False      True      0  \n",
       "4       3        True     False      1  "
      ]
     },
     "execution_count": 27,
     "metadata": {},
     "output_type": "execute_result"
    }
   ],
   "source": [
    "X_pred.head()"
   ]
  },
  {
   "cell_type": "code",
   "execution_count": 28,
   "id": "90851fac",
   "metadata": {
    "execution": {
     "iopub.execute_input": "2025-07-11T13:38:27.786231Z",
     "iopub.status.busy": "2025-07-11T13:38:27.785924Z",
     "iopub.status.idle": "2025-07-11T13:38:27.939823Z",
     "shell.execute_reply": "2025-07-11T13:38:27.939096Z"
    },
    "papermill": {
     "duration": 0.164591,
     "end_time": "2025-07-11T13:38:27.941732",
     "exception": false,
     "start_time": "2025-07-11T13:38:27.777141",
     "status": "completed"
    },
    "tags": []
   },
   "outputs": [],
   "source": [
    "# Secon Model XGBoost Regression\n",
    "xgb_cla = xgb.XGBClassifier(objective='binary:logistic', random_state=42)\n",
    "xgb_cla.fit(X_train, y)\n",
    "predictions = xgb_cla.predict(X_pred)\n",
    "#xgb_mse = mean_squared_error(y_test, xgb_pred)\n",
    "#xgb_training_time = time.time() - start_time"
   ]
  },
  {
   "cell_type": "code",
   "execution_count": 29,
   "id": "8f3737fd",
   "metadata": {
    "execution": {
     "iopub.execute_input": "2025-07-11T13:38:27.958579Z",
     "iopub.status.busy": "2025-07-11T13:38:27.958300Z",
     "iopub.status.idle": "2025-07-11T13:38:27.962039Z",
     "shell.execute_reply": "2025-07-11T13:38:27.961100Z"
    },
    "papermill": {
     "duration": 0.013784,
     "end_time": "2025-07-11T13:38:27.963489",
     "exception": false,
     "start_time": "2025-07-11T13:38:27.949705",
     "status": "completed"
    },
    "tags": []
   },
   "outputs": [],
   "source": [
    "# First model : Random Forest\n",
    "#model = RandomForestClassifier(n_estimators=100, max_depth=5, random_state=1)\n",
    "#model.fit(X_train, y)\n",
    "#predictions = model.predict(X_pred)"
   ]
  },
  {
   "cell_type": "code",
   "execution_count": 30,
   "id": "e38ea34a",
   "metadata": {
    "execution": {
     "iopub.execute_input": "2025-07-11T13:38:27.979811Z",
     "iopub.status.busy": "2025-07-11T13:38:27.979522Z",
     "iopub.status.idle": "2025-07-11T13:38:27.992788Z",
     "shell.execute_reply": "2025-07-11T13:38:27.991613Z"
    },
    "papermill": {
     "duration": 0.023729,
     "end_time": "2025-07-11T13:38:27.994852",
     "exception": false,
     "start_time": "2025-07-11T13:38:27.971123",
     "status": "completed"
    },
    "tags": []
   },
   "outputs": [
    {
     "name": "stdout",
     "output_type": "stream",
     "text": [
      "Your submission was successfully saved!\n"
     ]
    }
   ],
   "source": [
    "output = pd.DataFrame({'PassengerId': test_data.PassengerId, 'Survived': predictions})\n",
    "output.to_csv('submission.csv', index=False)\n",
    "print(\"Your submission was successfully saved!\")"
   ]
  },
  {
   "cell_type": "code",
   "execution_count": 31,
   "id": "ebda2f4b",
   "metadata": {
    "execution": {
     "iopub.execute_input": "2025-07-11T13:38:28.012635Z",
     "iopub.status.busy": "2025-07-11T13:38:28.012318Z",
     "iopub.status.idle": "2025-07-11T13:38:28.023767Z",
     "shell.execute_reply": "2025-07-11T13:38:28.022746Z"
    },
    "papermill": {
     "duration": 0.022135,
     "end_time": "2025-07-11T13:38:28.025651",
     "exception": false,
     "start_time": "2025-07-11T13:38:28.003516",
     "status": "completed"
    },
    "tags": []
   },
   "outputs": [
    {
     "data": {
      "text/html": [
       "<div>\n",
       "<style scoped>\n",
       "    .dataframe tbody tr th:only-of-type {\n",
       "        vertical-align: middle;\n",
       "    }\n",
       "\n",
       "    .dataframe tbody tr th {\n",
       "        vertical-align: top;\n",
       "    }\n",
       "\n",
       "    .dataframe thead th {\n",
       "        text-align: right;\n",
       "    }\n",
       "</style>\n",
       "<table border=\"1\" class=\"dataframe\">\n",
       "  <thead>\n",
       "    <tr style=\"text-align: right;\">\n",
       "      <th></th>\n",
       "      <th>PassengerId</th>\n",
       "      <th>Survived</th>\n",
       "    </tr>\n",
       "  </thead>\n",
       "  <tbody>\n",
       "    <tr>\n",
       "      <th>0</th>\n",
       "      <td>892</td>\n",
       "      <td>0</td>\n",
       "    </tr>\n",
       "    <tr>\n",
       "      <th>1</th>\n",
       "      <td>893</td>\n",
       "      <td>0</td>\n",
       "    </tr>\n",
       "    <tr>\n",
       "      <th>2</th>\n",
       "      <td>894</td>\n",
       "      <td>0</td>\n",
       "    </tr>\n",
       "    <tr>\n",
       "      <th>3</th>\n",
       "      <td>895</td>\n",
       "      <td>0</td>\n",
       "    </tr>\n",
       "    <tr>\n",
       "      <th>4</th>\n",
       "      <td>896</td>\n",
       "      <td>0</td>\n",
       "    </tr>\n",
       "    <tr>\n",
       "      <th>...</th>\n",
       "      <td>...</td>\n",
       "      <td>...</td>\n",
       "    </tr>\n",
       "    <tr>\n",
       "      <th>413</th>\n",
       "      <td>1305</td>\n",
       "      <td>0</td>\n",
       "    </tr>\n",
       "    <tr>\n",
       "      <th>414</th>\n",
       "      <td>1306</td>\n",
       "      <td>1</td>\n",
       "    </tr>\n",
       "    <tr>\n",
       "      <th>415</th>\n",
       "      <td>1307</td>\n",
       "      <td>0</td>\n",
       "    </tr>\n",
       "    <tr>\n",
       "      <th>416</th>\n",
       "      <td>1308</td>\n",
       "      <td>0</td>\n",
       "    </tr>\n",
       "    <tr>\n",
       "      <th>417</th>\n",
       "      <td>1309</td>\n",
       "      <td>0</td>\n",
       "    </tr>\n",
       "  </tbody>\n",
       "</table>\n",
       "<p>418 rows × 2 columns</p>\n",
       "</div>"
      ],
      "text/plain": [
       "     PassengerId  Survived\n",
       "0            892         0\n",
       "1            893         0\n",
       "2            894         0\n",
       "3            895         0\n",
       "4            896         0\n",
       "..           ...       ...\n",
       "413         1305         0\n",
       "414         1306         1\n",
       "415         1307         0\n",
       "416         1308         0\n",
       "417         1309         0\n",
       "\n",
       "[418 rows x 2 columns]"
      ]
     },
     "execution_count": 31,
     "metadata": {},
     "output_type": "execute_result"
    }
   ],
   "source": [
    "output"
   ]
  },
  {
   "cell_type": "code",
   "execution_count": null,
   "id": "4b591cad",
   "metadata": {
    "papermill": {
     "duration": 0.008039,
     "end_time": "2025-07-11T13:38:28.042743",
     "exception": false,
     "start_time": "2025-07-11T13:38:28.034704",
     "status": "completed"
    },
    "tags": []
   },
   "outputs": [],
   "source": []
  }
 ],
 "metadata": {
  "kaggle": {
   "accelerator": "none",
   "dataSources": [
    {
     "databundleVersionId": 26502,
     "sourceId": 3136,
     "sourceType": "competition"
    }
   ],
   "dockerImageVersionId": 31089,
   "isGpuEnabled": false,
   "isInternetEnabled": true,
   "language": "python",
   "sourceType": "notebook"
  },
  "kernelspec": {
   "display_name": "Python 3",
   "language": "python",
   "name": "python3"
  },
  "language_info": {
   "codemirror_mode": {
    "name": "ipython",
    "version": 3
   },
   "file_extension": ".py",
   "mimetype": "text/x-python",
   "name": "python",
   "nbconvert_exporter": "python",
   "pygments_lexer": "ipython3",
   "version": "3.11.13"
  },
  "papermill": {
   "default_parameters": {},
   "duration": 14.276,
   "end_time": "2025-07-11T13:38:28.875501",
   "environment_variables": {},
   "exception": null,
   "input_path": "__notebook__.ipynb",
   "output_path": "__notebook__.ipynb",
   "parameters": {},
   "start_time": "2025-07-11T13:38:14.599501",
   "version": "2.6.0"
  }
 },
 "nbformat": 4,
 "nbformat_minor": 5
}
