{
 "cells": [
  {
   "cell_type": "markdown",
   "id": "b353a8f6",
   "metadata": {
    "papermill": {
     "duration": 0.083473,
     "end_time": "2025-07-30T19:46:13.047951",
     "exception": false,
     "start_time": "2025-07-30T19:46:12.964478",
     "status": "completed"
    },
    "tags": []
   },
   "source": [
    "## Introduction"
   ]
  },
  {
   "cell_type": "markdown",
   "id": "f5e461e9",
   "metadata": {
    "papermill": {
     "duration": 0.079371,
     "end_time": "2025-07-30T19:46:13.210647",
     "exception": false,
     "start_time": "2025-07-30T19:46:13.131276",
     "status": "completed"
    },
    "tags": []
   },
   "source": [
    "In this notebook we're going to build and train a deep learning model \"from scratch\" -- by which I mean that we're not going to use any pre-built architecture, or optimizers, or data loading frameworks, etc.\n",
    "\n",
    "We'll be assuming you already know the basics of how a neural network works. If you don't, read this notebook first: [How does a neural net really work?\n",
    "](https://www.kaggle.com/code/jhoward/how-does-a-neural-net-really-work). We'll be using Kaggle's [Titanic](https://www.kaggle.com/competitions/titanic/) competition in this notebook, because it's very small and simple, but also has displays many of the tricky real-life issues that we need to handle in most practical projects. (Note, however, that this competition is a small \"learner\" competition on Kaggle, so don't expect to actually see much benefits from using a neural net just yet; that will come once we try our some real competitions!)\n",
    "\n",
    "It's great to be able to run the same notebook on your own machine or Colab, as well as Kaggle. To allow for this, we use this code to download the data as needed when not on Kaggle (see [this notebook](https://www.kaggle.com/code/jhoward/getting-started-with-nlp-for-absolute-beginners/) for details about this technique):"
   ]
  },
  {
   "cell_type": "code",
   "execution_count": 1,
   "id": "8e6d510f",
   "metadata": {
    "execution": {
     "iopub.execute_input": "2025-07-30T19:46:13.373489Z",
     "iopub.status.busy": "2025-07-30T19:46:13.373141Z",
     "iopub.status.idle": "2025-07-30T19:46:13.383320Z",
     "shell.execute_reply": "2025-07-30T19:46:13.382304Z"
    },
    "papermill": {
     "duration": 0.093221,
     "end_time": "2025-07-30T19:46:13.385584",
     "exception": false,
     "start_time": "2025-07-30T19:46:13.292363",
     "status": "completed"
    },
    "tags": []
   },
   "outputs": [],
   "source": [
    "import os\n",
    "from pathlib import Path\n",
    "\n",
    "iskaggle = os.environ.get('KAGGLE_KERNEL_RUN_TYPE', '')\n",
    "if iskaggle: path = Path('../input/titanic')\n",
    "else:\n",
    "    path = Path('titanic')\n",
    "    if not path.exists():\n",
    "        import zipfile,kaggle\n",
    "        kaggle.api.competition_download_cli(str(path))\n",
    "        zipfile.ZipFile(f'{path}.zip').extractall(path)"
   ]
  },
  {
   "cell_type": "markdown",
   "id": "9f1e3b92",
   "metadata": {
    "hidden": true,
    "papermill": {
     "duration": 0.08193,
     "end_time": "2025-07-30T19:46:13.547602",
     "exception": false,
     "start_time": "2025-07-30T19:46:13.465672",
     "status": "completed"
    },
    "tags": []
   },
   "source": [
    "Note that the data for Kaggle comps always lives in the `../input` folder. The easiest way to get the path is to click the \"K\" button in the top-right of the Kaggle notebook, click on the folder shown there, and click the copy button.\n",
    "\n",
    "We'll be using *numpy* and *pytorch* for array calculations in this notebook, and *pandas* for working with tabular data, so we'll import them and set them to display using a bit more space than they default to."
   ]
  },
  {
   "cell_type": "code",
   "execution_count": 2,
   "id": "93eb75fe",
   "metadata": {
    "execution": {
     "iopub.execute_input": "2025-07-30T19:46:13.714905Z",
     "iopub.status.busy": "2025-07-30T19:46:13.714613Z",
     "iopub.status.idle": "2025-07-30T19:46:15.055973Z",
     "shell.execute_reply": "2025-07-30T19:46:15.055027Z"
    },
    "papermill": {
     "duration": 1.429647,
     "end_time": "2025-07-30T19:46:15.058100",
     "exception": false,
     "start_time": "2025-07-30T19:46:13.628453",
     "status": "completed"
    },
    "tags": []
   },
   "outputs": [],
   "source": [
    "import torch, numpy as np, pandas as pd\n",
    "np.set_printoptions(linewidth=140)\n",
    "torch.set_printoptions(linewidth=140, sci_mode=False, edgeitems=7)\n",
    "pd.set_option('display.width', 140)"
   ]
  },
  {
   "cell_type": "markdown",
   "id": "4f42b526",
   "metadata": {
    "heading_collapsed": true,
    "papermill": {
     "duration": 0.082112,
     "end_time": "2025-07-30T19:46:15.226364",
     "exception": false,
     "start_time": "2025-07-30T19:46:15.144252",
     "status": "completed"
    },
    "tags": []
   },
   "source": [
    "## Cleaning the data"
   ]
  },
  {
   "cell_type": "markdown",
   "id": "05e9e59e",
   "metadata": {
    "hidden": true,
    "papermill": {
     "duration": 0.082832,
     "end_time": "2025-07-30T19:46:15.390795",
     "exception": false,
     "start_time": "2025-07-30T19:46:15.307963",
     "status": "completed"
    },
    "tags": []
   },
   "source": [
    "This is a *tabular data* competition -- the data is in the form of a table. It's provided as a Comma Separated Values (CSV) file. We can open it using the *pandas* library, which will create a `DataFrame`."
   ]
  },
  {
   "cell_type": "code",
   "execution_count": 3,
   "id": "deb0cf93",
   "metadata": {
    "execution": {
     "iopub.execute_input": "2025-07-30T19:46:15.567351Z",
     "iopub.status.busy": "2025-07-30T19:46:15.567060Z",
     "iopub.status.idle": "2025-07-30T19:46:15.611506Z",
     "shell.execute_reply": "2025-07-30T19:46:15.610745Z"
    },
    "hidden": true,
    "papermill": {
     "duration": 0.139711,
     "end_time": "2025-07-30T19:46:15.614022",
     "exception": false,
     "start_time": "2025-07-30T19:46:15.474311",
     "status": "completed"
    },
    "scrolled": true,
    "tags": []
   },
   "outputs": [
    {
     "data": {
      "text/html": [
       "<div>\n",
       "<style scoped>\n",
       "    .dataframe tbody tr th:only-of-type {\n",
       "        vertical-align: middle;\n",
       "    }\n",
       "\n",
       "    .dataframe tbody tr th {\n",
       "        vertical-align: top;\n",
       "    }\n",
       "\n",
       "    .dataframe thead th {\n",
       "        text-align: right;\n",
       "    }\n",
       "</style>\n",
       "<table border=\"1\" class=\"dataframe\">\n",
       "  <thead>\n",
       "    <tr style=\"text-align: right;\">\n",
       "      <th></th>\n",
       "      <th>PassengerId</th>\n",
       "      <th>Survived</th>\n",
       "      <th>Pclass</th>\n",
       "      <th>Name</th>\n",
       "      <th>Sex</th>\n",
       "      <th>Age</th>\n",
       "      <th>SibSp</th>\n",
       "      <th>Parch</th>\n",
       "      <th>Ticket</th>\n",
       "      <th>Fare</th>\n",
       "      <th>Cabin</th>\n",
       "      <th>Embarked</th>\n",
       "    </tr>\n",
       "  </thead>\n",
       "  <tbody>\n",
       "    <tr>\n",
       "      <th>0</th>\n",
       "      <td>1</td>\n",
       "      <td>0</td>\n",
       "      <td>3</td>\n",
       "      <td>Braund, Mr. Owen Harris</td>\n",
       "      <td>male</td>\n",
       "      <td>22.0</td>\n",
       "      <td>1</td>\n",
       "      <td>0</td>\n",
       "      <td>A/5 21171</td>\n",
       "      <td>7.2500</td>\n",
       "      <td>NaN</td>\n",
       "      <td>S</td>\n",
       "    </tr>\n",
       "    <tr>\n",
       "      <th>1</th>\n",
       "      <td>2</td>\n",
       "      <td>1</td>\n",
       "      <td>1</td>\n",
       "      <td>Cumings, Mrs. John Bradley (Florence Briggs Th...</td>\n",
       "      <td>female</td>\n",
       "      <td>38.0</td>\n",
       "      <td>1</td>\n",
       "      <td>0</td>\n",
       "      <td>PC 17599</td>\n",
       "      <td>71.2833</td>\n",
       "      <td>C85</td>\n",
       "      <td>C</td>\n",
       "    </tr>\n",
       "    <tr>\n",
       "      <th>2</th>\n",
       "      <td>3</td>\n",
       "      <td>1</td>\n",
       "      <td>3</td>\n",
       "      <td>Heikkinen, Miss. Laina</td>\n",
       "      <td>female</td>\n",
       "      <td>26.0</td>\n",
       "      <td>0</td>\n",
       "      <td>0</td>\n",
       "      <td>STON/O2. 3101282</td>\n",
       "      <td>7.9250</td>\n",
       "      <td>NaN</td>\n",
       "      <td>S</td>\n",
       "    </tr>\n",
       "    <tr>\n",
       "      <th>3</th>\n",
       "      <td>4</td>\n",
       "      <td>1</td>\n",
       "      <td>1</td>\n",
       "      <td>Futrelle, Mrs. Jacques Heath (Lily May Peel)</td>\n",
       "      <td>female</td>\n",
       "      <td>35.0</td>\n",
       "      <td>1</td>\n",
       "      <td>0</td>\n",
       "      <td>113803</td>\n",
       "      <td>53.1000</td>\n",
       "      <td>C123</td>\n",
       "      <td>S</td>\n",
       "    </tr>\n",
       "    <tr>\n",
       "      <th>4</th>\n",
       "      <td>5</td>\n",
       "      <td>0</td>\n",
       "      <td>3</td>\n",
       "      <td>Allen, Mr. William Henry</td>\n",
       "      <td>male</td>\n",
       "      <td>35.0</td>\n",
       "      <td>0</td>\n",
       "      <td>0</td>\n",
       "      <td>373450</td>\n",
       "      <td>8.0500</td>\n",
       "      <td>NaN</td>\n",
       "      <td>S</td>\n",
       "    </tr>\n",
       "    <tr>\n",
       "      <th>...</th>\n",
       "      <td>...</td>\n",
       "      <td>...</td>\n",
       "      <td>...</td>\n",
       "      <td>...</td>\n",
       "      <td>...</td>\n",
       "      <td>...</td>\n",
       "      <td>...</td>\n",
       "      <td>...</td>\n",
       "      <td>...</td>\n",
       "      <td>...</td>\n",
       "      <td>...</td>\n",
       "      <td>...</td>\n",
       "    </tr>\n",
       "    <tr>\n",
       "      <th>886</th>\n",
       "      <td>887</td>\n",
       "      <td>0</td>\n",
       "      <td>2</td>\n",
       "      <td>Montvila, Rev. Juozas</td>\n",
       "      <td>male</td>\n",
       "      <td>27.0</td>\n",
       "      <td>0</td>\n",
       "      <td>0</td>\n",
       "      <td>211536</td>\n",
       "      <td>13.0000</td>\n",
       "      <td>NaN</td>\n",
       "      <td>S</td>\n",
       "    </tr>\n",
       "    <tr>\n",
       "      <th>887</th>\n",
       "      <td>888</td>\n",
       "      <td>1</td>\n",
       "      <td>1</td>\n",
       "      <td>Graham, Miss. Margaret Edith</td>\n",
       "      <td>female</td>\n",
       "      <td>19.0</td>\n",
       "      <td>0</td>\n",
       "      <td>0</td>\n",
       "      <td>112053</td>\n",
       "      <td>30.0000</td>\n",
       "      <td>B42</td>\n",
       "      <td>S</td>\n",
       "    </tr>\n",
       "    <tr>\n",
       "      <th>888</th>\n",
       "      <td>889</td>\n",
       "      <td>0</td>\n",
       "      <td>3</td>\n",
       "      <td>Johnston, Miss. Catherine Helen \"Carrie\"</td>\n",
       "      <td>female</td>\n",
       "      <td>NaN</td>\n",
       "      <td>1</td>\n",
       "      <td>2</td>\n",
       "      <td>W./C. 6607</td>\n",
       "      <td>23.4500</td>\n",
       "      <td>NaN</td>\n",
       "      <td>S</td>\n",
       "    </tr>\n",
       "    <tr>\n",
       "      <th>889</th>\n",
       "      <td>890</td>\n",
       "      <td>1</td>\n",
       "      <td>1</td>\n",
       "      <td>Behr, Mr. Karl Howell</td>\n",
       "      <td>male</td>\n",
       "      <td>26.0</td>\n",
       "      <td>0</td>\n",
       "      <td>0</td>\n",
       "      <td>111369</td>\n",
       "      <td>30.0000</td>\n",
       "      <td>C148</td>\n",
       "      <td>C</td>\n",
       "    </tr>\n",
       "    <tr>\n",
       "      <th>890</th>\n",
       "      <td>891</td>\n",
       "      <td>0</td>\n",
       "      <td>3</td>\n",
       "      <td>Dooley, Mr. Patrick</td>\n",
       "      <td>male</td>\n",
       "      <td>32.0</td>\n",
       "      <td>0</td>\n",
       "      <td>0</td>\n",
       "      <td>370376</td>\n",
       "      <td>7.7500</td>\n",
       "      <td>NaN</td>\n",
       "      <td>Q</td>\n",
       "    </tr>\n",
       "  </tbody>\n",
       "</table>\n",
       "<p>891 rows × 12 columns</p>\n",
       "</div>"
      ],
      "text/plain": [
       "     PassengerId  Survived  Pclass                                               Name     Sex   Age  SibSp  Parch            Ticket  \\\n",
       "0              1         0       3                            Braund, Mr. Owen Harris    male  22.0      1      0         A/5 21171   \n",
       "1              2         1       1  Cumings, Mrs. John Bradley (Florence Briggs Th...  female  38.0      1      0          PC 17599   \n",
       "2              3         1       3                             Heikkinen, Miss. Laina  female  26.0      0      0  STON/O2. 3101282   \n",
       "3              4         1       1       Futrelle, Mrs. Jacques Heath (Lily May Peel)  female  35.0      1      0            113803   \n",
       "4              5         0       3                           Allen, Mr. William Henry    male  35.0      0      0            373450   \n",
       "..           ...       ...     ...                                                ...     ...   ...    ...    ...               ...   \n",
       "886          887         0       2                              Montvila, Rev. Juozas    male  27.0      0      0            211536   \n",
       "887          888         1       1                       Graham, Miss. Margaret Edith  female  19.0      0      0            112053   \n",
       "888          889         0       3           Johnston, Miss. Catherine Helen \"Carrie\"  female   NaN      1      2        W./C. 6607   \n",
       "889          890         1       1                              Behr, Mr. Karl Howell    male  26.0      0      0            111369   \n",
       "890          891         0       3                                Dooley, Mr. Patrick    male  32.0      0      0            370376   \n",
       "\n",
       "        Fare Cabin Embarked  \n",
       "0     7.2500   NaN        S  \n",
       "1    71.2833   C85        C  \n",
       "2     7.9250   NaN        S  \n",
       "3    53.1000  C123        S  \n",
       "4     8.0500   NaN        S  \n",
       "..       ...   ...      ...  \n",
       "886  13.0000   NaN        S  \n",
       "887  30.0000   B42        S  \n",
       "888  23.4500   NaN        S  \n",
       "889  30.0000  C148        C  \n",
       "890   7.7500   NaN        Q  \n",
       "\n",
       "[891 rows x 12 columns]"
      ]
     },
     "execution_count": 3,
     "metadata": {},
     "output_type": "execute_result"
    }
   ],
   "source": [
    "df = pd.read_csv(path/'train.csv')\n",
    "df"
   ]
  },
  {
   "cell_type": "markdown",
   "id": "e101c6bd",
   "metadata": {
    "hidden": true,
    "papermill": {
     "duration": 0.085724,
     "end_time": "2025-07-30T19:46:15.783381",
     "exception": false,
     "start_time": "2025-07-30T19:46:15.697657",
     "status": "completed"
    },
    "tags": []
   },
   "source": [
    "As we learned in the *How does a neural net really work* notebook, we going to want to multiply each column by some coefficients. But we can see in the `Cabin` column that there are `NaN` values, which is how Pandas refers to missing values. We can't multiply something by a missing value!\n",
    "\n",
    "Let's check which columns contain `NaN` values. Pandas' `isna()` function returns `True` (which is treated as `1` when used as a number) for `NaN` values, so we can just add them up for each column:"
   ]
  },
  {
   "cell_type": "code",
   "execution_count": 4,
   "id": "3195a198",
   "metadata": {
    "execution": {
     "iopub.execute_input": "2025-07-30T19:46:15.951943Z",
     "iopub.status.busy": "2025-07-30T19:46:15.951660Z",
     "iopub.status.idle": "2025-07-30T19:46:15.960682Z",
     "shell.execute_reply": "2025-07-30T19:46:15.959420Z"
    },
    "hidden": true,
    "papermill": {
     "duration": 0.092732,
     "end_time": "2025-07-30T19:46:15.962529",
     "exception": false,
     "start_time": "2025-07-30T19:46:15.869797",
     "status": "completed"
    },
    "tags": []
   },
   "outputs": [
    {
     "data": {
      "text/plain": [
       "PassengerId      0\n",
       "Survived         0\n",
       "Pclass           0\n",
       "Name             0\n",
       "Sex              0\n",
       "Age            177\n",
       "SibSp            0\n",
       "Parch            0\n",
       "Ticket           0\n",
       "Fare             0\n",
       "Cabin          687\n",
       "Embarked         2\n",
       "dtype: int64"
      ]
     },
     "execution_count": 4,
     "metadata": {},
     "output_type": "execute_result"
    }
   ],
   "source": [
    "df.isna().sum()"
   ]
  },
  {
   "cell_type": "markdown",
   "id": "e724518d",
   "metadata": {
    "hidden": true,
    "papermill": {
     "duration": 0.083599,
     "end_time": "2025-07-30T19:46:16.127966",
     "exception": false,
     "start_time": "2025-07-30T19:46:16.044367",
     "status": "completed"
    },
    "tags": []
   },
   "source": [
    "Notice that by default Pandas sums over columns.\n",
    "\n",
    "We'll need to replace the missing values with something. It doesn't generally matter too much what we choose. We'll use the most common value (the \"*mode*\"). We can use the `mode` function for that. One wrinkle is that it returns more than one row in the case of ties, so we just grab the first row with `iloc[0]`:"
   ]
  },
  {
   "cell_type": "code",
   "execution_count": 5,
   "id": "4b8251ea",
   "metadata": {
    "execution": {
     "iopub.execute_input": "2025-07-30T19:46:16.299485Z",
     "iopub.status.busy": "2025-07-30T19:46:16.299182Z",
     "iopub.status.idle": "2025-07-30T19:46:16.320324Z",
     "shell.execute_reply": "2025-07-30T19:46:16.319466Z"
    },
    "hidden": true,
    "papermill": {
     "duration": 0.110622,
     "end_time": "2025-07-30T19:46:16.322401",
     "exception": false,
     "start_time": "2025-07-30T19:46:16.211779",
     "status": "completed"
    },
    "tags": []
   },
   "outputs": [
    {
     "data": {
      "text/plain": [
       "PassengerId                      1\n",
       "Survived                       0.0\n",
       "Pclass                         3.0\n",
       "Name           Abbing, Mr. Anthony\n",
       "Sex                           male\n",
       "Age                           24.0\n",
       "SibSp                          0.0\n",
       "Parch                          0.0\n",
       "Ticket                        1601\n",
       "Fare                          8.05\n",
       "Cabin                      B96 B98\n",
       "Embarked                         S\n",
       "Name: 0, dtype: object"
      ]
     },
     "execution_count": 5,
     "metadata": {},
     "output_type": "execute_result"
    }
   ],
   "source": [
    "modes = df.mode().iloc[0]\n",
    "modes"
   ]
  },
  {
   "cell_type": "markdown",
   "id": "8a8709b5",
   "metadata": {
    "hidden": true,
    "papermill": {
     "duration": 0.081455,
     "end_time": "2025-07-30T19:46:16.486006",
     "exception": false,
     "start_time": "2025-07-30T19:46:16.404551",
     "status": "completed"
    },
    "tags": []
   },
   "source": [
    "BTW, it's never a good idea to use functions without understanding them. So be sure to google for anything you're not familiar with. E.g if you want to learn about `iloc` (which is a very important function indeed!) then Google will give you a link to a [great tutorial](https://www.shanelynn.ie/pandas-iloc-loc-select-rows-and-columns-dataframe/).\n",
    "\n",
    "Now that we've got the mode of each column, we can use `fillna` to replace the missing values with the mode of each column. We'll do it \"in place\" -- meaning that we'll change the dataframe itself, rather than returning a new one."
   ]
  },
  {
   "cell_type": "code",
   "execution_count": 6,
   "id": "9b474320",
   "metadata": {
    "execution": {
     "iopub.execute_input": "2025-07-30T19:46:16.654631Z",
     "iopub.status.busy": "2025-07-30T19:46:16.654372Z",
     "iopub.status.idle": "2025-07-30T19:46:16.666121Z",
     "shell.execute_reply": "2025-07-30T19:46:16.665218Z"
    },
    "hidden": true,
    "papermill": {
     "duration": 0.09856,
     "end_time": "2025-07-30T19:46:16.668111",
     "exception": false,
     "start_time": "2025-07-30T19:46:16.569551",
     "status": "completed"
    },
    "tags": []
   },
   "outputs": [],
   "source": [
    "df.fillna(modes, inplace=True)"
   ]
  },
  {
   "cell_type": "markdown",
   "id": "fd619b99",
   "metadata": {
    "hidden": true,
    "papermill": {
     "duration": 0.088094,
     "end_time": "2025-07-30T19:46:16.841220",
     "exception": false,
     "start_time": "2025-07-30T19:46:16.753126",
     "status": "completed"
    },
    "tags": []
   },
   "source": [
    "We can now check there's no missing values left:"
   ]
  },
  {
   "cell_type": "code",
   "execution_count": 7,
   "id": "a9294f42",
   "metadata": {
    "execution": {
     "iopub.execute_input": "2025-07-30T19:46:17.008223Z",
     "iopub.status.busy": "2025-07-30T19:46:17.007907Z",
     "iopub.status.idle": "2025-07-30T19:46:17.016720Z",
     "shell.execute_reply": "2025-07-30T19:46:17.015883Z"
    },
    "hidden": true,
    "papermill": {
     "duration": 0.095295,
     "end_time": "2025-07-30T19:46:17.018736",
     "exception": false,
     "start_time": "2025-07-30T19:46:16.923441",
     "status": "completed"
    },
    "tags": []
   },
   "outputs": [
    {
     "data": {
      "text/plain": [
       "PassengerId    0\n",
       "Survived       0\n",
       "Pclass         0\n",
       "Name           0\n",
       "Sex            0\n",
       "Age            0\n",
       "SibSp          0\n",
       "Parch          0\n",
       "Ticket         0\n",
       "Fare           0\n",
       "Cabin          0\n",
       "Embarked       0\n",
       "dtype: int64"
      ]
     },
     "execution_count": 7,
     "metadata": {},
     "output_type": "execute_result"
    }
   ],
   "source": [
    "df.isna().sum()"
   ]
  },
  {
   "cell_type": "markdown",
   "id": "05f649f9",
   "metadata": {
    "hidden": true,
    "papermill": {
     "duration": 0.085946,
     "end_time": "2025-07-30T19:46:17.185998",
     "exception": false,
     "start_time": "2025-07-30T19:46:17.100052",
     "status": "completed"
    },
    "tags": []
   },
   "source": [
    "Here's how we get a quick summary of all the numeric columns in the dataset:"
   ]
  },
  {
   "cell_type": "code",
   "execution_count": 8,
   "id": "4104c691",
   "metadata": {
    "execution": {
     "iopub.execute_input": "2025-07-30T19:46:17.353433Z",
     "iopub.status.busy": "2025-07-30T19:46:17.353164Z",
     "iopub.status.idle": "2025-07-30T19:46:17.383392Z",
     "shell.execute_reply": "2025-07-30T19:46:17.382476Z"
    },
    "hidden": true,
    "papermill": {
     "duration": 0.117734,
     "end_time": "2025-07-30T19:46:17.385959",
     "exception": false,
     "start_time": "2025-07-30T19:46:17.268225",
     "status": "completed"
    },
    "tags": []
   },
   "outputs": [
    {
     "data": {
      "text/html": [
       "<div>\n",
       "<style scoped>\n",
       "    .dataframe tbody tr th:only-of-type {\n",
       "        vertical-align: middle;\n",
       "    }\n",
       "\n",
       "    .dataframe tbody tr th {\n",
       "        vertical-align: top;\n",
       "    }\n",
       "\n",
       "    .dataframe thead th {\n",
       "        text-align: right;\n",
       "    }\n",
       "</style>\n",
       "<table border=\"1\" class=\"dataframe\">\n",
       "  <thead>\n",
       "    <tr style=\"text-align: right;\">\n",
       "      <th></th>\n",
       "      <th>PassengerId</th>\n",
       "      <th>Survived</th>\n",
       "      <th>Pclass</th>\n",
       "      <th>Age</th>\n",
       "      <th>SibSp</th>\n",
       "      <th>Parch</th>\n",
       "      <th>Fare</th>\n",
       "    </tr>\n",
       "  </thead>\n",
       "  <tbody>\n",
       "    <tr>\n",
       "      <th>count</th>\n",
       "      <td>891.000000</td>\n",
       "      <td>891.000000</td>\n",
       "      <td>891.000000</td>\n",
       "      <td>891.000000</td>\n",
       "      <td>891.000000</td>\n",
       "      <td>891.000000</td>\n",
       "      <td>891.000000</td>\n",
       "    </tr>\n",
       "    <tr>\n",
       "      <th>mean</th>\n",
       "      <td>446.000000</td>\n",
       "      <td>0.383838</td>\n",
       "      <td>2.308642</td>\n",
       "      <td>28.566970</td>\n",
       "      <td>0.523008</td>\n",
       "      <td>0.381594</td>\n",
       "      <td>32.204208</td>\n",
       "    </tr>\n",
       "    <tr>\n",
       "      <th>std</th>\n",
       "      <td>257.353842</td>\n",
       "      <td>0.486592</td>\n",
       "      <td>0.836071</td>\n",
       "      <td>13.199572</td>\n",
       "      <td>1.102743</td>\n",
       "      <td>0.806057</td>\n",
       "      <td>49.693429</td>\n",
       "    </tr>\n",
       "    <tr>\n",
       "      <th>min</th>\n",
       "      <td>1.000000</td>\n",
       "      <td>0.000000</td>\n",
       "      <td>1.000000</td>\n",
       "      <td>0.420000</td>\n",
       "      <td>0.000000</td>\n",
       "      <td>0.000000</td>\n",
       "      <td>0.000000</td>\n",
       "    </tr>\n",
       "    <tr>\n",
       "      <th>25%</th>\n",
       "      <td>223.500000</td>\n",
       "      <td>0.000000</td>\n",
       "      <td>2.000000</td>\n",
       "      <td>22.000000</td>\n",
       "      <td>0.000000</td>\n",
       "      <td>0.000000</td>\n",
       "      <td>7.910400</td>\n",
       "    </tr>\n",
       "    <tr>\n",
       "      <th>50%</th>\n",
       "      <td>446.000000</td>\n",
       "      <td>0.000000</td>\n",
       "      <td>3.000000</td>\n",
       "      <td>24.000000</td>\n",
       "      <td>0.000000</td>\n",
       "      <td>0.000000</td>\n",
       "      <td>14.454200</td>\n",
       "    </tr>\n",
       "    <tr>\n",
       "      <th>75%</th>\n",
       "      <td>668.500000</td>\n",
       "      <td>1.000000</td>\n",
       "      <td>3.000000</td>\n",
       "      <td>35.000000</td>\n",
       "      <td>1.000000</td>\n",
       "      <td>0.000000</td>\n",
       "      <td>31.000000</td>\n",
       "    </tr>\n",
       "    <tr>\n",
       "      <th>max</th>\n",
       "      <td>891.000000</td>\n",
       "      <td>1.000000</td>\n",
       "      <td>3.000000</td>\n",
       "      <td>80.000000</td>\n",
       "      <td>8.000000</td>\n",
       "      <td>6.000000</td>\n",
       "      <td>512.329200</td>\n",
       "    </tr>\n",
       "  </tbody>\n",
       "</table>\n",
       "</div>"
      ],
      "text/plain": [
       "       PassengerId    Survived      Pclass         Age       SibSp       Parch        Fare\n",
       "count   891.000000  891.000000  891.000000  891.000000  891.000000  891.000000  891.000000\n",
       "mean    446.000000    0.383838    2.308642   28.566970    0.523008    0.381594   32.204208\n",
       "std     257.353842    0.486592    0.836071   13.199572    1.102743    0.806057   49.693429\n",
       "min       1.000000    0.000000    1.000000    0.420000    0.000000    0.000000    0.000000\n",
       "25%     223.500000    0.000000    2.000000   22.000000    0.000000    0.000000    7.910400\n",
       "50%     446.000000    0.000000    3.000000   24.000000    0.000000    0.000000   14.454200\n",
       "75%     668.500000    1.000000    3.000000   35.000000    1.000000    0.000000   31.000000\n",
       "max     891.000000    1.000000    3.000000   80.000000    8.000000    6.000000  512.329200"
      ]
     },
     "execution_count": 8,
     "metadata": {},
     "output_type": "execute_result"
    }
   ],
   "source": [
    "import numpy as np\n",
    "\n",
    "df.describe(include=(np.number))"
   ]
  },
  {
   "cell_type": "markdown",
   "id": "c5487ba6",
   "metadata": {
    "execution": {
     "iopub.execute_input": "2022-05-13T11:02:34.328433Z",
     "iopub.status.busy": "2022-05-13T11:02:34.327999Z",
     "iopub.status.idle": "2022-05-13T11:02:34.336993Z",
     "shell.execute_reply": "2022-05-13T11:02:34.335466Z",
     "shell.execute_reply.started": "2022-05-13T11:02:34.32838Z"
    },
    "hidden": true,
    "papermill": {
     "duration": 0.088034,
     "end_time": "2025-07-30T19:46:17.559931",
     "exception": false,
     "start_time": "2025-07-30T19:46:17.471897",
     "status": "completed"
    },
    "tags": []
   },
   "source": [
    "We can see that `Fare` contains mainly values of around `0` to `30`, but there's a few really big ones. This is very common with fields contain monetary values, and it can cause problems for our model, because once that column is multiplied by a coefficient later, the few rows with really big values will dominate the result.\n",
    "\n",
    "You can see the issue most clearly visually by looking at a histogram, which shows a long tail to the right (and don't forget: if you're not entirely sure what a histogram is, Google \"[histogram tutorial](https://www.google.com/search?q=histogram+tutorial&oq=histogram+tutorial)\" and do a bit of reading before continuing on):"
   ]
  },
  {
   "cell_type": "code",
   "execution_count": 9,
   "id": "93cbfa4b",
   "metadata": {
    "execution": {
     "iopub.execute_input": "2025-07-30T19:46:17.729154Z",
     "iopub.status.busy": "2025-07-30T19:46:17.728891Z",
     "iopub.status.idle": "2025-07-30T19:46:17.924538Z",
     "shell.execute_reply": "2025-07-30T19:46:17.923735Z"
    },
    "hidden": true,
    "papermill": {
     "duration": 0.282374,
     "end_time": "2025-07-30T19:46:17.926529",
     "exception": false,
     "start_time": "2025-07-30T19:46:17.644155",
     "status": "completed"
    },
    "tags": []
   },
   "outputs": [
    {
     "data": {
      "image/png": "[encoded data removed]",
      "text/plain": [
       "<Figure size 432x288 with 1 Axes>"
      ]
     },
     "metadata": {
      "needs_background": "light"
     },
     "output_type": "display_data"
    }
   ],
   "source": [
    "df['Fare'].hist();"
   ]
  },
  {
   "cell_type": "markdown",
   "id": "c75c9857",
   "metadata": {
    "execution": {
     "iopub.execute_input": "2022-05-13T11:02:34.328433Z",
     "iopub.status.busy": "2022-05-13T11:02:34.327999Z",
     "iopub.status.idle": "2022-05-13T11:02:34.336993Z",
     "shell.execute_reply": "2022-05-13T11:02:34.335466Z",
     "shell.execute_reply.started": "2022-05-13T11:02:34.32838Z"
    },
    "hidden": true,
    "papermill": {
     "duration": 0.088265,
     "end_time": "2025-07-30T19:46:18.100888",
     "exception": false,
     "start_time": "2025-07-30T19:46:18.012623",
     "status": "completed"
    },
    "tags": []
   },
   "source": [
    "To fix this, the most common approach is to take the logarithm, which squishes the big numbers and makes the distribution more reasonable. Note, however, that there are zeros in the `Fare` column, and `log(0)` is infinite -- to fix this, we'll simply add `1` to all values first:"
   ]
  },
  {
   "cell_type": "code",
   "execution_count": 10,
   "id": "5c8e16d6",
   "metadata": {
    "execution": {
     "iopub.execute_input": "2025-07-30T19:46:18.271822Z",
     "iopub.status.busy": "2025-07-30T19:46:18.271554Z",
     "iopub.status.idle": "2025-07-30T19:46:18.277067Z",
     "shell.execute_reply": "2025-07-30T19:46:18.276298Z"
    },
    "hidden": true,
    "papermill": {
     "duration": 0.091957,
     "end_time": "2025-07-30T19:46:18.278976",
     "exception": false,
     "start_time": "2025-07-30T19:46:18.187019",
     "status": "completed"
    },
    "tags": []
   },
   "outputs": [],
   "source": [
    "df['LogFare'] = np.log(df['Fare']+1)"
   ]
  },
  {
   "cell_type": "markdown",
   "id": "b7314f5f",
   "metadata": {
    "hidden": true,
    "papermill": {
     "duration": 0.084563,
     "end_time": "2025-07-30T19:46:18.447973",
     "exception": false,
     "start_time": "2025-07-30T19:46:18.363410",
     "status": "completed"
    },
    "tags": []
   },
   "source": [
    "The histogram now shows a more even distribution of values without the long tail:"
   ]
  },
  {
   "cell_type": "code",
   "execution_count": 11,
   "id": "e3ca6298",
   "metadata": {
    "execution": {
     "iopub.execute_input": "2025-07-30T19:46:18.623628Z",
     "iopub.status.busy": "2025-07-30T19:46:18.623029Z",
     "iopub.status.idle": "2025-07-30T19:46:18.812702Z",
     "shell.execute_reply": "2025-07-30T19:46:18.811762Z"
    },
    "hidden": true,
    "papermill": {
     "duration": 0.277863,
     "end_time": "2025-07-30T19:46:18.815042",
     "exception": false,
     "start_time": "2025-07-30T19:46:18.537179",
     "status": "completed"
    },
    "tags": []
   },
   "outputs": [
    {
     "data": {
      "image/png": "[encoded data removed]",
      "text/plain": [
       "<Figure size 432x288 with 1 Axes>"
      ]
     },
     "metadata": {
      "needs_background": "light"
     },
     "output_type": "display_data"
    }
   ],
   "source": [
    "df['LogFare'].hist();"
   ]
  },
  {
   "cell_type": "markdown",
   "id": "bcf2fdc6",
   "metadata": {
    "hidden": true,
    "papermill": {
     "duration": 0.082456,
     "end_time": "2025-07-30T19:46:18.981441",
     "exception": false,
     "start_time": "2025-07-30T19:46:18.898985",
     "status": "completed"
    },
    "tags": []
   },
   "source": [
    "It looks from the `describe()` output like `Pclass` contains just 3 values, which we can confirm by looking at the [Data Dictionary](https://www.kaggle.com/competitions/titanic/data) (which you should always study carefully for any project!) -- "
   ]
  },
  {
   "cell_type": "code",
   "execution_count": 12,
   "id": "cfc4de4f",
   "metadata": {
    "execution": {
     "iopub.execute_input": "2025-07-30T19:46:19.154937Z",
     "iopub.status.busy": "2025-07-30T19:46:19.154288Z",
     "iopub.status.idle": "2025-07-30T19:46:19.160322Z",
     "shell.execute_reply": "2025-07-30T19:46:19.159518Z"
    },
    "hidden": true,
    "papermill": {
     "duration": 0.096221,
     "end_time": "2025-07-30T19:46:19.162128",
     "exception": false,
     "start_time": "2025-07-30T19:46:19.065907",
     "status": "completed"
    },
    "tags": []
   },
   "outputs": [
    {
     "data": {
      "text/plain": [
       "[1, 2, 3]"
      ]
     },
     "execution_count": 12,
     "metadata": {},
     "output_type": "execute_result"
    }
   ],
   "source": [
    "pclasses = sorted(df.Pclass.unique())\n",
    "pclasses"
   ]
  },
  {
   "cell_type": "markdown",
   "id": "4b3351c5",
   "metadata": {
    "hidden": true,
    "papermill": {
     "duration": 0.08374,
     "end_time": "2025-07-30T19:46:19.330449",
     "exception": false,
     "start_time": "2025-07-30T19:46:19.246709",
     "status": "completed"
    },
    "tags": []
   },
   "source": [
    "Here's how we get a quick summary of all the non-numeric columns in the dataset:"
   ]
  },
  {
   "cell_type": "code",
   "execution_count": 13,
   "id": "bd837c90",
   "metadata": {
    "execution": {
     "iopub.execute_input": "2025-07-30T19:46:19.499754Z",
     "iopub.status.busy": "2025-07-30T19:46:19.499147Z",
     "iopub.status.idle": "2025-07-30T19:46:19.518064Z",
     "shell.execute_reply": "2025-07-30T19:46:19.517193Z"
    },
    "hidden": true,
    "papermill": {
     "duration": 0.104736,
     "end_time": "2025-07-30T19:46:19.520226",
     "exception": false,
     "start_time": "2025-07-30T19:46:19.415490",
     "status": "completed"
    },
    "tags": []
   },
   "outputs": [
    {
     "data": {
      "text/html": [
       "<div>\n",
       "<style scoped>\n",
       "    .dataframe tbody tr th:only-of-type {\n",
       "        vertical-align: middle;\n",
       "    }\n",
       "\n",
       "    .dataframe tbody tr th {\n",
       "        vertical-align: top;\n",
       "    }\n",
       "\n",
       "    .dataframe thead th {\n",
       "        text-align: right;\n",
       "    }\n",
       "</style>\n",
       "<table border=\"1\" class=\"dataframe\">\n",
       "  <thead>\n",
       "    <tr style=\"text-align: right;\">\n",
       "      <th></th>\n",
       "      <th>Name</th>\n",
       "      <th>Sex</th>\n",
       "      <th>Ticket</th>\n",
       "      <th>Cabin</th>\n",
       "      <th>Embarked</th>\n",
       "    </tr>\n",
       "  </thead>\n",
       "  <tbody>\n",
       "    <tr>\n",
       "      <th>count</th>\n",
       "      <td>891</td>\n",
       "      <td>891</td>\n",
       "      <td>891</td>\n",
       "      <td>891</td>\n",
       "      <td>891</td>\n",
       "    </tr>\n",
       "    <tr>\n",
       "      <th>unique</th>\n",
       "      <td>891</td>\n",
       "      <td>2</td>\n",
       "      <td>681</td>\n",
       "      <td>147</td>\n",
       "      <td>3</td>\n",
       "    </tr>\n",
       "    <tr>\n",
       "      <th>top</th>\n",
       "      <td>Braund, Mr. Owen Harris</td>\n",
       "      <td>male</td>\n",
       "      <td>347082</td>\n",
       "      <td>B96 B98</td>\n",
       "      <td>S</td>\n",
       "    </tr>\n",
       "    <tr>\n",
       "      <th>freq</th>\n",
       "      <td>1</td>\n",
       "      <td>577</td>\n",
       "      <td>7</td>\n",
       "      <td>691</td>\n",
       "      <td>646</td>\n",
       "    </tr>\n",
       "  </tbody>\n",
       "</table>\n",
       "</div>"
      ],
      "text/plain": [
       "                           Name   Sex  Ticket    Cabin Embarked\n",
       "count                       891   891     891      891      891\n",
       "unique                      891     2     681      147        3\n",
       "top     Braund, Mr. Owen Harris  male  347082  B96 B98        S\n",
       "freq                          1   577       7      691      646"
      ]
     },
     "execution_count": 13,
     "metadata": {},
     "output_type": "execute_result"
    }
   ],
   "source": [
    "df.describe(include=[object])"
   ]
  },
  {
   "cell_type": "markdown",
   "id": "07118886",
   "metadata": {
    "hidden": true,
    "papermill": {
     "duration": 0.08346,
     "end_time": "2025-07-30T19:46:19.689098",
     "exception": false,
     "start_time": "2025-07-30T19:46:19.605638",
     "status": "completed"
    },
    "tags": []
   },
   "source": [
    "Clearly we can't multiply strings like `male` or `S` by coefficients, so we need to replace those with numbers.\n",
    "\n",
    "We do that by creating new columns containing *dummy variables*. A dummy variable is a column that contains a `1` where a particular column contains a particular value, or a `0` otherwise. For instance, we could create a dummy variable for `Sex='male'`, which would be a new column containing `1` for rows where `Sex` is `'male'`, and 0 for rows where it isn't.\n",
    "\n",
    "Pandas can create these automatically using `get_dummies`, which also remove the original columns. We'll create dummy variables for `Pclass`, even although it's numeric, since the numbers `1`, `2`, and `3` correspond to first, second, and third class cabins - not to counts or measures that make sense to multiply by. We'll also create dummies for `Sex` and `Embarked` since we'll want to use those as predictors in our model. On the other hand, `Cabin`, `Name`, and `Ticket` have too many unique values for it to make sense creating dummy variables for them."
   ]
  },
  {
   "cell_type": "code",
   "execution_count": 14,
   "id": "708b4adf",
   "metadata": {
    "execution": {
     "iopub.execute_input": "2025-07-30T19:46:19.870613Z",
     "iopub.status.busy": "2025-07-30T19:46:19.870348Z",
     "iopub.status.idle": "2025-07-30T19:46:19.883909Z",
     "shell.execute_reply": "2025-07-30T19:46:19.882457Z"
    },
    "hidden": true,
    "papermill": {
     "duration": 0.110297,
     "end_time": "2025-07-30T19:46:19.886349",
     "exception": false,
     "start_time": "2025-07-30T19:46:19.776052",
     "status": "completed"
    },
    "tags": []
   },
   "outputs": [
    {
     "data": {
      "text/plain": [
       "Index(['PassengerId', 'Survived', 'Name', 'Age', 'SibSp', 'Parch', 'Ticket', 'Fare', 'Cabin', 'LogFare', 'Sex_female', 'Sex_male',\n",
       "       'Pclass_1', 'Pclass_2', 'Pclass_3', 'Embarked_C', 'Embarked_Q', 'Embarked_S'],\n",
       "      dtype='object')"
      ]
     },
     "execution_count": 14,
     "metadata": {},
     "output_type": "execute_result"
    }
   ],
   "source": [
    "df = pd.get_dummies(df, columns=[\"Sex\",\"Pclass\",\"Embarked\"])\n",
    "df.columns"
   ]
  },
  {
   "cell_type": "markdown",
   "id": "09ca109a",
   "metadata": {
    "hidden": true,
    "papermill": {
     "duration": 0.085403,
     "end_time": "2025-07-30T19:46:20.057915",
     "exception": false,
     "start_time": "2025-07-30T19:46:19.972512",
     "status": "completed"
    },
    "tags": []
   },
   "source": [
    "We can see that 5 columns have been added to the end -- one for each of the possible values of each of the three columns we requested, and that those three requested columns have been removed.\n",
    "\n",
    "Here's what the first few rows of those newly added columns look like:"
   ]
  },
  {
   "cell_type": "code",
   "execution_count": 15,
   "id": "917441c3",
   "metadata": {
    "execution": {
     "iopub.execute_input": "2025-07-30T19:46:20.229215Z",
     "iopub.status.busy": "2025-07-30T19:46:20.228973Z",
     "iopub.status.idle": "2025-07-30T19:46:20.242660Z",
     "shell.execute_reply": "2025-07-30T19:46:20.241866Z"
    },
    "hidden": true,
    "papermill": {
     "duration": 0.101804,
     "end_time": "2025-07-30T19:46:20.244752",
     "exception": false,
     "start_time": "2025-07-30T19:46:20.142948",
     "status": "completed"
    },
    "tags": []
   },
   "outputs": [
    {
     "data": {
      "text/html": [
       "<div>\n",
       "<style scoped>\n",
       "    .dataframe tbody tr th:only-of-type {\n",
       "        vertical-align: middle;\n",
       "    }\n",
       "\n",
       "    .dataframe tbody tr th {\n",
       "        vertical-align: top;\n",
       "    }\n",
       "\n",
       "    .dataframe thead th {\n",
       "        text-align: right;\n",
       "    }\n",
       "</style>\n",
       "<table border=\"1\" class=\"dataframe\">\n",
       "  <thead>\n",
       "    <tr style=\"text-align: right;\">\n",
       "      <th></th>\n",
       "      <th>Sex_male</th>\n",
       "      <th>Sex_female</th>\n",
       "      <th>Pclass_1</th>\n",
       "      <th>Pclass_2</th>\n",
       "      <th>Pclass_3</th>\n",
       "      <th>Embarked_C</th>\n",
       "      <th>Embarked_Q</th>\n",
       "      <th>Embarked_S</th>\n",
       "    </tr>\n",
       "  </thead>\n",
       "  <tbody>\n",
       "    <tr>\n",
       "      <th>0</th>\n",
       "      <td>1</td>\n",
       "      <td>0</td>\n",
       "      <td>0</td>\n",
       "      <td>0</td>\n",
       "      <td>1</td>\n",
       "      <td>0</td>\n",
       "      <td>0</td>\n",
       "      <td>1</td>\n",
       "    </tr>\n",
       "    <tr>\n",
       "      <th>1</th>\n",
       "      <td>0</td>\n",
       "      <td>1</td>\n",
       "      <td>1</td>\n",
       "      <td>0</td>\n",
       "      <td>0</td>\n",
       "      <td>1</td>\n",
       "      <td>0</td>\n",
       "      <td>0</td>\n",
       "    </tr>\n",
       "    <tr>\n",
       "      <th>2</th>\n",
       "      <td>0</td>\n",
       "      <td>1</td>\n",
       "      <td>0</td>\n",
       "      <td>0</td>\n",
       "      <td>1</td>\n",
       "      <td>0</td>\n",
       "      <td>0</td>\n",
       "      <td>1</td>\n",
       "    </tr>\n",
       "    <tr>\n",
       "      <th>3</th>\n",
       "      <td>0</td>\n",
       "      <td>1</td>\n",
       "      <td>1</td>\n",
       "      <td>0</td>\n",
       "      <td>0</td>\n",
       "      <td>0</td>\n",
       "      <td>0</td>\n",
       "      <td>1</td>\n",
       "    </tr>\n",
       "    <tr>\n",
       "      <th>4</th>\n",
       "      <td>1</td>\n",
       "      <td>0</td>\n",
       "      <td>0</td>\n",
       "      <td>0</td>\n",
       "      <td>1</td>\n",
       "      <td>0</td>\n",
       "      <td>0</td>\n",
       "      <td>1</td>\n",
       "    </tr>\n",
       "  </tbody>\n",
       "</table>\n",
       "</div>"
      ],
      "text/plain": [
       "   Sex_male  Sex_female  Pclass_1  Pclass_2  Pclass_3  Embarked_C  Embarked_Q  Embarked_S\n",
       "0         1           0         0         0         1           0           0           1\n",
       "1         0           1         1         0         0           1           0           0\n",
       "2         0           1         0         0         1           0           0           1\n",
       "3         0           1         1         0         0           0           0           1\n",
       "4         1           0         0         0         1           0           0           1"
      ]
     },
     "execution_count": 15,
     "metadata": {},
     "output_type": "execute_result"
    }
   ],
   "source": [
    "added_cols = ['Sex_male', 'Sex_female', 'Pclass_1', 'Pclass_2', 'Pclass_3', 'Embarked_C', 'Embarked_Q', 'Embarked_S']\n",
    "df[added_cols].head()"
   ]
  },
  {
   "cell_type": "markdown",
   "id": "a92b7e8d",
   "metadata": {
    "hidden": true,
    "papermill": {
     "duration": 0.085111,
     "end_time": "2025-07-30T19:46:20.413503",
     "exception": false,
     "start_time": "2025-07-30T19:46:20.328392",
     "status": "completed"
    },
    "tags": []
   },
   "source": [
    "Now we can create our independent (predictors) and dependent (target) variables. They both need to be PyTorch tensors. Our dependent variable is `Survived`:"
   ]
  },
  {
   "cell_type": "code",
   "execution_count": 16,
   "id": "a3542cd5",
   "metadata": {
    "execution": {
     "iopub.execute_input": "2025-07-30T19:46:20.587669Z",
     "iopub.status.busy": "2025-07-30T19:46:20.587398Z",
     "iopub.status.idle": "2025-07-30T19:46:20.599811Z",
     "shell.execute_reply": "2025-07-30T19:46:20.599042Z"
    },
    "hidden": true,
    "papermill": {
     "duration": 0.102565,
     "end_time": "2025-07-30T19:46:20.601738",
     "exception": false,
     "start_time": "2025-07-30T19:46:20.499173",
     "status": "completed"
    },
    "tags": []
   },
   "outputs": [],
   "source": [
    "from torch import tensor\n",
    "\n",
    "t_dep = tensor(df.Survived)"
   ]
  },
  {
   "cell_type": "markdown",
   "id": "8003b02f",
   "metadata": {
    "hidden": true,
    "papermill": {
     "duration": 0.089948,
     "end_time": "2025-07-30T19:46:20.775309",
     "exception": false,
     "start_time": "2025-07-30T19:46:20.685361",
     "status": "completed"
    },
    "tags": []
   },
   "source": [
    "Our independent variables are all the continuous variables of interest plus all the dummy variables we just created:"
   ]
  },
  {
   "cell_type": "code",
   "execution_count": 17,
   "id": "dd49249a",
   "metadata": {
    "execution": {
     "iopub.execute_input": "2025-07-30T19:46:20.972557Z",
     "iopub.status.busy": "2025-07-30T19:46:20.972281Z",
     "iopub.status.idle": "2025-07-30T19:46:21.058403Z",
     "shell.execute_reply": "2025-07-30T19:46:21.057582Z"
    },
    "hidden": true,
    "papermill": {
     "duration": 0.191966,
     "end_time": "2025-07-30T19:46:21.061075",
     "exception": false,
     "start_time": "2025-07-30T19:46:20.869109",
     "status": "completed"
    },
    "tags": []
   },
   "outputs": [
    {
     "data": {
      "text/plain": [
       "tensor([[22.0000,  1.0000,  0.0000,  2.1102,  1.0000,  0.0000,  0.0000,  0.0000,  1.0000,  0.0000,  0.0000,  1.0000],\n",
       "        [38.0000,  1.0000,  0.0000,  4.2806,  0.0000,  1.0000,  1.0000,  0.0000,  0.0000,  1.0000,  0.0000,  0.0000],\n",
       "        [26.0000,  0.0000,  0.0000,  2.1889,  0.0000,  1.0000,  0.0000,  0.0000,  1.0000,  0.0000,  0.0000,  1.0000],\n",
       "        [35.0000,  1.0000,  0.0000,  3.9908,  0.0000,  1.0000,  1.0000,  0.0000,  0.0000,  0.0000,  0.0000,  1.0000],\n",
       "        [35.0000,  0.0000,  0.0000,  2.2028,  1.0000,  0.0000,  0.0000,  0.0000,  1.0000,  0.0000,  0.0000,  1.0000],\n",
       "        [24.0000,  0.0000,  0.0000,  2.2469,  1.0000,  0.0000,  0.0000,  0.0000,  1.0000,  0.0000,  1.0000,  0.0000],\n",
       "        [54.0000,  0.0000,  0.0000,  3.9677,  1.0000,  0.0000,  1.0000,  0.0000,  0.0000,  0.0000,  0.0000,  1.0000],\n",
       "        ...,\n",
       "        [25.0000,  0.0000,  0.0000,  2.0857,  1.0000,  0.0000,  0.0000,  0.0000,  1.0000,  0.0000,  0.0000,  1.0000],\n",
       "        [39.0000,  0.0000,  5.0000,  3.4054,  0.0000,  1.0000,  0.0000,  0.0000,  1.0000,  0.0000,  1.0000,  0.0000],\n",
       "        [27.0000,  0.0000,  0.0000,  2.6391,  1.0000,  0.0000,  0.0000,  1.0000,  0.0000,  0.0000,  0.0000,  1.0000],\n",
       "        [19.0000,  0.0000,  0.0000,  3.4340,  0.0000,  1.0000,  1.0000,  0.0000,  0.0000,  0.0000,  0.0000,  1.0000],\n",
       "        [24.0000,  1.0000,  2.0000,  3.1966,  0.0000,  1.0000,  0.0000,  0.0000,  1.0000,  0.0000,  0.0000,  1.0000],\n",
       "        [26.0000,  0.0000,  0.0000,  3.4340,  1.0000,  0.0000,  1.0000,  0.0000,  0.0000,  1.0000,  0.0000,  0.0000],\n",
       "        [32.0000,  0.0000,  0.0000,  2.1691,  1.0000,  0.0000,  0.0000,  0.0000,  1.0000,  0.0000,  1.0000,  0.0000]])"
      ]
     },
     "execution_count": 17,
     "metadata": {},
     "output_type": "execute_result"
    }
   ],
   "source": [
    "indep_cols = ['Age', 'SibSp', 'Parch', 'LogFare'] + added_cols\n",
    "\n",
    "t_indep = tensor(df[indep_cols].values, dtype=torch.float)\n",
    "t_indep"
   ]
  },
  {
   "cell_type": "markdown",
   "id": "6289fcd5",
   "metadata": {
    "hidden": true,
    "papermill": {
     "duration": 0.088369,
     "end_time": "2025-07-30T19:46:21.235447",
     "exception": false,
     "start_time": "2025-07-30T19:46:21.147078",
     "status": "completed"
    },
    "tags": []
   },
   "source": [
    "Here's the number of rows and columns we have for our independent variables:"
   ]
  },
  {
   "cell_type": "code",
   "execution_count": 18,
   "id": "e6a40412",
   "metadata": {
    "execution": {
     "iopub.execute_input": "2025-07-30T19:46:21.428182Z",
     "iopub.status.busy": "2025-07-30T19:46:21.427929Z",
     "iopub.status.idle": "2025-07-30T19:46:21.433914Z",
     "shell.execute_reply": "2025-07-30T19:46:21.433078Z"
    },
    "hidden": true,
    "papermill": {
     "duration": 0.109476,
     "end_time": "2025-07-30T19:46:21.435739",
     "exception": false,
     "start_time": "2025-07-30T19:46:21.326263",
     "status": "completed"
    },
    "tags": []
   },
   "outputs": [
    {
     "data": {
      "text/plain": [
       "torch.Size([891, 12])"
      ]
     },
     "execution_count": 18,
     "metadata": {},
     "output_type": "execute_result"
    }
   ],
   "source": [
    "t_indep.shape"
   ]
  },
  {
   "cell_type": "markdown",
   "id": "ec6bbe8a",
   "metadata": {
    "papermill": {
     "duration": 0.089882,
     "end_time": "2025-07-30T19:46:21.614648",
     "exception": false,
     "start_time": "2025-07-30T19:46:21.524766",
     "status": "completed"
    },
    "tags": []
   },
   "source": [
    "## Setting up a linear model"
   ]
  },
  {
   "cell_type": "markdown",
   "id": "70f19885",
   "metadata": {
    "papermill": {
     "duration": 0.0934,
     "end_time": "2025-07-30T19:46:21.803798",
     "exception": false,
     "start_time": "2025-07-30T19:46:21.710398",
     "status": "completed"
    },
    "tags": []
   },
   "source": [
    "Now that we've got a matrix of independent variables and a dependent variable vector, we can work on calculating our predictions and our loss. In this section, we're going to manually do a single step of calculating predictions and loss for every row of our data.\n",
    "\n",
    "Our first model will be a simple linear model. We'll need a coefficient for each column in `t_indep`. We'll pick random numbers in the range `(-0.5,0.5)`, and set our manual seed so that my explanations in the prose in this notebook will be consistent with what you see when you run it."
   ]
  },
  {
   "cell_type": "code",
   "execution_count": 19,
   "id": "63061f4c",
   "metadata": {
    "execution": {
     "iopub.execute_input": "2025-07-30T19:46:21.999569Z",
     "iopub.status.busy": "2025-07-30T19:46:21.999329Z",
     "iopub.status.idle": "2025-07-30T19:46:22.018486Z",
     "shell.execute_reply": "2025-07-30T19:46:22.017297Z"
    },
    "papermill": {
     "duration": 0.122792,
     "end_time": "2025-07-30T19:46:22.020804",
     "exception": false,
     "start_time": "2025-07-30T19:46:21.898012",
     "status": "completed"
    },
    "tags": []
   },
   "outputs": [
    {
     "data": {
      "text/plain": [
       "tensor([-0.4629,  0.1386,  0.2409, -0.2262, -0.2632, -0.3147,  0.4876,  0.3136,  0.2799, -0.4392,  0.2103,  0.3625])"
      ]
     },
     "execution_count": 19,
     "metadata": {},
     "output_type": "execute_result"
    }
   ],
   "source": [
    "torch.manual_seed(442)\n",
    "\n",
    "n_coeff = t_indep.shape[1]\n",
    "coeffs = torch.rand(n_coeff)-0.5\n",
    "coeffs"
   ]
  },
  {
   "cell_type": "markdown",
   "id": "726d882c",
   "metadata": {
    "papermill": {
     "duration": 0.097831,
     "end_time": "2025-07-30T19:46:22.214994",
     "exception": false,
     "start_time": "2025-07-30T19:46:22.117163",
     "status": "completed"
    },
    "tags": []
   },
   "source": [
    "Our predictions will be calculated by multiplying each row by the coefficients, and adding them up. One interesting point here is that we don't need a separate constant term (also known as a \"bias\" or \"intercept\" term), or a column of all `1`s to give the same effect has having a constant term. That's because our dummy variables already cover the entire dataset -- e.g. there's a column for \"male\" and a column for \"female\", and everyone in the dataset is in exactly one of these; therefore, we don't need a separate intercept term to cover rows that aren't otherwise part of a column.\n",
    "\n",
    "Here's what the multiplication looks like:"
   ]
  },
  {
   "cell_type": "code",
   "execution_count": 20,
   "id": "7d05ec09",
   "metadata": {
    "execution": {
     "iopub.execute_input": "2025-07-30T19:46:22.403718Z",
     "iopub.status.busy": "2025-07-30T19:46:22.403482Z",
     "iopub.status.idle": "2025-07-30T19:46:22.411936Z",
     "shell.execute_reply": "2025-07-30T19:46:22.410885Z"
    },
    "papermill": {
     "duration": 0.10144,
     "end_time": "2025-07-30T19:46:22.414369",
     "exception": false,
     "start_time": "2025-07-30T19:46:22.312929",
     "status": "completed"
    },
    "tags": []
   },
   "outputs": [
    {
     "data": {
      "text/plain": [
       "tensor([[-10.1838,   0.1386,   0.0000,  -0.4772,  -0.2632,  -0.0000,   0.0000,   0.0000,   0.2799,  -0.0000,   0.0000,   0.3625],\n",
       "        [-17.5902,   0.1386,   0.0000,  -0.9681,  -0.0000,  -0.3147,   0.4876,   0.0000,   0.0000,  -0.4392,   0.0000,   0.0000],\n",
       "        [-12.0354,   0.0000,   0.0000,  -0.4950,  -0.0000,  -0.3147,   0.0000,   0.0000,   0.2799,  -0.0000,   0.0000,   0.3625],\n",
       "        [-16.2015,   0.1386,   0.0000,  -0.9025,  -0.0000,  -0.3147,   0.4876,   0.0000,   0.0000,  -0.0000,   0.0000,   0.3625],\n",
       "        [-16.2015,   0.0000,   0.0000,  -0.4982,  -0.2632,  -0.0000,   0.0000,   0.0000,   0.2799,  -0.0000,   0.0000,   0.3625],\n",
       "        [-11.1096,   0.0000,   0.0000,  -0.5081,  -0.2632,  -0.0000,   0.0000,   0.0000,   0.2799,  -0.0000,   0.2103,   0.0000],\n",
       "        [-24.9966,   0.0000,   0.0000,  -0.8973,  -0.2632,  -0.0000,   0.4876,   0.0000,   0.0000,  -0.0000,   0.0000,   0.3625],\n",
       "        ...,\n",
       "        [-11.5725,   0.0000,   0.0000,  -0.4717,  -0.2632,  -0.0000,   0.0000,   0.0000,   0.2799,  -0.0000,   0.0000,   0.3625],\n",
       "        [-18.0531,   0.0000,   1.2045,  -0.7701,  -0.0000,  -0.3147,   0.0000,   0.0000,   0.2799,  -0.0000,   0.2103,   0.0000],\n",
       "        [-12.4983,   0.0000,   0.0000,  -0.5968,  -0.2632,  -0.0000,   0.0000,   0.3136,   0.0000,  -0.0000,   0.0000,   0.3625],\n",
       "        [ -8.7951,   0.0000,   0.0000,  -0.7766,  -0.0000,  -0.3147,   0.4876,   0.0000,   0.0000,  -0.0000,   0.0000,   0.3625],\n",
       "        [-11.1096,   0.1386,   0.4818,  -0.7229,  -0.0000,  -0.3147,   0.0000,   0.0000,   0.2799,  -0.0000,   0.0000,   0.3625],\n",
       "        [-12.0354,   0.0000,   0.0000,  -0.7766,  -0.2632,  -0.0000,   0.4876,   0.0000,   0.0000,  -0.4392,   0.0000,   0.0000],\n",
       "        [-14.8128,   0.0000,   0.0000,  -0.4905,  -0.2632,  -0.0000,   0.0000,   0.0000,   0.2799,  -0.0000,   0.2103,   0.0000]])"
      ]
     },
     "execution_count": 20,
     "metadata": {},
     "output_type": "execute_result"
    }
   ],
   "source": [
    "t_indep*coeffs"
   ]
  },
  {
   "cell_type": "markdown",
   "id": "c9664a14",
   "metadata": {
    "papermill": {
     "duration": 0.087659,
     "end_time": "2025-07-30T19:46:22.590149",
     "exception": false,
     "start_time": "2025-07-30T19:46:22.502490",
     "status": "completed"
    },
    "tags": []
   },
   "source": [
    "We can see we've got a problem here. The sums of each row will be dominated by the first column, which is `Age`, since that's bigger on average than all the others.\n",
    "\n",
    "Let's make all the columns contain numbers from `0` to `1`, by dividing each column by its `max()`:"
   ]
  },
  {
   "cell_type": "code",
   "execution_count": 21,
   "id": "adf15437",
   "metadata": {
    "execution": {
     "iopub.execute_input": "2025-07-30T19:46:22.765627Z",
     "iopub.status.busy": "2025-07-30T19:46:22.765363Z",
     "iopub.status.idle": "2025-07-30T19:46:22.772165Z",
     "shell.execute_reply": "2025-07-30T19:46:22.771157Z"
    },
    "papermill": {
     "duration": 0.098493,
     "end_time": "2025-07-30T19:46:22.774829",
     "exception": false,
     "start_time": "2025-07-30T19:46:22.676336",
     "status": "completed"
    },
    "tags": []
   },
   "outputs": [],
   "source": [
    "vals,indices = t_indep.max(dim=0)\n",
    "t_indep = t_indep / vals"
   ]
  },
  {
   "cell_type": "markdown",
   "id": "c40f8c7d",
   "metadata": {
    "papermill": {
     "duration": 0.085435,
     "end_time": "2025-07-30T19:46:22.952982",
     "exception": false,
     "start_time": "2025-07-30T19:46:22.867547",
     "status": "completed"
    },
    "tags": []
   },
   "source": [
    "As we see, that removes the problem of one column dominating all the others:"
   ]
  },
  {
   "cell_type": "code",
   "execution_count": 22,
   "id": "4788011a",
   "metadata": {
    "execution": {
     "iopub.execute_input": "2025-07-30T19:46:23.128840Z",
     "iopub.status.busy": "2025-07-30T19:46:23.128299Z",
     "iopub.status.idle": "2025-07-30T19:46:23.137840Z",
     "shell.execute_reply": "2025-07-30T19:46:23.136719Z"
    },
    "papermill": {
     "duration": 0.100749,
     "end_time": "2025-07-30T19:46:23.139881",
     "exception": false,
     "start_time": "2025-07-30T19:46:23.039132",
     "status": "completed"
    },
    "tags": []
   },
   "outputs": [
    {
     "data": {
      "text/plain": [
       "tensor([[-0.1273,  0.0173,  0.0000, -0.0765, -0.2632, -0.0000,  0.0000,  0.0000,  0.2799, -0.0000,  0.0000,  0.3625],\n",
       "        [-0.2199,  0.0173,  0.0000, -0.1551, -0.0000, -0.3147,  0.4876,  0.0000,  0.0000, -0.4392,  0.0000,  0.0000],\n",
       "        [-0.1504,  0.0000,  0.0000, -0.0793, -0.0000, -0.3147,  0.0000,  0.0000,  0.2799, -0.0000,  0.0000,  0.3625],\n",
       "        [-0.2025,  0.0173,  0.0000, -0.1446, -0.0000, -0.3147,  0.4876,  0.0000,  0.0000, -0.0000,  0.0000,  0.3625],\n",
       "        [-0.2025,  0.0000,  0.0000, -0.0798, -0.2632, -0.0000,  0.0000,  0.0000,  0.2799, -0.0000,  0.0000,  0.3625],\n",
       "        [-0.1389,  0.0000,  0.0000, -0.0814, -0.2632, -0.0000,  0.0000,  0.0000,  0.2799, -0.0000,  0.2103,  0.0000],\n",
       "        [-0.3125,  0.0000,  0.0000, -0.1438, -0.2632, -0.0000,  0.4876,  0.0000,  0.0000, -0.0000,  0.0000,  0.3625],\n",
       "        ...,\n",
       "        [-0.1447,  0.0000,  0.0000, -0.0756, -0.2632, -0.0000,  0.0000,  0.0000,  0.2799, -0.0000,  0.0000,  0.3625],\n",
       "        [-0.2257,  0.0000,  0.2008, -0.1234, -0.0000, -0.3147,  0.0000,  0.0000,  0.2799, -0.0000,  0.2103,  0.0000],\n",
       "        [-0.1562,  0.0000,  0.0000, -0.0956, -0.2632, -0.0000,  0.0000,  0.3136,  0.0000, -0.0000,  0.0000,  0.3625],\n",
       "        [-0.1099,  0.0000,  0.0000, -0.1244, -0.0000, -0.3147,  0.4876,  0.0000,  0.0000, -0.0000,  0.0000,  0.3625],\n",
       "        [-0.1389,  0.0173,  0.0803, -0.1158, -0.0000, -0.3147,  0.0000,  0.0000,  0.2799, -0.0000,  0.0000,  0.3625],\n",
       "        [-0.1504,  0.0000,  0.0000, -0.1244, -0.2632, -0.0000,  0.4876,  0.0000,  0.0000, -0.4392,  0.0000,  0.0000],\n",
       "        [-0.1852,  0.0000,  0.0000, -0.0786, -0.2632, -0.0000,  0.0000,  0.0000,  0.2799, -0.0000,  0.2103,  0.0000]])"
      ]
     },
     "execution_count": 22,
     "metadata": {},
     "output_type": "execute_result"
    }
   ],
   "source": [
    "t_indep*coeffs"
   ]
  },
  {
   "cell_type": "markdown",
   "id": "6d2f9072",
   "metadata": {
    "papermill": {
     "duration": 0.091254,
     "end_time": "2025-07-30T19:46:23.319063",
     "exception": false,
     "start_time": "2025-07-30T19:46:23.227809",
     "status": "completed"
    },
    "tags": []
   },
   "source": [
    "One thing you hopefully noticed is how amazingly cool this line of code is:\n",
    "\n",
    "    t_indep = t_indep / vals\n",
    "\n",
    "That is dividing a matrix by a vector -- what on earth does that mean?!? The trick here is that we're taking advantage of a technique in numpy and PyTorch (and many other languages, going all the way back to APL) called [broadcasting](https://numpy.org/doc/stable/user/basics.broadcasting.html). In short, this acts as if there's a separate copy of the vector for every row of the matrix, so it divides each row of the matrix by the vector. In practice, it doesn't actually make any copies, and does the whole thing in a highly optimized way, taking full advantage of modern CPUs (or, indeed, GPUs, if we're using them). Broadcasting is one of the most important techniques for making your code concise, maintainable, and fast, so it's well worth studying and practicing.\n",
    "\n",
    "We can now create predictions from our linear model, by adding up the rows of the product:"
   ]
  },
  {
   "cell_type": "code",
   "execution_count": 23,
   "id": "466246d3",
   "metadata": {
    "execution": {
     "iopub.execute_input": "2025-07-30T19:46:23.497722Z",
     "iopub.status.busy": "2025-07-30T19:46:23.497410Z",
     "iopub.status.idle": "2025-07-30T19:46:23.504855Z",
     "shell.execute_reply": "2025-07-30T19:46:23.504077Z"
    },
    "papermill": {
     "duration": 0.097212,
     "end_time": "2025-07-30T19:46:23.506774",
     "exception": false,
     "start_time": "2025-07-30T19:46:23.409562",
     "status": "completed"
    },
    "tags": []
   },
   "outputs": [],
   "source": [
    "preds = (t_indep*coeffs).sum(axis=1)"
   ]
  },
  {
   "cell_type": "markdown",
   "id": "3937a2c5",
   "metadata": {
    "papermill": {
     "duration": 0.087533,
     "end_time": "2025-07-30T19:46:23.680334",
     "exception": false,
     "start_time": "2025-07-30T19:46:23.592801",
     "status": "completed"
    },
    "tags": []
   },
   "source": [
    "Let's take a look at the first few:"
   ]
  },
  {
   "cell_type": "code",
   "execution_count": 24,
   "id": "fbdad4a0",
   "metadata": {
    "execution": {
     "iopub.execute_input": "2025-07-30T19:46:23.864483Z",
     "iopub.status.busy": "2025-07-30T19:46:23.864227Z",
     "iopub.status.idle": "2025-07-30T19:46:23.871775Z",
     "shell.execute_reply": "2025-07-30T19:46:23.870984Z"
    },
    "papermill": {
     "duration": 0.102974,
     "end_time": "2025-07-30T19:46:23.873710",
     "exception": false,
     "start_time": "2025-07-30T19:46:23.770736",
     "status": "completed"
    },
    "tags": []
   },
   "outputs": [
    {
     "data": {
      "text/plain": [
       "tensor([ 0.1927, -0.6239,  0.0979,  0.2056,  0.0968,  0.0066,  0.1306,  0.3476,  0.1613, -0.6285])"
      ]
     },
     "execution_count": 24,
     "metadata": {},
     "output_type": "execute_result"
    }
   ],
   "source": [
    "preds[:10]"
   ]
  },
  {
   "cell_type": "markdown",
   "id": "607d028a",
   "metadata": {
    "papermill": {
     "duration": 0.085863,
     "end_time": "2025-07-30T19:46:24.045430",
     "exception": false,
     "start_time": "2025-07-30T19:46:23.959567",
     "status": "completed"
    },
    "tags": []
   },
   "source": [
    "Of course, these predictions aren't going to be any use, since our coefficients are random -- they're just a starting point for our gradient descent process.\n",
    "\n",
    "To do gradient descent, we need a loss function. Taking the average error of the rows (i.e. the absolute value of the difference between the prediction and the dependent) is generally a reasonable approach:"
   ]
  },
  {
   "cell_type": "code",
   "execution_count": 25,
   "id": "bd588d8e",
   "metadata": {
    "execution": {
     "iopub.execute_input": "2025-07-30T19:46:24.225781Z",
     "iopub.status.busy": "2025-07-30T19:46:24.225441Z",
     "iopub.status.idle": "2025-07-30T19:46:24.236633Z",
     "shell.execute_reply": "2025-07-30T19:46:24.235799Z"
    },
    "papermill": {
     "duration": 0.104305,
     "end_time": "2025-07-30T19:46:24.238666",
     "exception": false,
     "start_time": "2025-07-30T19:46:24.134361",
     "status": "completed"
    },
    "tags": []
   },
   "outputs": [
    {
     "data": {
      "text/plain": [
       "tensor(0.5382)"
      ]
     },
     "execution_count": 25,
     "metadata": {},
     "output_type": "execute_result"
    }
   ],
   "source": [
    "loss = torch.abs(preds-t_dep).mean()\n",
    "loss"
   ]
  },
  {
   "cell_type": "markdown",
   "id": "ecf67104",
   "metadata": {
    "papermill": {
     "duration": 0.085711,
     "end_time": "2025-07-30T19:46:24.409740",
     "exception": false,
     "start_time": "2025-07-30T19:46:24.324029",
     "status": "completed"
    },
    "tags": []
   },
   "source": [
    "Now that we've tested out a way of calculating predictions, and loss, let's pop them into functions to make life easier:"
   ]
  },
  {
   "cell_type": "code",
   "execution_count": 26,
   "id": "91d3b908",
   "metadata": {
    "execution": {
     "iopub.execute_input": "2025-07-30T19:46:24.584778Z",
     "iopub.status.busy": "2025-07-30T19:46:24.584146Z",
     "iopub.status.idle": "2025-07-30T19:46:24.589087Z",
     "shell.execute_reply": "2025-07-30T19:46:24.588258Z"
    },
    "papermill": {
     "duration": 0.095695,
     "end_time": "2025-07-30T19:46:24.591043",
     "exception": false,
     "start_time": "2025-07-30T19:46:24.495348",
     "status": "completed"
    },
    "tags": []
   },
   "outputs": [],
   "source": [
    "def calc_preds(coeffs, indeps): return (indeps*coeffs).sum(axis=1)\n",
    "def calc_loss(coeffs, indeps, deps): return torch.abs(calc_preds(coeffs, indeps)-deps).mean()"
   ]
  },
  {
   "cell_type": "markdown",
   "id": "01b980e2",
   "metadata": {
    "papermill": {
     "duration": 0.087333,
     "end_time": "2025-07-30T19:46:24.764354",
     "exception": false,
     "start_time": "2025-07-30T19:46:24.677021",
     "status": "completed"
    },
    "tags": []
   },
   "source": [
    "## Doing a gradient descent step"
   ]
  },
  {
   "cell_type": "markdown",
   "id": "75611350",
   "metadata": {
    "papermill": {
     "duration": 0.087389,
     "end_time": "2025-07-30T19:46:24.948927",
     "exception": false,
     "start_time": "2025-07-30T19:46:24.861538",
     "status": "completed"
    },
    "tags": []
   },
   "source": [
    "In this section, we're going to do a single \"epoch\" of gradient descent manually. The only thing we're going to automate is calculating gradients, because let's face it that's pretty tedious and entirely pointless to do by hand! To get PyTorch to calculate gradients, we'll need to call `requires_grad_()` on our `coeffs` (if you're not sure why, review the previous notebook, [How does a neural net really work?](https://www.kaggle.com/code/jhoward/how-does-a-neural-net-really-work), before continuing):"
   ]
  },
  {
   "cell_type": "code",
   "execution_count": 27,
   "id": "3f92b7e3",
   "metadata": {
    "execution": {
     "iopub.execute_input": "2025-07-30T19:46:25.126938Z",
     "iopub.status.busy": "2025-07-30T19:46:25.126679Z",
     "iopub.status.idle": "2025-07-30T19:46:25.133168Z",
     "shell.execute_reply": "2025-07-30T19:46:25.132375Z"
    },
    "papermill": {
     "duration": 0.09897,
     "end_time": "2025-07-30T19:46:25.135443",
     "exception": false,
     "start_time": "2025-07-30T19:46:25.036473",
     "status": "completed"
    },
    "tags": []
   },
   "outputs": [
    {
     "data": {
      "text/plain": [
       "tensor([-0.4629,  0.1386,  0.2409, -0.2262, -0.2632, -0.3147,  0.4876,  0.3136,  0.2799, -0.4392,  0.2103,  0.3625], requires_grad=True)"
      ]
     },
     "execution_count": 27,
     "metadata": {},
     "output_type": "execute_result"
    }
   ],
   "source": [
    "coeffs.requires_grad_()"
   ]
  },
  {
   "cell_type": "markdown",
   "id": "ce63777b",
   "metadata": {
    "papermill": {
     "duration": 0.09019,
     "end_time": "2025-07-30T19:46:25.319599",
     "exception": false,
     "start_time": "2025-07-30T19:46:25.229409",
     "status": "completed"
    },
    "tags": []
   },
   "source": [
    "Now when we calculate our loss, PyTorch will keep track of all the steps, so we'll be able to get the gradients afterwards:"
   ]
  },
  {
   "cell_type": "code",
   "execution_count": 28,
   "id": "fdf81bcd",
   "metadata": {
    "execution": {
     "iopub.execute_input": "2025-07-30T19:46:25.509279Z",
     "iopub.status.busy": "2025-07-30T19:46:25.508973Z",
     "iopub.status.idle": "2025-07-30T19:46:25.518793Z",
     "shell.execute_reply": "2025-07-30T19:46:25.517252Z"
    },
    "papermill": {
     "duration": 0.111519,
     "end_time": "2025-07-30T19:46:25.521484",
     "exception": false,
     "start_time": "2025-07-30T19:46:25.409965",
     "status": "completed"
    },
    "tags": []
   },
   "outputs": [
    {
     "data": {
      "text/plain": [
       "tensor(0.5382, grad_fn=<MeanBackward0>)"
      ]
     },
     "execution_count": 28,
     "metadata": {},
     "output_type": "execute_result"
    }
   ],
   "source": [
    "loss = calc_loss(coeffs, t_indep, t_dep)\n",
    "loss"
   ]
  },
  {
   "cell_type": "markdown",
   "id": "879e4d3e",
   "metadata": {
    "papermill": {
     "duration": 0.095943,
     "end_time": "2025-07-30T19:46:25.747857",
     "exception": false,
     "start_time": "2025-07-30T19:46:25.651914",
     "status": "completed"
    },
    "tags": []
   },
   "source": [
    "Use `backward()` to ask PyTorch to calculate gradients now:"
   ]
  },
  {
   "cell_type": "code",
   "execution_count": 29,
   "id": "c3fd3e3c",
   "metadata": {
    "execution": {
     "iopub.execute_input": "2025-07-30T19:46:25.939956Z",
     "iopub.status.busy": "2025-07-30T19:46:25.939686Z",
     "iopub.status.idle": "2025-07-30T19:46:25.952476Z",
     "shell.execute_reply": "2025-07-30T19:46:25.951644Z"
    },
    "papermill": {
     "duration": 0.105911,
     "end_time": "2025-07-30T19:46:25.954622",
     "exception": false,
     "start_time": "2025-07-30T19:46:25.848711",
     "status": "completed"
    },
    "tags": []
   },
   "outputs": [],
   "source": [
    "loss.backward()"
   ]
  },
  {
   "cell_type": "markdown",
   "id": "a35420b1",
   "metadata": {
    "papermill": {
     "duration": 0.088734,
     "end_time": "2025-07-30T19:46:26.132233",
     "exception": false,
     "start_time": "2025-07-30T19:46:26.043499",
     "status": "completed"
    },
    "tags": []
   },
   "source": [
    "Let's see what they look like:"
   ]
  },
  {
   "cell_type": "code",
   "execution_count": 30,
   "id": "952a8e13",
   "metadata": {
    "execution": {
     "iopub.execute_input": "2025-07-30T19:46:26.310154Z",
     "iopub.status.busy": "2025-07-30T19:46:26.309920Z",
     "iopub.status.idle": "2025-07-30T19:46:26.316320Z",
     "shell.execute_reply": "2025-07-30T19:46:26.315500Z"
    },
    "papermill": {
     "duration": 0.097374,
     "end_time": "2025-07-30T19:46:26.318475",
     "exception": false,
     "start_time": "2025-07-30T19:46:26.221101",
     "status": "completed"
    },
    "tags": []
   },
   "outputs": [
    {
     "data": {
      "text/plain": [
       "tensor([-0.0106,  0.0129, -0.0041, -0.0484,  0.2099, -0.2132, -0.1212, -0.0247,  0.1425, -0.1886, -0.0191,  0.2043])"
      ]
     },
     "execution_count": 30,
     "metadata": {},
     "output_type": "execute_result"
    }
   ],
   "source": [
    "coeffs.grad"
   ]
  },
  {
   "cell_type": "markdown",
   "id": "aca49530",
   "metadata": {
    "papermill": {
     "duration": 0.089408,
     "end_time": "2025-07-30T19:46:26.499527",
     "exception": false,
     "start_time": "2025-07-30T19:46:26.410119",
     "status": "completed"
    },
    "tags": []
   },
   "source": [
    "Note that each time we call `backward`, the gradients are actually *added* to whatever is in the `.grad` attribute. Let's try running the above steps again:"
   ]
  },
  {
   "cell_type": "code",
   "execution_count": 31,
   "id": "9c07a173",
   "metadata": {
    "execution": {
     "iopub.execute_input": "2025-07-30T19:46:26.676274Z",
     "iopub.status.busy": "2025-07-30T19:46:26.675980Z",
     "iopub.status.idle": "2025-07-30T19:46:26.684961Z",
     "shell.execute_reply": "2025-07-30T19:46:26.684075Z"
    },
    "papermill": {
     "duration": 0.098882,
     "end_time": "2025-07-30T19:46:26.686941",
     "exception": false,
     "start_time": "2025-07-30T19:46:26.588059",
     "status": "completed"
    },
    "tags": []
   },
   "outputs": [
    {
     "data": {
      "text/plain": [
       "tensor([-0.0212,  0.0258, -0.0082, -0.0969,  0.4198, -0.4265, -0.2424, -0.0494,  0.2851, -0.3771, -0.0382,  0.4085])"
      ]
     },
     "execution_count": 31,
     "metadata": {},
     "output_type": "execute_result"
    }
   ],
   "source": [
    "loss = calc_loss(coeffs, t_indep, t_dep)\n",
    "loss.backward()\n",
    "coeffs.grad"
   ]
  },
  {
   "cell_type": "markdown",
   "id": "eec1eb7b",
   "metadata": {
    "papermill": {
     "duration": 0.094864,
     "end_time": "2025-07-30T19:46:26.872138",
     "exception": false,
     "start_time": "2025-07-30T19:46:26.777274",
     "status": "completed"
    },
    "tags": []
   },
   "source": [
    "As you see, our `.grad` values are have doubled. That's because it added the gradients a second time. For this reason, after we use the gradients to do a gradient descent step, we need to set them back to zero.\n",
    "\n",
    "We can now do one gradient descent step, and check that our loss decreases:"
   ]
  },
  {
   "cell_type": "code",
   "execution_count": 32,
   "id": "c0429ee7",
   "metadata": {
    "execution": {
     "iopub.execute_input": "2025-07-30T19:46:27.051320Z",
     "iopub.status.busy": "2025-07-30T19:46:27.051001Z",
     "iopub.status.idle": "2025-07-30T19:46:27.058106Z",
     "shell.execute_reply": "2025-07-30T19:46:27.057121Z"
    },
    "papermill": {
     "duration": 0.099518,
     "end_time": "2025-07-30T19:46:27.060567",
     "exception": false,
     "start_time": "2025-07-30T19:46:26.961049",
     "status": "completed"
    },
    "tags": []
   },
   "outputs": [
    {
     "name": "stdout",
     "output_type": "stream",
     "text": [
      "tensor(0.4945)\n"
     ]
    }
   ],
   "source": [
    "loss = calc_loss(coeffs, t_indep, t_dep)\n",
    "loss.backward()\n",
    "with torch.no_grad():\n",
    "    coeffs.sub_(coeffs.grad * 0.1)\n",
    "    coeffs.grad.zero_()\n",
    "    print(calc_loss(coeffs, t_indep, t_dep))"
   ]
  },
  {
   "cell_type": "markdown",
   "id": "cc537ed0",
   "metadata": {
    "papermill": {
     "duration": 0.091578,
     "end_time": "2025-07-30T19:46:27.248950",
     "exception": false,
     "start_time": "2025-07-30T19:46:27.157372",
     "status": "completed"
    },
    "tags": []
   },
   "source": [
    "Note that `a.sub_(b)` subtracts `b` from `a` in-place. In PyTorch, any method that ends in `_` changes its object in-place. Similarly, `a.zero_()` sets all elements of a tensor to zero."
   ]
  },
  {
   "cell_type": "markdown",
   "id": "95b4d5ee",
   "metadata": {
    "papermill": {
     "duration": 0.08894,
     "end_time": "2025-07-30T19:46:27.428307",
     "exception": false,
     "start_time": "2025-07-30T19:46:27.339367",
     "status": "completed"
    },
    "tags": []
   },
   "source": [
    "## Training the linear model"
   ]
  },
  {
   "cell_type": "markdown",
   "id": "e20193a6",
   "metadata": {
    "papermill": {
     "duration": 0.09071,
     "end_time": "2025-07-30T19:46:27.608192",
     "exception": false,
     "start_time": "2025-07-30T19:46:27.517482",
     "status": "completed"
    },
    "tags": []
   },
   "source": [
    "Before we begin training our model, we'll need to ensure that we hold out a validation set for calculating our metrics (for details on this, see \"[Getting started with NLP for absolute beginners](https://www.kaggle.com/code/jhoward/getting-started-with-nlp-for-absolute-beginners#Test-and-validation-sets)\".\n",
    "\n",
    "There's lots of different ways we can do this. In the next notebook we'll be comparing our approach here to what the fastai library does, so we'll want to ensure we split the data in the same way. So let's use `RandomSplitter` to get indices that will split our data into training and validation sets:"
   ]
  },
  {
   "cell_type": "code",
   "execution_count": 33,
   "id": "679e24e5",
   "metadata": {
    "execution": {
     "iopub.execute_input": "2025-07-30T19:46:27.785716Z",
     "iopub.status.busy": "2025-07-30T19:46:27.785473Z",
     "iopub.status.idle": "2025-07-30T19:46:28.961263Z",
     "shell.execute_reply": "2025-07-30T19:46:28.960404Z"
    },
    "papermill": {
     "duration": 1.267769,
     "end_time": "2025-07-30T19:46:28.963520",
     "exception": false,
     "start_time": "2025-07-30T19:46:27.695751",
     "status": "completed"
    },
    "tags": []
   },
   "outputs": [],
   "source": [
    "from fastai.data.transforms import RandomSplitter\n",
    "trn_split,val_split=RandomSplitter(seed=42)(df)"
   ]
  },
  {
   "cell_type": "markdown",
   "id": "54d25856",
   "metadata": {
    "papermill": {
     "duration": 0.09187,
     "end_time": "2025-07-30T19:46:29.143839",
     "exception": false,
     "start_time": "2025-07-30T19:46:29.051969",
     "status": "completed"
    },
    "tags": []
   },
   "source": [
    "Now we can apply those indicies to our independent and dependent variables:"
   ]
  },
  {
   "cell_type": "code",
   "execution_count": 34,
   "id": "93e7beab",
   "metadata": {
    "execution": {
     "iopub.execute_input": "2025-07-30T19:46:29.326952Z",
     "iopub.status.busy": "2025-07-30T19:46:29.326687Z",
     "iopub.status.idle": "2025-07-30T19:46:29.335858Z",
     "shell.execute_reply": "2025-07-30T19:46:29.334853Z"
    },
    "papermill": {
     "duration": 0.103845,
     "end_time": "2025-07-30T19:46:29.338102",
     "exception": false,
     "start_time": "2025-07-30T19:46:29.234257",
     "status": "completed"
    },
    "tags": []
   },
   "outputs": [
    {
     "data": {
      "text/plain": [
       "(713, 178)"
      ]
     },
     "execution_count": 34,
     "metadata": {},
     "output_type": "execute_result"
    }
   ],
   "source": [
    "trn_indep,val_indep = t_indep[trn_split],t_indep[val_split]\n",
    "trn_dep,val_dep = t_dep[trn_split],t_dep[val_split]\n",
    "len(trn_indep),len(val_indep)"
   ]
  },
  {
   "cell_type": "markdown",
   "id": "fae1b935",
   "metadata": {
    "papermill": {
     "duration": 0.091511,
     "end_time": "2025-07-30T19:46:29.519897",
     "exception": false,
     "start_time": "2025-07-30T19:46:29.428386",
     "status": "completed"
    },
    "tags": []
   },
   "source": [
    "We'll create functions for the three things we did manually above: updating `coeffs`, doing one full gradient descent step, and initilising `coeffs` to random numbers:"
   ]
  },
  {
   "cell_type": "code",
   "execution_count": 35,
   "id": "9f9b138e",
   "metadata": {
    "execution": {
     "iopub.execute_input": "2025-07-30T19:46:29.705315Z",
     "iopub.status.busy": "2025-07-30T19:46:29.704995Z",
     "iopub.status.idle": "2025-07-30T19:46:29.710448Z",
     "shell.execute_reply": "2025-07-30T19:46:29.709192Z"
    },
    "papermill": {
     "duration": 0.102769,
     "end_time": "2025-07-30T19:46:29.712614",
     "exception": false,
     "start_time": "2025-07-30T19:46:29.609845",
     "status": "completed"
    },
    "tags": []
   },
   "outputs": [],
   "source": [
    "def update_coeffs(coeffs, lr):\n",
    "    coeffs.sub_(coeffs.grad * lr)\n",
    "    coeffs.grad.zero_()"
   ]
  },
  {
   "cell_type": "code",
   "execution_count": 36,
   "id": "cf72fab8",
   "metadata": {
    "execution": {
     "iopub.execute_input": "2025-07-30T19:46:29.920082Z",
     "iopub.status.busy": "2025-07-30T19:46:29.919313Z",
     "iopub.status.idle": "2025-07-30T19:46:29.924809Z",
     "shell.execute_reply": "2025-07-30T19:46:29.923804Z"
    },
    "papermill": {
     "duration": 0.114663,
     "end_time": "2025-07-30T19:46:29.926944",
     "exception": false,
     "start_time": "2025-07-30T19:46:29.812281",
     "status": "completed"
    },
    "tags": []
   },
   "outputs": [],
   "source": [
    "def one_epoch(coeffs, lr):\n",
    "    loss = calc_loss(coeffs, trn_indep, trn_dep)\n",
    "    loss.backward()\n",
    "    with torch.no_grad(): update_coeffs(coeffs, lr)\n",
    "    print(f\"{loss:.3f}\", end=\"; \")"
   ]
  },
  {
   "cell_type": "code",
   "execution_count": 37,
   "id": "e08f21e5",
   "metadata": {
    "execution": {
     "iopub.execute_input": "2025-07-30T19:46:30.116381Z",
     "iopub.status.busy": "2025-07-30T19:46:30.115103Z",
     "iopub.status.idle": "2025-07-30T19:46:30.120418Z",
     "shell.execute_reply": "2025-07-30T19:46:30.119487Z"
    },
    "papermill": {
     "duration": 0.10271,
     "end_time": "2025-07-30T19:46:30.123015",
     "exception": false,
     "start_time": "2025-07-30T19:46:30.020305",
     "status": "completed"
    },
    "tags": []
   },
   "outputs": [],
   "source": [
    "def init_coeffs(): return (torch.rand(n_coeff)-0.5).requires_grad_()"
   ]
  },
  {
   "cell_type": "markdown",
   "id": "ad63bcff",
   "metadata": {
    "papermill": {
     "duration": 0.090076,
     "end_time": "2025-07-30T19:46:30.312905",
     "exception": false,
     "start_time": "2025-07-30T19:46:30.222829",
     "status": "completed"
    },
    "tags": []
   },
   "source": [
    "We can now use these functions to train our model:"
   ]
  },
  {
   "cell_type": "code",
   "execution_count": 38,
   "id": "85318821",
   "metadata": {
    "execution": {
     "iopub.execute_input": "2025-07-30T19:46:30.492568Z",
     "iopub.status.busy": "2025-07-30T19:46:30.491586Z",
     "iopub.status.idle": "2025-07-30T19:46:30.497046Z",
     "shell.execute_reply": "2025-07-30T19:46:30.496076Z"
    },
    "papermill": {
     "duration": 0.097371,
     "end_time": "2025-07-30T19:46:30.498895",
     "exception": false,
     "start_time": "2025-07-30T19:46:30.401524",
     "status": "completed"
    },
    "tags": []
   },
   "outputs": [],
   "source": [
    "def train_model(epochs=30, lr=0.01):\n",
    "    torch.manual_seed(442)\n",
    "    coeffs = init_coeffs()\n",
    "    for i in range(epochs): one_epoch(coeffs, lr=lr)\n",
    "    return coeffs"
   ]
  },
  {
   "cell_type": "markdown",
   "id": "3bef0023",
   "metadata": {
    "papermill": {
     "duration": 0.088861,
     "end_time": "2025-07-30T19:46:30.676840",
     "exception": false,
     "start_time": "2025-07-30T19:46:30.587979",
     "status": "completed"
    },
    "tags": []
   },
   "source": [
    "Let's try it. Our loss will print at the end of every step, so we hope we'll see it going down:"
   ]
  },
  {
   "cell_type": "code",
   "execution_count": 39,
   "id": "b7b00820",
   "metadata": {
    "execution": {
     "iopub.execute_input": "2025-07-30T19:46:30.882675Z",
     "iopub.status.busy": "2025-07-30T19:46:30.880974Z",
     "iopub.status.idle": "2025-07-30T19:46:30.903171Z",
     "shell.execute_reply": "2025-07-30T19:46:30.902041Z"
    },
    "papermill": {
     "duration": 0.130715,
     "end_time": "2025-07-30T19:46:30.905464",
     "exception": false,
     "start_time": "2025-07-30T19:46:30.774749",
     "status": "completed"
    },
    "tags": []
   },
   "outputs": [
    {
     "name": "stdout",
     "output_type": "stream",
     "text": [
      "0.536; 0.502; 0.477; 0.454; 0.431; 0.409; 0.388; 0.367; 0.349; 0.336; 0.330; 0.326; 0.329; 0.304; 0.314; 0.296; 0.300; 0.289; "
     ]
    }
   ],
   "source": [
    "coeffs = train_model(18, lr=0.2)"
   ]
  },
  {
   "cell_type": "markdown",
   "id": "22548524",
   "metadata": {
    "papermill": {
     "duration": 0.090374,
     "end_time": "2025-07-30T19:46:31.101533",
     "exception": false,
     "start_time": "2025-07-30T19:46:31.011159",
     "status": "completed"
    },
    "tags": []
   },
   "source": [
    "It does!\n",
    "\n",
    "Let's take a look at the coefficients for each column:"
   ]
  },
  {
   "cell_type": "code",
   "execution_count": 40,
   "id": "ba93f578",
   "metadata": {
    "execution": {
     "iopub.execute_input": "2025-07-30T19:46:31.300455Z",
     "iopub.status.busy": "2025-07-30T19:46:31.300157Z",
     "iopub.status.idle": "2025-07-30T19:46:31.311263Z",
     "shell.execute_reply": "2025-07-30T19:46:31.310348Z"
    },
    "papermill": {
     "duration": 0.110859,
     "end_time": "2025-07-30T19:46:31.313476",
     "exception": false,
     "start_time": "2025-07-30T19:46:31.202617",
     "status": "completed"
    },
    "tags": []
   },
   "outputs": [
    {
     "data": {
      "text/plain": [
       "{'Age': tensor(-0.2694),\n",
       " 'SibSp': tensor(0.0901),\n",
       " 'Parch': tensor(0.2359),\n",
       " 'LogFare': tensor(0.0280),\n",
       " 'Sex_male': tensor(-0.3990),\n",
       " 'Sex_female': tensor(0.2345),\n",
       " 'Pclass_1': tensor(0.7232),\n",
       " 'Pclass_2': tensor(0.4112),\n",
       " 'Pclass_3': tensor(0.3601),\n",
       " 'Embarked_C': tensor(0.0955),\n",
       " 'Embarked_Q': tensor(0.2395),\n",
       " 'Embarked_S': tensor(0.2122)}"
      ]
     },
     "execution_count": 40,
     "metadata": {},
     "output_type": "execute_result"
    }
   ],
   "source": [
    "def show_coeffs(): return dict(zip(indep_cols, coeffs.requires_grad_(False)))\n",
    "show_coeffs()"
   ]
  },
  {
   "cell_type": "markdown",
   "id": "c3e5bdc0",
   "metadata": {
    "papermill": {
     "duration": 0.101714,
     "end_time": "2025-07-30T19:46:31.512529",
     "exception": false,
     "start_time": "2025-07-30T19:46:31.410815",
     "status": "completed"
    },
    "tags": []
   },
   "source": [
    "## Measuring accuracy"
   ]
  },
  {
   "cell_type": "markdown",
   "id": "fefeff23",
   "metadata": {
    "papermill": {
     "duration": 0.091501,
     "end_time": "2025-07-30T19:46:31.700964",
     "exception": false,
     "start_time": "2025-07-30T19:46:31.609463",
     "status": "completed"
    },
    "tags": []
   },
   "source": [
    "The Kaggle competition is not, however, scored by absolute error (which is our loss function). It's scored by *accuracy* -- the proportion of rows where we correctly predict survival. Let's see how accurate we were on the validation set. First, calculate the predictions:"
   ]
  },
  {
   "cell_type": "code",
   "execution_count": 41,
   "id": "4e905325",
   "metadata": {
    "execution": {
     "iopub.execute_input": "2025-07-30T19:46:31.905699Z",
     "iopub.status.busy": "2025-07-30T19:46:31.905434Z",
     "iopub.status.idle": "2025-07-30T19:46:31.910185Z",
     "shell.execute_reply": "2025-07-30T19:46:31.909156Z"
    },
    "papermill": {
     "duration": 0.113312,
     "end_time": "2025-07-30T19:46:31.912340",
     "exception": false,
     "start_time": "2025-07-30T19:46:31.799028",
     "status": "completed"
    },
    "tags": []
   },
   "outputs": [],
   "source": [
    "preds = calc_preds(coeffs, val_indep)"
   ]
  },
  {
   "cell_type": "markdown",
   "id": "969892a3",
   "metadata": {
    "papermill": {
     "duration": 0.090764,
     "end_time": "2025-07-30T19:46:32.097006",
     "exception": false,
     "start_time": "2025-07-30T19:46:32.006242",
     "status": "completed"
    },
    "tags": []
   },
   "source": [
    "We'll assume that any passenger with a score of over `0.5` is predicted to survive. So that means we're correct for each row where `preds>0.5` is the same as the dependent variable:"
   ]
  },
  {
   "cell_type": "code",
   "execution_count": 42,
   "id": "7854f6ce",
   "metadata": {
    "execution": {
     "iopub.execute_input": "2025-07-30T19:46:32.286622Z",
     "iopub.status.busy": "2025-07-30T19:46:32.286352Z",
     "iopub.status.idle": "2025-07-30T19:46:32.293740Z",
     "shell.execute_reply": "2025-07-30T19:46:32.292366Z"
    },
    "papermill": {
     "duration": 0.108569,
     "end_time": "2025-07-30T19:46:32.296534",
     "exception": false,
     "start_time": "2025-07-30T19:46:32.187965",
     "status": "completed"
    },
    "tags": []
   },
   "outputs": [
    {
     "data": {
      "text/plain": [
       "tensor([ True,  True,  True,  True,  True,  True,  True,  True,  True,  True, False, False, False,  True,  True, False])"
      ]
     },
     "execution_count": 42,
     "metadata": {},
     "output_type": "execute_result"
    }
   ],
   "source": [
    "results = val_dep.bool()==(preds>0.5)\n",
    "results[:16]"
   ]
  },
  {
   "cell_type": "markdown",
   "id": "be337ec0",
   "metadata": {
    "papermill": {
     "duration": 0.091758,
     "end_time": "2025-07-30T19:46:32.481664",
     "exception": false,
     "start_time": "2025-07-30T19:46:32.389906",
     "status": "completed"
    },
    "tags": []
   },
   "source": [
    "Let's see what our average accuracy is:"
   ]
  },
  {
   "cell_type": "code",
   "execution_count": 43,
   "id": "104fa54d",
   "metadata": {
    "execution": {
     "iopub.execute_input": "2025-07-30T19:46:32.672997Z",
     "iopub.status.busy": "2025-07-30T19:46:32.672728Z",
     "iopub.status.idle": "2025-07-30T19:46:32.679110Z",
     "shell.execute_reply": "2025-07-30T19:46:32.678259Z"
    },
    "papermill": {
     "duration": 0.103367,
     "end_time": "2025-07-30T19:46:32.681077",
     "exception": false,
     "start_time": "2025-07-30T19:46:32.577710",
     "status": "completed"
    },
    "tags": []
   },
   "outputs": [
    {
     "data": {
      "text/plain": [
       "tensor(0.7865)"
      ]
     },
     "execution_count": 43,
     "metadata": {},
     "output_type": "execute_result"
    }
   ],
   "source": [
    "results.float().mean()"
   ]
  },
  {
   "cell_type": "markdown",
   "id": "7ab1cf1d",
   "metadata": {
    "papermill": {
     "duration": 0.092725,
     "end_time": "2025-07-30T19:46:32.866004",
     "exception": false,
     "start_time": "2025-07-30T19:46:32.773279",
     "status": "completed"
    },
    "tags": []
   },
   "source": [
    "That's not a bad start at all! We'll create a function so we can calcuate the accuracy easy for other models we train:"
   ]
  },
  {
   "cell_type": "code",
   "execution_count": 44,
   "id": "8d9f1014",
   "metadata": {
    "execution": {
     "iopub.execute_input": "2025-07-30T19:46:33.050293Z",
     "iopub.status.busy": "2025-07-30T19:46:33.049976Z",
     "iopub.status.idle": "2025-07-30T19:46:33.057183Z",
     "shell.execute_reply": "2025-07-30T19:46:33.056507Z"
    },
    "papermill": {
     "duration": 0.101519,
     "end_time": "2025-07-30T19:46:33.059063",
     "exception": false,
     "start_time": "2025-07-30T19:46:32.957544",
     "status": "completed"
    },
    "tags": []
   },
   "outputs": [
    {
     "data": {
      "text/plain": [
       "tensor(0.7865)"
      ]
     },
     "execution_count": 44,
     "metadata": {},
     "output_type": "execute_result"
    }
   ],
   "source": [
    "def acc(coeffs): return (val_dep.bool()==(calc_preds(coeffs, val_indep)>0.5)).float().mean()\n",
    "acc(coeffs)"
   ]
  },
  {
   "cell_type": "markdown",
   "id": "5ee7eede",
   "metadata": {
    "papermill": {
     "duration": 0.098591,
     "end_time": "2025-07-30T19:46:33.250283",
     "exception": false,
     "start_time": "2025-07-30T19:46:33.151692",
     "status": "completed"
    },
    "tags": []
   },
   "source": [
    "## Using sigmoid"
   ]
  },
  {
   "cell_type": "markdown",
   "id": "628f7e09",
   "metadata": {
    "papermill": {
     "duration": 0.08905,
     "end_time": "2025-07-30T19:46:33.443087",
     "exception": false,
     "start_time": "2025-07-30T19:46:33.354037",
     "status": "completed"
    },
    "tags": []
   },
   "source": [
    "Looking at our predictions, there's one obvious problem -- some of our predictions of the probability of survival are `>1`, and some are `<0`:"
   ]
  },
  {
   "cell_type": "code",
   "execution_count": 45,
   "id": "f7613ac7",
   "metadata": {
    "execution": {
     "iopub.execute_input": "2025-07-30T19:46:33.626120Z",
     "iopub.status.busy": "2025-07-30T19:46:33.625853Z",
     "iopub.status.idle": "2025-07-30T19:46:33.632269Z",
     "shell.execute_reply": "2025-07-30T19:46:33.631464Z"
    },
    "papermill": {
     "duration": 0.100224,
     "end_time": "2025-07-30T19:46:33.634452",
     "exception": false,
     "start_time": "2025-07-30T19:46:33.534228",
     "status": "completed"
    },
    "tags": []
   },
   "outputs": [
    {
     "data": {
      "text/plain": [
       "tensor([ 0.8160,  0.1295, -0.0148,  0.1831,  0.1520,  0.1350,  0.7279,  0.7754,  0.3222,  0.6740,  0.0753,  0.0389,  0.2216,  0.7631,\n",
       "         0.0678,  0.3997,  0.3324,  0.8278,  0.1078,  0.7126,  0.1023,  0.3627,  0.9937,  0.8050,  0.1153,  0.1455,  0.8652,  0.3425])"
      ]
     },
     "execution_count": 45,
     "metadata": {},
     "output_type": "execute_result"
    }
   ],
   "source": [
    "preds[:28]"
   ]
  },
  {
   "cell_type": "markdown",
   "id": "1a94f1a8",
   "metadata": {
    "papermill": {
     "duration": 0.088891,
     "end_time": "2025-07-30T19:46:33.813440",
     "exception": false,
     "start_time": "2025-07-30T19:46:33.724549",
     "status": "completed"
    },
    "tags": []
   },
   "source": [
    "To fix this, we should pass every prediction through the *sigmoid function*, which has a minimum at zero and maximum at one, and is defined as follows:"
   ]
  },
  {
   "cell_type": "code",
   "execution_count": 46,
   "id": "b597549f",
   "metadata": {
    "execution": {
     "iopub.execute_input": "2025-07-30T19:46:33.997295Z",
     "iopub.status.busy": "2025-07-30T19:46:33.997019Z",
     "iopub.status.idle": "2025-07-30T19:46:35.077941Z",
     "shell.execute_reply": "2025-07-30T19:46:35.077093Z"
    },
    "papermill": {
     "duration": 1.173943,
     "end_time": "2025-07-30T19:46:35.080627",
     "exception": false,
     "start_time": "2025-07-30T19:46:33.906684",
     "status": "completed"
    },
    "tags": []
   },
   "outputs": [
    {
     "data": {
      "image/png": "[encoded data removed]",
      "text/plain": [
       "<Figure size 432x288 with 1 Axes>"
      ]
     },
     "metadata": {
      "needs_background": "light"
     },
     "output_type": "display_data"
    }
   ],
   "source": [
    "import sympy\n",
    "sympy.plot(\"1/(1+exp(-x))\", xlim=(-5,5));"
   ]
  },
  {
   "cell_type": "markdown",
   "id": "3c1420a2",
   "metadata": {
    "papermill": {
     "duration": 0.089111,
     "end_time": "2025-07-30T19:46:35.267448",
     "exception": false,
     "start_time": "2025-07-30T19:46:35.178337",
     "status": "completed"
    },
    "tags": []
   },
   "source": [
    "PyTorch already defines that function for us, so we can modify `calc_preds` to use it:"
   ]
  },
  {
   "cell_type": "code",
   "execution_count": 47,
   "id": "b0738918",
   "metadata": {
    "execution": {
     "iopub.execute_input": "2025-07-30T19:46:35.449226Z",
     "iopub.status.busy": "2025-07-30T19:46:35.448948Z",
     "iopub.status.idle": "2025-07-30T19:46:35.453508Z",
     "shell.execute_reply": "2025-07-30T19:46:35.452657Z"
    },
    "papermill": {
     "duration": 0.098852,
     "end_time": "2025-07-30T19:46:35.455528",
     "exception": false,
     "start_time": "2025-07-30T19:46:35.356676",
     "status": "completed"
    },
    "tags": []
   },
   "outputs": [],
   "source": [
    "def calc_preds(coeffs, indeps): return torch.sigmoid((indeps*coeffs).sum(axis=1))"
   ]
  },
  {
   "cell_type": "markdown",
   "id": "7ead1c1c",
   "metadata": {
    "papermill": {
     "duration": 0.092061,
     "end_time": "2025-07-30T19:46:35.641561",
     "exception": false,
     "start_time": "2025-07-30T19:46:35.549500",
     "status": "completed"
    },
    "tags": []
   },
   "source": [
    "Let's train a new model now, using this updated function to calculate predictions:"
   ]
  },
  {
   "cell_type": "code",
   "execution_count": 48,
   "id": "04ade474",
   "metadata": {
    "execution": {
     "iopub.execute_input": "2025-07-30T19:46:35.825370Z",
     "iopub.status.busy": "2025-07-30T19:46:35.825100Z",
     "iopub.status.idle": "2025-07-30T19:46:35.849096Z",
     "shell.execute_reply": "2025-07-30T19:46:35.848008Z"
    },
    "papermill": {
     "duration": 0.118302,
     "end_time": "2025-07-30T19:46:35.850910",
     "exception": false,
     "start_time": "2025-07-30T19:46:35.732608",
     "status": "completed"
    },
    "tags": []
   },
   "outputs": [
    {
     "name": "stdout",
     "output_type": "stream",
     "text": [
      "0.510; 0.327; 0.294; 0.207; 0.201; 0.199; 0.198; 0.197; 0.196; 0.196; 0.196; 0.195; 0.195; 0.195; 0.195; 0.195; 0.195; 0.195; 0.194; 0.194; 0.194; 0.194; 0.194; 0.194; 0.194; 0.194; 0.194; 0.194; 0.194; 0.194; "
     ]
    }
   ],
   "source": [
    "coeffs = train_model(lr=100)"
   ]
  },
  {
   "cell_type": "markdown",
   "id": "c6ddb2bb",
   "metadata": {
    "papermill": {
     "duration": 0.088774,
     "end_time": "2025-07-30T19:46:36.029526",
     "exception": false,
     "start_time": "2025-07-30T19:46:35.940752",
     "status": "completed"
    },
    "tags": []
   },
   "source": [
    "The loss has improved by a lot. Let's check the accuracy:"
   ]
  },
  {
   "cell_type": "code",
   "execution_count": 49,
   "id": "ab9b8568",
   "metadata": {
    "execution": {
     "iopub.execute_input": "2025-07-30T19:46:36.215908Z",
     "iopub.status.busy": "2025-07-30T19:46:36.215170Z",
     "iopub.status.idle": "2025-07-30T19:46:36.221441Z",
     "shell.execute_reply": "2025-07-30T19:46:36.220642Z"
    },
    "papermill": {
     "duration": 0.100981,
     "end_time": "2025-07-30T19:46:36.223250",
     "exception": false,
     "start_time": "2025-07-30T19:46:36.122269",
     "status": "completed"
    },
    "tags": []
   },
   "outputs": [
    {
     "data": {
      "text/plain": [
       "tensor(0.8258)"
      ]
     },
     "execution_count": 49,
     "metadata": {},
     "output_type": "execute_result"
    }
   ],
   "source": [
    "acc(coeffs)"
   ]
  },
  {
   "cell_type": "markdown",
   "id": "44654fa8",
   "metadata": {
    "papermill": {
     "duration": 0.09516,
     "end_time": "2025-07-30T19:46:36.412538",
     "exception": false,
     "start_time": "2025-07-30T19:46:36.317378",
     "status": "completed"
    },
    "tags": []
   },
   "source": [
    "That's improved too! Here's the coefficients of our trained model:"
   ]
  },
  {
   "cell_type": "code",
   "execution_count": 50,
   "id": "c18650fd",
   "metadata": {
    "execution": {
     "iopub.execute_input": "2025-07-30T19:46:36.603001Z",
     "iopub.status.busy": "2025-07-30T19:46:36.602729Z",
     "iopub.status.idle": "2025-07-30T19:46:36.613443Z",
     "shell.execute_reply": "2025-07-30T19:46:36.612257Z"
    },
    "papermill": {
     "duration": 0.109118,
     "end_time": "2025-07-30T19:46:36.615938",
     "exception": false,
     "start_time": "2025-07-30T19:46:36.506820",
     "status": "completed"
    },
    "tags": []
   },
   "outputs": [
    {
     "data": {
      "text/plain": [
       "{'Age': tensor(-1.5061),\n",
       " 'SibSp': tensor(-1.1575),\n",
       " 'Parch': tensor(-0.4267),\n",
       " 'LogFare': tensor(0.2543),\n",
       " 'Sex_male': tensor(-10.3320),\n",
       " 'Sex_female': tensor(8.4185),\n",
       " 'Pclass_1': tensor(3.8389),\n",
       " 'Pclass_2': tensor(2.1398),\n",
       " 'Pclass_3': tensor(-6.2331),\n",
       " 'Embarked_C': tensor(1.4771),\n",
       " 'Embarked_Q': tensor(2.1168),\n",
       " 'Embarked_S': tensor(-4.7958)}"
      ]
     },
     "execution_count": 50,
     "metadata": {},
     "output_type": "execute_result"
    }
   ],
   "source": [
    "show_coeffs()"
   ]
  },
  {
   "cell_type": "markdown",
   "id": "1354eece",
   "metadata": {
    "papermill": {
     "duration": 0.096531,
     "end_time": "2025-07-30T19:46:36.808887",
     "exception": false,
     "start_time": "2025-07-30T19:46:36.712356",
     "status": "completed"
    },
    "tags": []
   },
   "source": [
    "These coefficients seem reasonable -- in general, older people and males were less likely to survive, and first class passengers were more likely to survive."
   ]
  },
  {
   "cell_type": "markdown",
   "id": "ff98e663",
   "metadata": {
    "papermill": {
     "duration": 0.096219,
     "end_time": "2025-07-30T19:46:37.005767",
     "exception": false,
     "start_time": "2025-07-30T19:46:36.909548",
     "status": "completed"
    },
    "tags": []
   },
   "source": [
    "## Submitting to Kaggle"
   ]
  },
  {
   "cell_type": "markdown",
   "id": "2b940d30",
   "metadata": {
    "papermill": {
     "duration": 0.093657,
     "end_time": "2025-07-30T19:46:37.192878",
     "exception": false,
     "start_time": "2025-07-30T19:46:37.099221",
     "status": "completed"
    },
    "tags": []
   },
   "source": [
    "Now that we've got a trained model, we can prepare a submission to Kaggle. To do that, first we need to read the test set:"
   ]
  },
  {
   "cell_type": "code",
   "execution_count": 51,
   "id": "7114851e",
   "metadata": {
    "execution": {
     "iopub.execute_input": "2025-07-30T19:46:37.382147Z",
     "iopub.status.busy": "2025-07-30T19:46:37.381908Z",
     "iopub.status.idle": "2025-07-30T19:46:37.396326Z",
     "shell.execute_reply": "2025-07-30T19:46:37.395518Z"
    },
    "papermill": {
     "duration": 0.112095,
     "end_time": "2025-07-30T19:46:37.398579",
     "exception": false,
     "start_time": "2025-07-30T19:46:37.286484",
     "status": "completed"
    },
    "tags": []
   },
   "outputs": [],
   "source": [
    "tst_df = pd.read_csv(path/'test.csv')"
   ]
  },
  {
   "cell_type": "markdown",
   "id": "ed142640",
   "metadata": {
    "papermill": {
     "duration": 0.099173,
     "end_time": "2025-07-30T19:46:37.592920",
     "exception": false,
     "start_time": "2025-07-30T19:46:37.493747",
     "status": "completed"
    },
    "tags": []
   },
   "source": [
    "In this case, it turns out that the test set is missing `Fare` for one passenger. We'll just fill it with `0` to avoid problems:"
   ]
  },
  {
   "cell_type": "code",
   "execution_count": 52,
   "id": "9b3098cb",
   "metadata": {
    "execution": {
     "iopub.execute_input": "2025-07-30T19:46:37.784293Z",
     "iopub.status.busy": "2025-07-30T19:46:37.783628Z",
     "iopub.status.idle": "2025-07-30T19:46:37.788764Z",
     "shell.execute_reply": "2025-07-30T19:46:37.787927Z"
    },
    "papermill": {
     "duration": 0.101517,
     "end_time": "2025-07-30T19:46:37.790710",
     "exception": false,
     "start_time": "2025-07-30T19:46:37.689193",
     "status": "completed"
    },
    "tags": []
   },
   "outputs": [],
   "source": [
    "tst_df['Fare'] = tst_df.Fare.fillna(0)"
   ]
  },
  {
   "cell_type": "markdown",
   "id": "1c0f9b8b",
   "metadata": {
    "papermill": {
     "duration": 0.094397,
     "end_time": "2025-07-30T19:46:37.978884",
     "exception": false,
     "start_time": "2025-07-30T19:46:37.884487",
     "status": "completed"
    },
    "tags": []
   },
   "source": [
    "Now we can just copy the same steps we did to our training set and do the same exact things on our test set to preprocess the data:"
   ]
  },
  {
   "cell_type": "code",
   "execution_count": 53,
   "id": "dce5f5f8",
   "metadata": {
    "execution": {
     "iopub.execute_input": "2025-07-30T19:46:38.165183Z",
     "iopub.status.busy": "2025-07-30T19:46:38.164943Z",
     "iopub.status.idle": "2025-07-30T19:46:38.184763Z",
     "shell.execute_reply": "2025-07-30T19:46:38.183912Z"
    },
    "papermill": {
     "duration": 0.114157,
     "end_time": "2025-07-30T19:46:38.186908",
     "exception": false,
     "start_time": "2025-07-30T19:46:38.072751",
     "status": "completed"
    },
    "tags": []
   },
   "outputs": [],
   "source": [
    "tst_df.fillna(modes, inplace=True)\n",
    "tst_df['LogFare'] = np.log(tst_df['Fare']+1)\n",
    "tst_df = pd.get_dummies(tst_df, columns=[\"Sex\",\"Pclass\",\"Embarked\"])\n",
    "\n",
    "tst_indep = tensor(tst_df[indep_cols].values, dtype=torch.float)\n",
    "tst_indep = tst_indep / vals"
   ]
  },
  {
   "cell_type": "markdown",
   "id": "946c815e",
   "metadata": {
    "papermill": {
     "duration": 0.092877,
     "end_time": "2025-07-30T19:46:38.377048",
     "exception": false,
     "start_time": "2025-07-30T19:46:38.284171",
     "status": "completed"
    },
    "tags": []
   },
   "source": [
    "Let's calculate our predictions of which passengers survived in the test set:"
   ]
  },
  {
   "cell_type": "code",
   "execution_count": 54,
   "id": "05d70f78",
   "metadata": {
    "execution": {
     "iopub.execute_input": "2025-07-30T19:46:38.568860Z",
     "iopub.status.busy": "2025-07-30T19:46:38.568621Z",
     "iopub.status.idle": "2025-07-30T19:46:38.574300Z",
     "shell.execute_reply": "2025-07-30T19:46:38.573396Z"
    },
    "papermill": {
     "duration": 0.105686,
     "end_time": "2025-07-30T19:46:38.576282",
     "exception": false,
     "start_time": "2025-07-30T19:46:38.470596",
     "status": "completed"
    },
    "tags": []
   },
   "outputs": [],
   "source": [
    "tst_df['Survived'] = (calc_preds(tst_indep, coeffs)>0.5).int()"
   ]
  },
  {
   "cell_type": "markdown",
   "id": "9b4ad9d2",
   "metadata": {
    "papermill": {
     "duration": 0.153827,
     "end_time": "2025-07-30T19:46:38.821535",
     "exception": false,
     "start_time": "2025-07-30T19:46:38.667708",
     "status": "completed"
    },
    "tags": []
   },
   "source": [
    "The sample submission on the Kaggle competition site shows that we're expected to upload a CSV with just `PassengerId` and `Survived`, so let's create that and save it:"
   ]
  },
  {
   "cell_type": "code",
   "execution_count": 55,
   "id": "b3e01881",
   "metadata": {
    "execution": {
     "iopub.execute_input": "2025-07-30T19:46:39.021265Z",
     "iopub.status.busy": "2025-07-30T19:46:39.020999Z",
     "iopub.status.idle": "2025-07-30T19:46:39.030721Z",
     "shell.execute_reply": "2025-07-30T19:46:39.029740Z"
    },
    "papermill": {
     "duration": 0.110507,
     "end_time": "2025-07-30T19:46:39.032947",
     "exception": false,
     "start_time": "2025-07-30T19:46:38.922440",
     "status": "completed"
    },
    "tags": []
   },
   "outputs": [],
   "source": [
    "sub_df = tst_df[['PassengerId','Survived']]\n",
    "sub_df.to_csv('sub.csv', index=False)"
   ]
  },
  {
   "cell_type": "markdown",
   "id": "ea228ef4",
   "metadata": {
    "papermill": {
     "duration": 0.094791,
     "end_time": "2025-07-30T19:46:39.217761",
     "exception": false,
     "start_time": "2025-07-30T19:46:39.122970",
     "status": "completed"
    },
    "tags": []
   },
   "source": [
    "We can check the first few rows of the file to make sure it looks reasonable:"
   ]
  },
  {
   "cell_type": "code",
   "execution_count": 56,
   "id": "d03c880b",
   "metadata": {
    "execution": {
     "iopub.execute_input": "2025-07-30T19:46:39.405896Z",
     "iopub.status.busy": "2025-07-30T19:46:39.405028Z",
     "iopub.status.idle": "2025-07-30T19:46:40.598157Z",
     "shell.execute_reply": "2025-07-30T19:46:40.596886Z"
    },
    "papermill": {
     "duration": 1.291508,
     "end_time": "2025-07-30T19:46:40.600877",
     "exception": false,
     "start_time": "2025-07-30T19:46:39.309369",
     "status": "completed"
    },
    "tags": []
   },
   "outputs": [
    {
     "name": "stdout",
     "output_type": "stream",
     "text": [
      "PassengerId,Survived\r\n",
      "892,0\r\n",
      "893,0\r\n",
      "894,0\r\n",
      "895,0\r\n",
      "896,0\r\n",
      "897,0\r\n",
      "898,1\r\n",
      "899,0\r\n",
      "900,1\r\n"
     ]
    }
   ],
   "source": [
    "!head sub.csv"
   ]
  },
  {
   "cell_type": "markdown",
   "id": "cf238795",
   "metadata": {
    "papermill": {
     "duration": 0.11807,
     "end_time": "2025-07-30T19:46:40.835644",
     "exception": false,
     "start_time": "2025-07-30T19:46:40.717574",
     "status": "completed"
    },
    "tags": []
   },
   "source": [
    "When you click \"save version\" in Kaggle, and wait for the notebook to run, you'll see that `sub.csv` appears in the \"Data\" tab. Clicking on that file will show a *Submit* button, which allows you to submit to the competition."
   ]
  },
  {
   "cell_type": "markdown",
   "id": "dd40dabc",
   "metadata": {
    "papermill": {
     "duration": 0.101547,
     "end_time": "2025-07-30T19:46:41.065692",
     "exception": false,
     "start_time": "2025-07-30T19:46:40.964145",
     "status": "completed"
    },
    "tags": []
   },
   "source": [
    "## Using matrix product"
   ]
  },
  {
   "cell_type": "markdown",
   "id": "e62a93b7",
   "metadata": {
    "papermill": {
     "duration": 0.105186,
     "end_time": "2025-07-30T19:46:41.278085",
     "exception": false,
     "start_time": "2025-07-30T19:46:41.172899",
     "status": "completed"
    },
    "tags": []
   },
   "source": [
    "We can make things quite a bit neater...\n",
    "\n",
    "Take a look at the inner-most calculation we're doing to get the predictions:"
   ]
  },
  {
   "cell_type": "code",
   "execution_count": 57,
   "id": "3f507c00",
   "metadata": {
    "execution": {
     "iopub.execute_input": "2025-07-30T19:46:41.491903Z",
     "iopub.status.busy": "2025-07-30T19:46:41.491603Z",
     "iopub.status.idle": "2025-07-30T19:46:41.502190Z",
     "shell.execute_reply": "2025-07-30T19:46:41.501111Z"
    },
    "papermill": {
     "duration": 0.111607,
     "end_time": "2025-07-30T19:46:41.504494",
     "exception": false,
     "start_time": "2025-07-30T19:46:41.392887",
     "status": "completed"
    },
    "tags": []
   },
   "outputs": [
    {
     "data": {
      "text/plain": [
       "tensor([ 12.3288, -14.8119, -15.4540, -13.1513, -13.3512, -13.6469,   3.6248,   5.3429, -22.0878,   3.1233, -21.8742, -15.6421, -21.5504,\n",
       "          3.9393, -21.9190, -12.0010, -12.3775,   5.3550, -13.5880,  -3.1015, -21.7237, -12.2081,  12.9767,   4.7427, -21.6525, -14.9135,\n",
       "         -2.7433, -12.3210, -21.5886,   3.9387,   5.3890,  -3.6196, -21.6296, -21.8454,  12.2159,  -3.2275, -12.0289,  13.4560, -21.7230,\n",
       "         -3.1366, -13.2462, -21.7230, -13.6831,  13.3092, -21.6477,  -3.5868, -21.6854, -21.8316, -14.8158,  -2.9386,  -5.3103, -22.2384,\n",
       "        -22.1097, -21.7466, -13.3780, -13.4909, -14.8119, -22.0690, -21.6666, -21.7818,  -5.4439, -21.7407, -12.6551, -21.6671,   4.9238,\n",
       "        -11.5777, -13.3323, -21.9638, -15.3030,   5.0243, -21.7614,   3.1820, -13.4721, -21.7170, -11.6066, -21.5737, -21.7230, -11.9652,\n",
       "        -13.2382, -13.7599, -13.2170,  13.1347, -21.7049, -21.7268,   4.9207,  -7.3198,  -5.3081,   7.1065,  11.4948, -13.3135, -21.8723,\n",
       "        -21.7230,  13.3603, -15.5670,   3.4105,  -7.2857, -13.7197,   3.6909,   3.9763, -14.7227, -21.8268,   3.9387, -21.8743, -21.8367,\n",
       "        -11.8518, -13.6712, -21.8299,   4.9440,  -5.4471, -21.9666,   5.1333,  -3.2187, -11.6008,  13.7920, -21.7230,  12.6369,  -3.7268,\n",
       "        -14.8119, -22.0637,  12.9468, -22.1610,  -6.1827, -14.8119,  -3.2838, -15.4540, -11.6950,  -2.9926,  -3.0110, -21.5664, -13.8268,\n",
       "          7.3426, -21.8418,   5.0744,   5.2582,  13.3415, -21.6289, -13.9898, -21.8112,  -7.3316,   5.2296, -13.4453,  12.7891, -22.1235,\n",
       "        -14.9625,  -3.4339,   6.3089, -21.9839,   3.1968,   7.2400,   2.8558,  -3.1187,   3.7965,   5.4667, -15.1101, -15.0597, -22.9391,\n",
       "        -21.7230,  -3.0346, -13.5206, -21.7011,  13.4425,  -7.2690, -21.8335, -12.0582,  13.0489,   6.7993,   5.2160,   5.0794, -12.6957,\n",
       "        -12.1838,  -3.0873, -21.6070,   7.0744, -21.7170, -22.1001,   6.8159, -11.6002, -21.6310])"
      ]
     },
     "execution_count": 57,
     "metadata": {},
     "output_type": "execute_result"
    }
   ],
   "source": [
    "(val_indep*coeffs).sum(axis=1)"
   ]
  },
  {
   "cell_type": "markdown",
   "id": "594b61b5",
   "metadata": {
    "papermill": {
     "duration": 0.095894,
     "end_time": "2025-07-30T19:46:41.703258",
     "exception": false,
     "start_time": "2025-07-30T19:46:41.607364",
     "status": "completed"
    },
    "tags": []
   },
   "source": [
    "Multiplying elements together and then adding across rows is identical to doing a matrix-vector product! Python uses the `@` operator to indicate matrix products, and is supported by PyTorch tensors. Therefore, we can replicate the above calculate more simply like so:"
   ]
  },
  {
   "cell_type": "code",
   "execution_count": 58,
   "id": "c8bc28f1",
   "metadata": {
    "execution": {
     "iopub.execute_input": "2025-07-30T19:46:41.894293Z",
     "iopub.status.busy": "2025-07-30T19:46:41.894014Z",
     "iopub.status.idle": "2025-07-30T19:46:41.905549Z",
     "shell.execute_reply": "2025-07-30T19:46:41.904721Z"
    },
    "papermill": {
     "duration": 0.107865,
     "end_time": "2025-07-30T19:46:41.907585",
     "exception": false,
     "start_time": "2025-07-30T19:46:41.799720",
     "status": "completed"
    },
    "tags": []
   },
   "outputs": [
    {
     "data": {
      "text/plain": [
       "tensor([ 12.3288, -14.8119, -15.4540, -13.1513, -13.3511, -13.6468,   3.6248,   5.3429, -22.0878,   3.1233, -21.8742, -15.6421, -21.5504,\n",
       "          3.9393, -21.9190, -12.0010, -12.3775,   5.3550, -13.5880,  -3.1015, -21.7237, -12.2081,  12.9767,   4.7427, -21.6525, -14.9135,\n",
       "         -2.7433, -12.3210, -21.5886,   3.9387,   5.3890,  -3.6196, -21.6296, -21.8454,  12.2159,  -3.2275, -12.0289,  13.4560, -21.7230,\n",
       "         -3.1366, -13.2462, -21.7230, -13.6831,  13.3092, -21.6477,  -3.5868, -21.6854, -21.8316, -14.8158,  -2.9386,  -5.3103, -22.2384,\n",
       "        -22.1097, -21.7466, -13.3780, -13.4909, -14.8119, -22.0690, -21.6666, -21.7818,  -5.4439, -21.7407, -12.6551, -21.6671,   4.9238,\n",
       "        -11.5777, -13.3323, -21.9638, -15.3030,   5.0243, -21.7614,   3.1820, -13.4721, -21.7170, -11.6066, -21.5737, -21.7230, -11.9652,\n",
       "        -13.2382, -13.7599, -13.2170,  13.1347, -21.7049, -21.7268,   4.9207,  -7.3198,  -5.3081,   7.1065,  11.4948, -13.3135, -21.8723,\n",
       "        -21.7230,  13.3603, -15.5670,   3.4105,  -7.2857, -13.7197,   3.6909,   3.9763, -14.7227, -21.8268,   3.9387, -21.8743, -21.8367,\n",
       "        -11.8518, -13.6712, -21.8299,   4.9440,  -5.4471, -21.9666,   5.1333,  -3.2187, -11.6008,  13.7920, -21.7230,  12.6369,  -3.7268,\n",
       "        -14.8119, -22.0637,  12.9468, -22.1610,  -6.1827, -14.8119,  -3.2838, -15.4540, -11.6950,  -2.9926,  -3.0110, -21.5664, -13.8268,\n",
       "          7.3426, -21.8418,   5.0744,   5.2582,  13.3415, -21.6289, -13.9898, -21.8112,  -7.3316,   5.2296, -13.4453,  12.7891, -22.1235,\n",
       "        -14.9625,  -3.4339,   6.3089, -21.9839,   3.1968,   7.2400,   2.8558,  -3.1187,   3.7965,   5.4667, -15.1101, -15.0597, -22.9391,\n",
       "        -21.7230,  -3.0346, -13.5206, -21.7011,  13.4425,  -7.2690, -21.8335, -12.0582,  13.0489,   6.7993,   5.2160,   5.0794, -12.6957,\n",
       "        -12.1838,  -3.0873, -21.6070,   7.0744, -21.7170, -22.1001,   6.8159, -11.6002, -21.6310])"
      ]
     },
     "execution_count": 58,
     "metadata": {},
     "output_type": "execute_result"
    }
   ],
   "source": [
    "val_indep@coeffs"
   ]
  },
  {
   "cell_type": "markdown",
   "id": "a2c98e45",
   "metadata": {
    "papermill": {
     "duration": 0.092477,
     "end_time": "2025-07-30T19:46:42.094776",
     "exception": false,
     "start_time": "2025-07-30T19:46:42.002299",
     "status": "completed"
    },
    "tags": []
   },
   "source": [
    "It also turns out that this is much faster, because matrix products in PyTorch are very highly optimised.\n",
    "\n",
    "Let's use this to replace how `calc_preds` works:"
   ]
  },
  {
   "cell_type": "code",
   "execution_count": 59,
   "id": "8714ba13",
   "metadata": {
    "execution": {
     "iopub.execute_input": "2025-07-30T19:46:42.286519Z",
     "iopub.status.busy": "2025-07-30T19:46:42.286291Z",
     "iopub.status.idle": "2025-07-30T19:46:42.290848Z",
     "shell.execute_reply": "2025-07-30T19:46:42.289845Z"
    },
    "papermill": {
     "duration": 0.102472,
     "end_time": "2025-07-30T19:46:42.292545",
     "exception": false,
     "start_time": "2025-07-30T19:46:42.190073",
     "status": "completed"
    },
    "tags": []
   },
   "outputs": [],
   "source": [
    "def calc_preds(coeffs, indeps): return torch.sigmoid(indeps@coeffs)"
   ]
  },
  {
   "cell_type": "markdown",
   "id": "91378f42",
   "metadata": {
    "papermill": {
     "duration": 0.095507,
     "end_time": "2025-07-30T19:46:42.481874",
     "exception": false,
     "start_time": "2025-07-30T19:46:42.386367",
     "status": "completed"
    },
    "tags": []
   },
   "source": [
    "In order to do matrix-matrix products (which we'll need in the next section), we need to turn `coeffs` into a column vector (i.e. a matrix with a single column), which we can do by passing a second argument `1` to `torch.rand()`, indicating that we want our coefficients to have one column:"
   ]
  },
  {
   "cell_type": "code",
   "execution_count": 60,
   "id": "54fc56b7",
   "metadata": {
    "execution": {
     "iopub.execute_input": "2025-07-30T19:46:42.671294Z",
     "iopub.status.busy": "2025-07-30T19:46:42.671001Z",
     "iopub.status.idle": "2025-07-30T19:46:42.675219Z",
     "shell.execute_reply": "2025-07-30T19:46:42.674452Z"
    },
    "papermill": {
     "duration": 0.098688,
     "end_time": "2025-07-30T19:46:42.676959",
     "exception": false,
     "start_time": "2025-07-30T19:46:42.578271",
     "status": "completed"
    },
    "tags": []
   },
   "outputs": [],
   "source": [
    "def init_coeffs(): return (torch.rand(n_coeff, 1)*0.1).requires_grad_()"
   ]
  },
  {
   "cell_type": "markdown",
   "id": "a597462d",
   "metadata": {
    "papermill": {
     "duration": 0.094567,
     "end_time": "2025-07-30T19:46:42.863301",
     "exception": false,
     "start_time": "2025-07-30T19:46:42.768734",
     "status": "completed"
    },
    "tags": []
   },
   "source": [
    "We'll also need to turn our dependent variable into a column vector, which we can do by indexing the column dimension with the special value `None`, which tells PyTorch to add a new dimension in this position:"
   ]
  },
  {
   "cell_type": "code",
   "execution_count": 61,
   "id": "e9596593",
   "metadata": {
    "execution": {
     "iopub.execute_input": "2025-07-30T19:46:43.050741Z",
     "iopub.status.busy": "2025-07-30T19:46:43.050486Z",
     "iopub.status.idle": "2025-07-30T19:46:43.054794Z",
     "shell.execute_reply": "2025-07-30T19:46:43.053920Z"
    },
    "papermill": {
     "duration": 0.100471,
     "end_time": "2025-07-30T19:46:43.056839",
     "exception": false,
     "start_time": "2025-07-30T19:46:42.956368",
     "status": "completed"
    },
    "tags": []
   },
   "outputs": [],
   "source": [
    "trn_dep = trn_dep[:,None]\n",
    "val_dep = val_dep[:,None]"
   ]
  },
  {
   "cell_type": "markdown",
   "id": "ca4cd909",
   "metadata": {
    "papermill": {
     "duration": 0.093379,
     "end_time": "2025-07-30T19:46:43.240676",
     "exception": false,
     "start_time": "2025-07-30T19:46:43.147297",
     "status": "completed"
    },
    "tags": []
   },
   "source": [
    "We can now train our model as before and confirm we get identical outputs...:"
   ]
  },
  {
   "cell_type": "code",
   "execution_count": 62,
   "id": "f279358a",
   "metadata": {
    "execution": {
     "iopub.execute_input": "2025-07-30T19:46:43.430638Z",
     "iopub.status.busy": "2025-07-30T19:46:43.430324Z",
     "iopub.status.idle": "2025-07-30T19:46:43.450026Z",
     "shell.execute_reply": "2025-07-30T19:46:43.449001Z"
    },
    "papermill": {
     "duration": 0.11539,
     "end_time": "2025-07-30T19:46:43.452047",
     "exception": false,
     "start_time": "2025-07-30T19:46:43.336657",
     "status": "completed"
    },
    "tags": []
   },
   "outputs": [
    {
     "name": "stdout",
     "output_type": "stream",
     "text": [
      "0.512; 0.323; 0.290; 0.205; 0.200; 0.198; 0.197; 0.197; 0.196; 0.196; 0.196; 0.195; 0.195; 0.195; 0.195; 0.195; 0.195; 0.194; 0.194; 0.194; 0.194; 0.194; 0.194; 0.194; 0.194; 0.194; 0.194; 0.194; 0.194; 0.194; "
     ]
    }
   ],
   "source": [
    "coeffs = train_model(lr=100)"
   ]
  },
  {
   "cell_type": "markdown",
   "id": "425e3528",
   "metadata": {
    "papermill": {
     "duration": 0.09192,
     "end_time": "2025-07-30T19:46:43.636027",
     "exception": false,
     "start_time": "2025-07-30T19:46:43.544107",
     "status": "completed"
    },
    "tags": []
   },
   "source": [
    "...and identical accuracy:"
   ]
  },
  {
   "cell_type": "code",
   "execution_count": 63,
   "id": "c85fd382",
   "metadata": {
    "execution": {
     "iopub.execute_input": "2025-07-30T19:46:43.826725Z",
     "iopub.status.busy": "2025-07-30T19:46:43.826467Z",
     "iopub.status.idle": "2025-07-30T19:46:43.832871Z",
     "shell.execute_reply": "2025-07-30T19:46:43.832061Z"
    },
    "papermill": {
     "duration": 0.104615,
     "end_time": "2025-07-30T19:46:43.834908",
     "exception": false,
     "start_time": "2025-07-30T19:46:43.730293",
     "status": "completed"
    },
    "tags": []
   },
   "outputs": [
    {
     "data": {
      "text/plain": [
       "tensor(0.8258)"
      ]
     },
     "execution_count": 63,
     "metadata": {},
     "output_type": "execute_result"
    }
   ],
   "source": [
    "acc(coeffs)"
   ]
  },
  {
   "cell_type": "markdown",
   "id": "4086df1f",
   "metadata": {
    "papermill": {
     "duration": 0.093241,
     "end_time": "2025-07-30T19:46:44.022184",
     "exception": false,
     "start_time": "2025-07-30T19:46:43.928943",
     "status": "completed"
    },
    "tags": []
   },
   "source": [
    "## A neural network"
   ]
  },
  {
   "cell_type": "markdown",
   "id": "11141b7c",
   "metadata": {
    "papermill": {
     "duration": 0.093213,
     "end_time": "2025-07-30T19:46:44.211072",
     "exception": false,
     "start_time": "2025-07-30T19:46:44.117859",
     "status": "completed"
    },
    "tags": []
   },
   "source": [
    "We've now got what we need to implement our neural network.\n",
    "\n",
    "First, we'll need to create coefficients for each of our layers. Our first set of coefficients will take our `n_coeff` inputs, and create `n_hidden` outputs. We can choose whatever `n_hidden` we like -- a higher number gives our network more flexibility, but makes it slower and harder to train. So we need a matrix of size `n_coeff` by `n_hidden`. We'll divide these coefficients by `n_hidden` so that when we sum them up in the next layer we'll end up with similar magnitude numbers to what we started with.\n",
    "\n",
    "Then our second layer will need to take the `n_hidden` inputs and create a single output, so that means we need a `n_hidden` by `1` matrix there. The second layer will also need a constant term added."
   ]
  },
  {
   "cell_type": "code",
   "execution_count": 64,
   "id": "95282e27",
   "metadata": {
    "execution": {
     "iopub.execute_input": "2025-07-30T19:46:44.396144Z",
     "iopub.status.busy": "2025-07-30T19:46:44.395862Z",
     "iopub.status.idle": "2025-07-30T19:46:44.400922Z",
     "shell.execute_reply": "2025-07-30T19:46:44.400028Z"
    },
    "papermill": {
     "duration": 0.099704,
     "end_time": "2025-07-30T19:46:44.402895",
     "exception": false,
     "start_time": "2025-07-30T19:46:44.303191",
     "status": "completed"
    },
    "tags": []
   },
   "outputs": [],
   "source": [
    "def init_coeffs(n_hidden=20):\n",
    "    layer1 = (torch.rand(n_coeff, n_hidden)-0.5)/n_hidden\n",
    "    layer2 = torch.rand(n_hidden, 1)-0.3\n",
    "    const = torch.rand(1)[0]\n",
    "    return layer1.requires_grad_(),layer2.requires_grad_(),const.requires_grad_()"
   ]
  },
  {
   "cell_type": "markdown",
   "id": "4134d946",
   "metadata": {
    "papermill": {
     "duration": 0.094318,
     "end_time": "2025-07-30T19:46:44.590305",
     "exception": false,
     "start_time": "2025-07-30T19:46:44.495987",
     "status": "completed"
    },
    "tags": []
   },
   "source": [
    "Now we have our coefficients, we can create our neural net. The key steps are the two matrix products, `indeps@l1` and `res@l2` (where `res` is the output of the first layer). The first layer output is passed to `F.relu` (that's our non-linearity), and the second is passed to `torch.sigmoid` as before."
   ]
  },
  {
   "cell_type": "code",
   "execution_count": 65,
   "id": "666ded20",
   "metadata": {
    "execution": {
     "iopub.execute_input": "2025-07-30T19:46:44.778847Z",
     "iopub.status.busy": "2025-07-30T19:46:44.778614Z",
     "iopub.status.idle": "2025-07-30T19:46:44.783593Z",
     "shell.execute_reply": "2025-07-30T19:46:44.782649Z"
    },
    "papermill": {
     "duration": 0.103488,
     "end_time": "2025-07-30T19:46:44.785514",
     "exception": false,
     "start_time": "2025-07-30T19:46:44.682026",
     "status": "completed"
    },
    "tags": []
   },
   "outputs": [],
   "source": [
    "import torch.nn.functional as F\n",
    "\n",
    "def calc_preds(coeffs, indeps):\n",
    "    l1,l2,const = coeffs\n",
    "    res = F.relu(indeps@l1)\n",
    "    res = res@l2 + const\n",
    "    return torch.sigmoid(res)"
   ]
  },
  {
   "cell_type": "markdown",
   "id": "3f9460b3",
   "metadata": {
    "papermill": {
     "duration": 0.097093,
     "end_time": "2025-07-30T19:46:44.978756",
     "exception": false,
     "start_time": "2025-07-30T19:46:44.881663",
     "status": "completed"
    },
    "tags": []
   },
   "source": [
    "Finally, now that we have more than one set of coefficients, we need to add a loop to update each one:"
   ]
  },
  {
   "cell_type": "code",
   "execution_count": 66,
   "id": "f98b5e24",
   "metadata": {
    "execution": {
     "iopub.execute_input": "2025-07-30T19:46:45.167367Z",
     "iopub.status.busy": "2025-07-30T19:46:45.167094Z",
     "iopub.status.idle": "2025-07-30T19:46:45.172513Z",
     "shell.execute_reply": "2025-07-30T19:46:45.171150Z"
    },
    "papermill": {
     "duration": 0.100258,
     "end_time": "2025-07-30T19:46:45.174794",
     "exception": false,
     "start_time": "2025-07-30T19:46:45.074536",
     "status": "completed"
    },
    "tags": []
   },
   "outputs": [],
   "source": [
    "def update_coeffs(coeffs, lr):\n",
    "    for layer in coeffs:\n",
    "        layer.sub_(layer.grad * lr)\n",
    "        layer.grad.zero_()"
   ]
  },
  {
   "cell_type": "markdown",
   "id": "aa44f2f1",
   "metadata": {
    "papermill": {
     "duration": 0.091644,
     "end_time": "2025-07-30T19:46:45.361050",
     "exception": false,
     "start_time": "2025-07-30T19:46:45.269406",
     "status": "completed"
    },
    "tags": []
   },
   "source": [
    "That's it -- we're now ready to train our model!"
   ]
  },
  {
   "cell_type": "code",
   "execution_count": 67,
   "id": "fdabfe23",
   "metadata": {
    "execution": {
     "iopub.execute_input": "2025-07-30T19:46:45.548284Z",
     "iopub.status.busy": "2025-07-30T19:46:45.547976Z",
     "iopub.status.idle": "2025-07-30T19:46:45.581085Z",
     "shell.execute_reply": "2025-07-30T19:46:45.579997Z"
    },
    "papermill": {
     "duration": 0.130077,
     "end_time": "2025-07-30T19:46:45.583414",
     "exception": false,
     "start_time": "2025-07-30T19:46:45.453337",
     "status": "completed"
    },
    "tags": []
   },
   "outputs": [
    {
     "name": "stdout",
     "output_type": "stream",
     "text": [
      "0.543; 0.532; 0.520; 0.505; 0.487; 0.466; 0.439; 0.407; 0.373; 0.343; 0.319; 0.301; 0.286; 0.274; 0.264; 0.256; 0.250; 0.245; 0.240; 0.237; 0.234; 0.231; 0.229; 0.227; 0.226; 0.224; 0.223; 0.222; 0.221; 0.220; "
     ]
    }
   ],
   "source": [
    "coeffs = train_model(lr=1.4)"
   ]
  },
  {
   "cell_type": "code",
   "execution_count": 68,
   "id": "efb61995",
   "metadata": {
    "execution": {
     "iopub.execute_input": "2025-07-30T19:46:45.773476Z",
     "iopub.status.busy": "2025-07-30T19:46:45.773043Z",
     "iopub.status.idle": "2025-07-30T19:46:45.799421Z",
     "shell.execute_reply": "2025-07-30T19:46:45.798471Z"
    },
    "papermill": {
     "duration": 0.124139,
     "end_time": "2025-07-30T19:46:45.801453",
     "exception": false,
     "start_time": "2025-07-30T19:46:45.677314",
     "status": "completed"
    },
    "tags": []
   },
   "outputs": [
    {
     "name": "stdout",
     "output_type": "stream",
     "text": [
      "0.543; 0.400; 0.260; 0.390; 0.221; 0.211; 0.197; 0.195; 0.193; 0.193; 0.193; 0.193; 0.193; 0.193; 0.193; 0.193; 0.193; 0.192; 0.192; 0.192; 0.192; 0.192; 0.192; 0.192; 0.192; 0.192; 0.192; 0.192; 0.192; 0.192; "
     ]
    }
   ],
   "source": [
    "coeffs = train_model(lr=20)"
   ]
  },
  {
   "cell_type": "markdown",
   "id": "fc22d171",
   "metadata": {
    "papermill": {
     "duration": 0.094323,
     "end_time": "2025-07-30T19:46:45.994280",
     "exception": false,
     "start_time": "2025-07-30T19:46:45.899957",
     "status": "completed"
    },
    "tags": []
   },
   "source": [
    "It's looking good -- our loss is lower than before. Let's see if that translates to a better result on the validation set:"
   ]
  },
  {
   "cell_type": "code",
   "execution_count": 69,
   "id": "62feff2d",
   "metadata": {
    "execution": {
     "iopub.execute_input": "2025-07-30T19:46:46.183947Z",
     "iopub.status.busy": "2025-07-30T19:46:46.183717Z",
     "iopub.status.idle": "2025-07-30T19:46:46.191323Z",
     "shell.execute_reply": "2025-07-30T19:46:46.190424Z"
    },
    "papermill": {
     "duration": 0.104092,
     "end_time": "2025-07-30T19:46:46.193446",
     "exception": false,
     "start_time": "2025-07-30T19:46:46.089354",
     "status": "completed"
    },
    "tags": []
   },
   "outputs": [
    {
     "data": {
      "text/plain": [
       "tensor(0.8258)"
      ]
     },
     "execution_count": 69,
     "metadata": {},
     "output_type": "execute_result"
    }
   ],
   "source": [
    "acc(coeffs)"
   ]
  },
  {
   "cell_type": "markdown",
   "id": "199b6da4",
   "metadata": {
    "papermill": {
     "duration": 0.101912,
     "end_time": "2025-07-30T19:46:46.393258",
     "exception": false,
     "start_time": "2025-07-30T19:46:46.291346",
     "status": "completed"
    },
    "tags": []
   },
   "source": [
    "In this case our neural net isn't showing better results than the linear model. That's not surprising; this dataset is very small and very simple, and isn't the kind of thing we'd expect to see neural networks excel at. Furthermore, our validation set is too small to reliably see much accuracy difference. But the key thing is that we now know exactly what a real neural net looks like!"
   ]
  },
  {
   "cell_type": "markdown",
   "id": "9058c5fd",
   "metadata": {
    "papermill": {
     "duration": 0.097169,
     "end_time": "2025-07-30T19:46:46.589524",
     "exception": false,
     "start_time": "2025-07-30T19:46:46.492355",
     "status": "completed"
    },
    "tags": []
   },
   "source": [
    "## Deep learning"
   ]
  },
  {
   "cell_type": "markdown",
   "id": "d442f872",
   "metadata": {
    "papermill": {
     "duration": 0.102424,
     "end_time": "2025-07-30T19:46:46.785523",
     "exception": false,
     "start_time": "2025-07-30T19:46:46.683099",
     "status": "completed"
    },
    "tags": []
   },
   "source": [
    "The neural net in the previous section only uses one hidden layer, so it doesn't count as \"deep\" learning. But we can use the exact same technique to make our neural net deep, by adding more matrix multiplications.\n",
    "\n",
    "First, we'll need to create additional coefficients for each layer:"
   ]
  },
  {
   "cell_type": "code",
   "execution_count": 70,
   "id": "78af1c41",
   "metadata": {
    "execution": {
     "iopub.execute_input": "2025-07-30T19:46:46.991376Z",
     "iopub.status.busy": "2025-07-30T19:46:46.990337Z",
     "iopub.status.idle": "2025-07-30T19:46:46.997150Z",
     "shell.execute_reply": "2025-07-30T19:46:46.996222Z"
    },
    "papermill": {
     "duration": 0.106955,
     "end_time": "2025-07-30T19:46:46.999253",
     "exception": false,
     "start_time": "2025-07-30T19:46:46.892298",
     "status": "completed"
    },
    "tags": []
   },
   "outputs": [],
   "source": [
    "def init_coeffs():\n",
    "    hiddens = [10, 10]  # <-- set this to the size of each hidden layer you want\n",
    "    sizes = [n_coeff] + hiddens + [1]\n",
    "    n = len(sizes)\n",
    "    layers = [(torch.rand(sizes[i], sizes[i+1])-0.3)/sizes[i+1]*4 for i in range(n-1)]\n",
    "    consts = [(torch.rand(1)[0]-0.5)*0.1 for i in range(n-1)]\n",
    "    for l in layers+consts: l.requires_grad_()\n",
    "    return layers,consts"
   ]
  },
  {
   "cell_type": "markdown",
   "id": "785bcac7",
   "metadata": {
    "papermill": {
     "duration": 0.098811,
     "end_time": "2025-07-30T19:46:47.196840",
     "exception": false,
     "start_time": "2025-07-30T19:46:47.098029",
     "status": "completed"
    },
    "tags": []
   },
   "source": [
    "You'll notice here that there's a lot of messy constants to get the random numbers in just the right ranges. When you train the model in a moment, you'll see that the tiniest changes to these initialisations can cause our model to fail to train at all! This is a key reason that deep learning failed to make much progress in the early days -- it's very finicky to get a good starting point for our coefficients. Nowadays, we have ways to deal with that, which we'll learn about in other notebooks.\n",
    "\n",
    "Our deep learning `calc_preds` looks much the same as before, but now we loop through each layer, instead of listing them separately:"
   ]
  },
  {
   "cell_type": "code",
   "execution_count": 71,
   "id": "4a90dc0b",
   "metadata": {
    "execution": {
     "iopub.execute_input": "2025-07-30T19:46:47.396259Z",
     "iopub.status.busy": "2025-07-30T19:46:47.395885Z",
     "iopub.status.idle": "2025-07-30T19:46:47.401486Z",
     "shell.execute_reply": "2025-07-30T19:46:47.400699Z"
    },
    "papermill": {
     "duration": 0.108267,
     "end_time": "2025-07-30T19:46:47.403501",
     "exception": false,
     "start_time": "2025-07-30T19:46:47.295234",
     "status": "completed"
    },
    "tags": []
   },
   "outputs": [],
   "source": [
    "import torch.nn.functional as F\n",
    "\n",
    "def calc_preds(coeffs, indeps):\n",
    "    layers,consts = coeffs\n",
    "    n = len(layers)\n",
    "    res = indeps\n",
    "    for i,l in enumerate(layers):\n",
    "        res = res@l + consts[i]\n",
    "        if i!=n-1: res = F.relu(res)\n",
    "    return torch.sigmoid(res)"
   ]
  },
  {
   "cell_type": "markdown",
   "id": "99635511",
   "metadata": {
    "papermill": {
     "duration": 0.102123,
     "end_time": "2025-07-30T19:46:47.608020",
     "exception": false,
     "start_time": "2025-07-30T19:46:47.505897",
     "status": "completed"
    },
    "tags": []
   },
   "source": [
    "We also need a minor update to `update_coeffs` since we've got `layers` and `consts` separated now:"
   ]
  },
  {
   "cell_type": "code",
   "execution_count": 72,
   "id": "5ea355e5",
   "metadata": {
    "execution": {
     "iopub.execute_input": "2025-07-30T19:46:47.798923Z",
     "iopub.status.busy": "2025-07-30T19:46:47.798614Z",
     "iopub.status.idle": "2025-07-30T19:46:47.803243Z",
     "shell.execute_reply": "2025-07-30T19:46:47.802258Z"
    },
    "papermill": {
     "duration": 0.105093,
     "end_time": "2025-07-30T19:46:47.805626",
     "exception": false,
     "start_time": "2025-07-30T19:46:47.700533",
     "status": "completed"
    },
    "tags": []
   },
   "outputs": [],
   "source": [
    "def update_coeffs(coeffs, lr):\n",
    "    layers,consts = coeffs\n",
    "    for layer in layers+consts:\n",
    "        layer.sub_(layer.grad * lr)\n",
    "        layer.grad.zero_()"
   ]
  },
  {
   "cell_type": "markdown",
   "id": "8f611f9b",
   "metadata": {
    "papermill": {
     "duration": 0.096161,
     "end_time": "2025-07-30T19:46:47.998933",
     "exception": false,
     "start_time": "2025-07-30T19:46:47.902772",
     "status": "completed"
    },
    "tags": []
   },
   "source": [
    "Let's train our model..."
   ]
  },
  {
   "cell_type": "code",
   "execution_count": 73,
   "id": "7995c23c",
   "metadata": {
    "execution": {
     "iopub.execute_input": "2025-07-30T19:46:48.195477Z",
     "iopub.status.busy": "2025-07-30T19:46:48.195182Z",
     "iopub.status.idle": "2025-07-30T19:46:48.227993Z",
     "shell.execute_reply": "2025-07-30T19:46:48.227285Z"
    },
    "papermill": {
     "duration": 0.133974,
     "end_time": "2025-07-30T19:46:48.230271",
     "exception": false,
     "start_time": "2025-07-30T19:46:48.096297",
     "status": "completed"
    },
    "tags": []
   },
   "outputs": [
    {
     "name": "stdout",
     "output_type": "stream",
     "text": [
      "0.521; 0.483; 0.427; 0.379; 0.379; 0.379; 0.379; 0.378; 0.378; 0.378; 0.378; 0.378; 0.378; 0.378; 0.378; 0.378; 0.377; 0.376; 0.371; 0.333; 0.239; 0.224; 0.208; 0.204; 0.203; 0.203; 0.207; 0.197; 0.196; 0.195; "
     ]
    }
   ],
   "source": [
    "coeffs = train_model(lr=4)"
   ]
  },
  {
   "cell_type": "markdown",
   "id": "4adf52bc",
   "metadata": {
    "papermill": {
     "duration": 0.092856,
     "end_time": "2025-07-30T19:46:48.418340",
     "exception": false,
     "start_time": "2025-07-30T19:46:48.325484",
     "status": "completed"
    },
    "tags": []
   },
   "source": [
    "...and check its accuracy:"
   ]
  },
  {
   "cell_type": "code",
   "execution_count": 74,
   "id": "0986e953",
   "metadata": {
    "execution": {
     "iopub.execute_input": "2025-07-30T19:46:48.611481Z",
     "iopub.status.busy": "2025-07-30T19:46:48.611235Z",
     "iopub.status.idle": "2025-07-30T19:46:48.617906Z",
     "shell.execute_reply": "2025-07-30T19:46:48.617114Z"
    },
    "papermill": {
     "duration": 0.104936,
     "end_time": "2025-07-30T19:46:48.619724",
     "exception": false,
     "start_time": "2025-07-30T19:46:48.514788",
     "status": "completed"
    },
    "tags": []
   },
   "outputs": [
    {
     "data": {
      "text/plain": [
       "tensor(0.8258)"
      ]
     },
     "execution_count": 74,
     "metadata": {},
     "output_type": "execute_result"
    }
   ],
   "source": [
    "acc(coeffs)"
   ]
  },
  {
   "cell_type": "markdown",
   "id": "f9a621fd",
   "metadata": {
    "papermill": {
     "duration": 0.094683,
     "end_time": "2025-07-30T19:46:48.809576",
     "exception": false,
     "start_time": "2025-07-30T19:46:48.714893",
     "status": "completed"
    },
    "tags": []
   },
   "source": [
    "## Final thoughts"
   ]
  },
  {
   "cell_type": "markdown",
   "id": "119a9a95",
   "metadata": {
    "papermill": {
     "duration": 0.10012,
     "end_time": "2025-07-30T19:46:49.011755",
     "exception": false,
     "start_time": "2025-07-30T19:46:48.911635",
     "status": "completed"
    },
    "tags": []
   },
   "source": [
    "It's actually pretty cool that we've managed to create a real deep learning model from scratch and trained it to get over 80% accuracy on this task, all in the course of a single notebook!\n",
    "\n",
    "The \"real\" deep learning models that are used in research and industry look very similar to this, and in fact if you look inside the source code of any deep learning model you'll recognise the basic steps are the same.\n",
    "\n",
    "The biggest differences in practical models to what we have above are:\n",
    "\n",
    "- How initialisation and normalisation is done to ensure the model trains correctly every time\n",
    "- Regularization (to avoid over-fitting)\n",
    "- Modifying the neural net itself to take advantage of knowledge of the problem domain\n",
    "- Doing gradient descent steps on smaller batches, rather than the whole dataset.\n",
    "\n",
    "I'll be adding notebooks about all these later, and will add links here once they're ready.\n",
    "\n",
    "If you found this notebook useful, please remember to click the little up-arrow at the top to upvote it, since I like to know when people have found my work useful, and it helps others find it too. (BTW, be sure you're looking at my [original notebook here](https://www.kaggle.com/code/jhoward/linear-model-and-neural-net-from-scratch) when you do that, and are not on your own copy of it, otherwise your upvote won't get counted!) And if you have any questions or comments, please pop them below -- I read every comment I receive!"
   ]
  },
  {
   "cell_type": "code",
   "execution_count": null,
   "id": "58ce9f7a",
   "metadata": {
    "papermill": {
     "duration": 0.096294,
     "end_time": "2025-07-30T19:46:49.206845",
     "exception": false,
     "start_time": "2025-07-30T19:46:49.110551",
     "status": "completed"
    },
    "tags": []
   },
   "outputs": [],
   "source": []
  }
 ],
 "metadata": {
  "kaggle": {
   "accelerator": "none",
   "dataSources": [
    {
     "databundleVersionId": 26502,
     "sourceId": 3136,
     "sourceType": "competition"
    }
   ],
   "dockerImageVersionId": 30184,
   "isGpuEnabled": false,
   "isInternetEnabled": true,
   "language": "python",
   "sourceType": "notebook"
  },
  "kernelspec": {
   "display_name": "Python 3",
   "language": "python",
   "name": "python3"
  },
  "language_info": {
   "codemirror_mode": {
    "name": "ipython",
    "version": 3
   },
   "file_extension": ".py",
   "mimetype": "text/x-python",
   "name": "python",
   "nbconvert_exporter": "python",
   "pygments_lexer": "ipython3",
   "version": "3.7.12"
  },
  "papermill": {
   "default_parameters": {},
   "duration": 46.185482,
   "end_time": "2025-07-30T19:46:50.224633",
   "environment_variables": {},
   "exception": null,
   "input_path": "__notebook__.ipynb",
   "output_path": "__notebook__.ipynb",
   "parameters": {},
   "start_time": "2025-07-30T19:46:04.039151",
   "version": "2.3.4"
  }
 },
 "nbformat": 4,
 "nbformat_minor": 5
}
